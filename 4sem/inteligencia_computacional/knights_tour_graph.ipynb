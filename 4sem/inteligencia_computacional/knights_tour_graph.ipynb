{
 "cells": [
  {
   "cell_type": "code",
   "execution_count": 20,
   "metadata": {
    "colab": {
     "base_uri": "https://localhost:8080/"
    },
    "id": "N9JHJRm1szID",
    "outputId": "50e16592-3d1a-41b7-e3d7-a5bf1c823b6c"
   },
   "outputs": [],
   "source": [
    "# !pip install wheel\n",
    "# !pip install pythonds\n",
    "# !pip install python-igraph==0.8.2\n",
    "# !pip install cairocffi\n",
    "# !pip install pycairo\n",
    "# !apt install libcairo2-dev"
   ]
  },
  {
   "cell_type": "code",
   "execution_count": 1,
   "metadata": {
    "id": "gAo-3b11v8zD",
    "tags": []
   },
   "outputs": [],
   "source": [
    "import igraph"
   ]
  },
  {
   "cell_type": "code",
   "execution_count": 5,
   "metadata": {
    "id": "Sol686ScwIvz"
   },
   "outputs": [],
   "source": [
    "# Helper functions\n",
    "def convert_to_node_id(row, column, board_size):\n",
    "    ''' Converts row and column IDs into a single number ID '''\n",
    "    return (row * board_size) + column\n",
    "\n",
    "def generate_legal_moves(x, y, board_size):\n",
    "    ''' Generates all legal moves for a knight in a specific board position (x, y)'''\n",
    "    newMoves = []\n",
    "    moveOffsets = [(-1,-2), (-1,2), (-2,-1), (-2,1),\n",
    "                   (1,-2), (1,2), (2,-1), (2,1)]\n",
    "    for i in moveOffsets:\n",
    "        newX = x + i[0]\n",
    "        newY = y + i[1]\n",
    "        if legalCoord(newX, board_size) and \\\n",
    "                        legalCoord(newY, board_size):\n",
    "            newMoves.append((newX, newY))\n",
    "    return newMoves\n",
    "\n",
    "def is_legal_coord(x, board_size):\n",
    "    ''' Checks if position x is still on the board '''\n",
    "    if x >= 0 and x < board_size:\n",
    "        return True\n",
    "    else:\n",
    "        return False"
   ]
  },
  {
   "cell_type": "code",
   "execution_count": 8,
   "metadata": {
    "id": "9CSwJ7f6vEkR"
   },
   "outputs": [
    {
     "data": {
      "text/plain": [
       "<igraph.Graph at 0x2b06539ba90>"
      ]
     },
     "execution_count": 8,
     "metadata": {},
     "output_type": "execute_result"
    }
   ],
   "source": [
    "# Graph itself\n",
    "def generate_knight_graph(board_size):\n",
    "    ''' Generates the graph for the knight problem '''\n",
    "    graph = igraph.Graph()\n",
    "    board_range = range(board_size + 1, 1)  # apparently igraph doesnt like 0 as a node_id\n",
    "    for row in board_range:  # loops over all rows\n",
    "        for col in board_range:  # and all columns\n",
    "            node_id = convert_to_node_id(row, col, board_size)  # current position on the board, single number ID\n",
    "            new_position = generate_legal_moves(row, col, board_size)  # all legal moves for a knight\n",
    "            # print(new_position)\n",
    "            for p in new_position:  # for every legal movement\n",
    "                # print(node_id, p)\n",
    "                valid_node_id = convert_to_node_id(p[0], p[1], board_size)  # get a new valid single number ID\n",
    "                graph.add_edge(node_id, valid_node_id)  # add that ID to the graph\n",
    "    \n",
    "    return graph\n",
    "\n",
    "g = generate_knight_graph(5)\n",
    "g"
   ]
  },
  {
   "cell_type": "code",
   "execution_count": 11,
   "metadata": {},
   "outputs": [
    {
     "data": {
      "text/plain": [
       "<igraph.clustering.VertexClustering at 0x2b0655cf340>"
      ]
     },
     "execution_count": 11,
     "metadata": {},
     "output_type": "execute_result"
    }
   ],
   "source": [
    "g."
   ]
  }
 ],
 "metadata": {
  "colab": {
   "collapsed_sections": [],
   "name": "knights_tour_graph.ipynb",
   "provenance": []
  },
  "kernelspec": {
   "display_name": "Python 3",
   "language": "python",
   "name": "python3"
  },
  "language_info": {
   "codemirror_mode": {
    "name": "ipython",
    "version": 3
   },
   "file_extension": ".py",
   "mimetype": "text/x-python",
   "name": "python",
   "nbconvert_exporter": "python",
   "pygments_lexer": "ipython3",
   "version": "3.8.6"
  }
 },
 "nbformat": 4,
 "nbformat_minor": 4
}
