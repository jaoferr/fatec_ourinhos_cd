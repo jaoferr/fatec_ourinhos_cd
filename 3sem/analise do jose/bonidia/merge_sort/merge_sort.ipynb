{
 "cells": [
  {
   "cell_type": "markdown",
   "metadata": {},
   "source": [
    "# Merge Sort\n",
    "### Algoritmo de ordenação <b> recursivo </b> pertencente a classe dos algoritmos <b> divide-and-conquer </b> (dividir e conquistar)"
   ]
  },
  {
   "cell_type": "markdown",
   "metadata": {},
   "source": [
    "<p> Os algoritmos divide-and-conquer funcionam <b> dividindo um problema grande em problemas menores</b> , como, por exemplo, a ordenação de uma lista grande.<br>\n",
    "    Em cada chamada do algoritmo, a <b> lista é dividida em listas menores</b>, até que o tamanho da lista seja 1.<br>\n",
    "    Então, o algoritmo realiza o caminho inverso, <b> juntando os pedaços da lista dividida</b>, até chegar na solução. </p>"
   ]
  },
  {
   "cell_type": "markdown",
   "metadata": {},
   "source": [
    "#### Tempo médio de execução:"
   ]
  },
  {
   "cell_type": "markdown",
   "metadata": {},
   "source": [
    "$\\quad\\quad\\quad\\large O(n\\, log\\, n)$"
   ]
  },
  {
   "cell_type": "markdown",
   "metadata": {},
   "source": [
    "#### Código encontrado em:  \n",
    "https://panda.ime.usp.br/panda/static/pythonds_pt/05-OrdenacaoBusca/OMergeSort.html"
   ]
  },
  {
   "cell_type": "markdown",
   "metadata": {},
   "source": [
    "---"
   ]
  },
  {
   "cell_type": "markdown",
   "metadata": {},
   "source": [
    "## Código"
   ]
  },
  {
   "cell_type": "code",
   "execution_count": 3,
   "metadata": {},
   "outputs": [],
   "source": [
    "def mergeSort(alist):\n",
    "    print(\"Dividindo \",alist)\n",
    "    if len(alist)>1:  # se a lista for menor que 1, ela esta ordenada e a execucao termina\n",
    "        mid = len(alist)//2  # meio da lista\n",
    "        lefthalf = alist[:mid]  # divisao da esquerda\n",
    "        righthalf = alist[mid:]  # divisao da direita\n",
    "\n",
    "        mergeSort(lefthalf)  # chama a função novamente\n",
    "        mergeSort(righthalf) #         //\n",
    "\n",
    "        i, j, k = 0, 0, 0\n",
    "    \n",
    "        # realiza a junção das duas metades\n",
    "        while i < len(lefthalf) and j < len(righthalf):\n",
    "            if lefthalf[i] < righthalf[j]:\n",
    "                alist[k] = lefthalf[i]\n",
    "                i += 1\n",
    "            else:\n",
    "                alist[k]=righthalf[j]\n",
    "                j += 1\n",
    "            k += 1\n",
    "\n",
    "        while i < len(lefthalf):\n",
    "            alist[k] = lefthalf[i]\n",
    "            i += 1\n",
    "            k += 1\n",
    "\n",
    "        while j < len(righthalf):\n",
    "            alist[k] = righthalf[j]\n",
    "            j += 1\n",
    "            k += 1\n",
    "    print(\"Unindo \",alist)"
   ]
  },
  {
   "cell_type": "code",
   "execution_count": 4,
   "metadata": {},
   "outputs": [
    {
     "name": "stdout",
     "output_type": "stream",
     "text": [
      "Dividindo  [54, 26, 93, 17, 77, 31, 44, 55, 20]\n",
      "Dividindo  [54, 26, 93, 17]\n",
      "Dividindo  [54, 26]\n",
      "Dividindo  [54]\n",
      "Unindo  [54]\n",
      "Dividindo  [26]\n",
      "Unindo  [26]\n",
      "Unindo  [26, 54]\n",
      "Dividindo  [93, 17]\n",
      "Dividindo  [93]\n",
      "Unindo  [93]\n",
      "Dividindo  [17]\n",
      "Unindo  [17]\n",
      "Unindo  [17, 93]\n",
      "Unindo  [17, 26, 54, 93]\n",
      "Dividindo  [77, 31, 44, 55, 20]\n",
      "Dividindo  [77, 31]\n",
      "Dividindo  [77]\n",
      "Unindo  [77]\n",
      "Dividindo  [31]\n",
      "Unindo  [31]\n",
      "Unindo  [31, 77]\n",
      "Dividindo  [44, 55, 20]\n",
      "Dividindo  [44]\n",
      "Unindo  [44]\n",
      "Dividindo  [55, 20]\n",
      "Dividindo  [55]\n",
      "Unindo  [55]\n",
      "Dividindo  [20]\n",
      "Unindo  [20]\n",
      "Unindo  [20, 55]\n",
      "Unindo  [20, 44, 55]\n",
      "Unindo  [20, 31, 44, 55, 77]\n",
      "Unindo  [17, 20, 26, 31, 44, 54, 55, 77, 93]\n",
      "[17, 20, 26, 31, 44, 54, 55, 77, 93]\n"
     ]
    }
   ],
   "source": [
    "alist = [54,26,93,17,77,31,44,55,20]\n",
    "mergeSort(alist)\n",
    "print(alist)"
   ]
  }
 ],
 "metadata": {
  "kernelspec": {
   "display_name": "Python 3",
   "language": "python",
   "name": "python3"
  },
  "language_info": {
   "codemirror_mode": {
    "name": "ipython",
    "version": 3
   },
   "file_extension": ".py",
   "mimetype": "text/x-python",
   "name": "python",
   "nbconvert_exporter": "python",
   "pygments_lexer": "ipython3",
   "version": "3.8.6"
  }
 },
 "nbformat": 4,
 "nbformat_minor": 5
}
