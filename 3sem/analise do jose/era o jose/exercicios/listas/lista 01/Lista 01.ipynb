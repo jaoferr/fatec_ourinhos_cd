{
 "cells": [
  {
   "cell_type": "markdown",
   "metadata": {},
   "source": [
    "## Lista 01"
   ]
  },
  {
   "cell_type": "code",
   "execution_count": 4,
   "metadata": {},
   "outputs": [],
   "source": [
    "import random\n",
    "def genVector(len_vector):\n",
    "    '''Gera vetores com len_v posicoes'''\n",
    "    x = [random.randrange(0, 100, 1) for elem in range(len_vector)]\n",
    "    print(x)\n",
    "    return x"
   ]
  },
  {
   "cell_type": "markdown",
   "metadata": {},
   "source": [
    "#### A) Utilizando os conhecimentos em programação python adquiridos nos semestres anteriores, realize a implementação para o problema de ordenação apresentado no Slide7"
   ]
  },
  {
   "cell_type": "code",
   "execution_count": 5,
   "metadata": {},
   "outputs": [],
   "source": [
    "def selection_sort(v):\n",
    "    for elem in range(len(v)):\n",
    "        idxmin = elem\n",
    "        for i in range(elem+1, len(v)):\n",
    "            if v[idxmin] > v[i]:\n",
    "                idxmin = i\n",
    "            v[elem], v[idxmin] = v[idxmin], v[elem]\n",
    "    return v"
   ]
  },
  {
   "cell_type": "code",
   "execution_count": 6,
   "metadata": {
    "scrolled": true
   },
   "outputs": [
    {
     "name": "stdout",
     "output_type": "stream",
     "text": [
      "[1, 53, 6, 80, 82, 14, 20, 2, 79, 34, 31, 34, 36, 71, 36, 36, 5, 43, 32, 35]\n"
     ]
    },
    {
     "data": {
      "text/plain": [
       "[1, 2, 6, 20, 14, 34, 34, 31, 35, 5, 32, 36, 36, 36, 43, 53, 71, 79, 80, 82]"
      ]
     },
     "execution_count": 6,
     "metadata": {},
     "output_type": "execute_result"
    }
   ],
   "source": [
    "v1 = genVector(20)\n",
    "selection_sort(v1)"
   ]
  },
  {
   "cell_type": "markdown",
   "metadata": {},
   "source": [
    "#### B. Utilizando os conhecimentos em programação python adquiridos nos semestres anteriores, realize a implementação para o problema da primalidade apresentado no Slide6."
   ]
  },
  {
   "cell_type": "code",
   "execution_count": 1,
   "metadata": {},
   "outputs": [
    {
     "data": {
      "text/plain": [
       "(False, True)"
      ]
     },
     "execution_count": 1,
     "metadata": {},
     "output_type": "execute_result"
    }
   ],
   "source": [
    "def ehPrimo(num):\n",
    "    nums = [x for x in range(2, num)]\n",
    "\n",
    "    for n in nums:\n",
    "        if num%n == 0:\n",
    "            return False\n",
    "    return True\n",
    "    \n",
    "ehPrimo(998), ehPrimo(997)"
   ]
  },
  {
   "cell_type": "markdown",
   "metadata": {},
   "source": [
    "#### C. Transcreva as implementações realizada em python para um algoritmo em pseudocódigo conforme apresentado no slide 25."
   ]
  },
  {
   "cell_type": "code",
   "execution_count": 18,
   "metadata": {},
   "outputs": [],
   "source": [
    "# ehPrimo(num){\n",
    "#      numeros = [numero para cada numero entre 2 e n]\n",
    "     \n",
    "#      para cada numero em numeros faca:\n",
    "#          se (resto da divisao entre num e numero) != 0:\n",
    "#              retorne Falso\n",
    "#      retorne Verdadeiro"
   ]
  }
 ],
 "metadata": {
  "kernelspec": {
   "display_name": "Python 3",
   "language": "python",
   "name": "python3"
  },
  "language_info": {
   "codemirror_mode": {
    "name": "ipython",
    "version": 3
   },
   "file_extension": ".py",
   "mimetype": "text/x-python",
   "name": "python",
   "nbconvert_exporter": "python",
   "pygments_lexer": "ipython3",
   "version": "3.8.6"
  },
  "varInspector": {
   "cols": {
    "lenName": 16,
    "lenType": 16,
    "lenVar": 40
   },
   "kernels_config": {
    "python": {
     "delete_cmd_postfix": "",
     "delete_cmd_prefix": "del ",
     "library": "var_list.py",
     "varRefreshCmd": "print(var_dic_list())"
    },
    "r": {
     "delete_cmd_postfix": ") ",
     "delete_cmd_prefix": "rm(",
     "library": "var_list.r",
     "varRefreshCmd": "cat(var_dic_list()) "
    }
   },
   "types_to_exclude": [
    "module",
    "function",
    "builtin_function_or_method",
    "instance",
    "_Feature"
   ],
   "window_display": false
  }
 },
 "nbformat": 4,
 "nbformat_minor": 4
}
