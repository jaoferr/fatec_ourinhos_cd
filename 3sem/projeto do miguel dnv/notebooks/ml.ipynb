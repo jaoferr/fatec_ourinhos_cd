{
 "cells": [
  {
   "cell_type": "markdown",
   "metadata": {},
   "source": [
    "## Modulos"
   ]
  },
  {
   "cell_type": "code",
   "execution_count": 1,
   "metadata": {},
   "outputs": [],
   "source": [
    "import pandas as pd\n",
    "pd.options.mode.chained_assignment = None  # default='warn'\n",
    "from pprint import pprint"
   ]
  },
  {
   "cell_type": "markdown",
   "metadata": {},
   "source": [
    "---"
   ]
  },
  {
   "cell_type": "markdown",
   "metadata": {},
   "source": [
    "### Importacao e limpeza"
   ]
  },
  {
   "cell_type": "code",
   "execution_count": 2,
   "metadata": {},
   "outputs": [
    {
     "data": {
      "text/html": [
       "<div>\n",
       "<style scoped>\n",
       "    .dataframe tbody tr th:only-of-type {\n",
       "        vertical-align: middle;\n",
       "    }\n",
       "\n",
       "    .dataframe tbody tr th {\n",
       "        vertical-align: top;\n",
       "    }\n",
       "\n",
       "    .dataframe thead th {\n",
       "        text-align: right;\n",
       "    }\n",
       "</style>\n",
       "<table border=\"1\" class=\"dataframe\">\n",
       "  <thead>\n",
       "    <tr style=\"text-align: right;\">\n",
       "      <th></th>\n",
       "      <th>Classe de Manutenção - Código</th>\n",
       "      <th>Classe de Manutenção - Descrição</th>\n",
       "      <th>Data de Entrada</th>\n",
       "      <th>Data de Saída</th>\n",
       "      <th>Funcionário - Código</th>\n",
       "      <th>Funcionário - Descrição</th>\n",
       "      <th>Sistema Veicular - Código</th>\n",
       "      <th>Sistema Veicular - Código.1</th>\n",
       "      <th>Subsistema Veicular - Código</th>\n",
       "      <th>Subsistema Veicular - Descrição</th>\n",
       "      <th>\\nHoras</th>\n",
       "      <th>\\n%Sistema Veicular</th>\n",
       "      <th>\\n%Funcionário</th>\n",
       "      <th>\\n%Data de Saída</th>\n",
       "      <th>\\n%Data de Entrada</th>\n",
       "      <th>\\n%Classe de Manutenção</th>\n",
       "      <th>\\n% Geral</th>\n",
       "    </tr>\n",
       "  </thead>\n",
       "  <tbody>\n",
       "    <tr>\n",
       "      <th>0</th>\n",
       "      <td>29</td>\n",
       "      <td>Corret. Emergencial</td>\n",
       "      <td>01/04/2020</td>\n",
       "      <td>01/04/2020</td>\n",
       "      <td>22955</td>\n",
       "      <td>Marcelo Venceslau da Silva</td>\n",
       "      <td>1400</td>\n",
       "      <td>SISTEMA HIDRÁULICO</td>\n",
       "      <td>1402</td>\n",
       "      <td>Cilindro hidráulico</td>\n",
       "      <td>2.35</td>\n",
       "      <td>100.0</td>\n",
       "      <td>100.0</td>\n",
       "      <td>2.10</td>\n",
       "      <td>0.11</td>\n",
       "      <td>0.0</td>\n",
       "      <td>0.0</td>\n",
       "    </tr>\n",
       "    <tr>\n",
       "      <th>1</th>\n",
       "      <td>29</td>\n",
       "      <td>Corret. Emergencial</td>\n",
       "      <td>01/04/2020</td>\n",
       "      <td>01/04/2020</td>\n",
       "      <td>30413</td>\n",
       "      <td>Agnaldo Aparecido Monteiro</td>\n",
       "      <td>1300</td>\n",
       "      <td>SISTEMA ELÉTRICO</td>\n",
       "      <td>1312</td>\n",
       "      <td>Indicadores Diversos</td>\n",
       "      <td>4.74</td>\n",
       "      <td>100.0</td>\n",
       "      <td>100.0</td>\n",
       "      <td>4.23</td>\n",
       "      <td>0.23</td>\n",
       "      <td>0.0</td>\n",
       "      <td>0.0</td>\n",
       "    </tr>\n",
       "    <tr>\n",
       "      <th>2</th>\n",
       "      <td>29</td>\n",
       "      <td>Corret. Emergencial</td>\n",
       "      <td>01/04/2020</td>\n",
       "      <td>01/04/2020</td>\n",
       "      <td>41598</td>\n",
       "      <td>Ademir de Jesus Aparecido</td>\n",
       "      <td>1400</td>\n",
       "      <td>SISTEMA HIDRÁULICO</td>\n",
       "      <td>1410</td>\n",
       "      <td>Mangueiras</td>\n",
       "      <td>2.99</td>\n",
       "      <td>100.0</td>\n",
       "      <td>100.0</td>\n",
       "      <td>2.67</td>\n",
       "      <td>0.15</td>\n",
       "      <td>0.0</td>\n",
       "      <td>0.0</td>\n",
       "    </tr>\n",
       "    <tr>\n",
       "      <th>3</th>\n",
       "      <td>29</td>\n",
       "      <td>Corret. Emergencial</td>\n",
       "      <td>01/04/2020</td>\n",
       "      <td>01/04/2020</td>\n",
       "      <td>50082</td>\n",
       "      <td>Alessandro Miranda</td>\n",
       "      <td>1000</td>\n",
       "      <td>PNEUS E AROS</td>\n",
       "      <td>1003</td>\n",
       "      <td>Pneus traseiros</td>\n",
       "      <td>0.29</td>\n",
       "      <td>100.0</td>\n",
       "      <td>100.0</td>\n",
       "      <td>0.26</td>\n",
       "      <td>0.01</td>\n",
       "      <td>0.0</td>\n",
       "      <td>0.0</td>\n",
       "    </tr>\n",
       "    <tr>\n",
       "      <th>4</th>\n",
       "      <td>29</td>\n",
       "      <td>Corret. Emergencial</td>\n",
       "      <td>01/04/2020</td>\n",
       "      <td>01/04/2020</td>\n",
       "      <td>52596</td>\n",
       "      <td>Josenaldo Silva Sousa</td>\n",
       "      <td>1300</td>\n",
       "      <td>SISTEMA ELÉTRICO</td>\n",
       "      <td>1301</td>\n",
       "      <td>Alternador</td>\n",
       "      <td>3.35</td>\n",
       "      <td>100.0</td>\n",
       "      <td>100.0</td>\n",
       "      <td>2.99</td>\n",
       "      <td>0.16</td>\n",
       "      <td>0.0</td>\n",
       "      <td>0.0</td>\n",
       "    </tr>\n",
       "  </tbody>\n",
       "</table>\n",
       "</div>"
      ],
      "text/plain": [
       "   Classe de Manutenção - Código Classe de Manutenção - Descrição  \\\n",
       "0                             29              Corret. Emergencial   \n",
       "1                             29              Corret. Emergencial   \n",
       "2                             29              Corret. Emergencial   \n",
       "3                             29              Corret. Emergencial   \n",
       "4                             29              Corret. Emergencial   \n",
       "\n",
       "  Data de Entrada Data de Saída  Funcionário - Código  \\\n",
       "0      01/04/2020    01/04/2020                 22955   \n",
       "1      01/04/2020    01/04/2020                 30413   \n",
       "2      01/04/2020    01/04/2020                 41598   \n",
       "3      01/04/2020    01/04/2020                 50082   \n",
       "4      01/04/2020    01/04/2020                 52596   \n",
       "\n",
       "      Funcionário - Descrição  Sistema Veicular - Código  \\\n",
       "0  Marcelo Venceslau da Silva                       1400   \n",
       "1  Agnaldo Aparecido Monteiro                       1300   \n",
       "2   Ademir de Jesus Aparecido                       1400   \n",
       "3          Alessandro Miranda                       1000   \n",
       "4       Josenaldo Silva Sousa                       1300   \n",
       "\n",
       "  Sistema Veicular - Código.1  Subsistema Veicular - Código  \\\n",
       "0          SISTEMA HIDRÁULICO                          1402   \n",
       "1            SISTEMA ELÉTRICO                          1312   \n",
       "2          SISTEMA HIDRÁULICO                          1410   \n",
       "3                PNEUS E AROS                          1003   \n",
       "4            SISTEMA ELÉTRICO                          1301   \n",
       "\n",
       "  Subsistema Veicular - Descrição  \\nHoras  \\n%Sistema Veicular  \\\n",
       "0             Cilindro hidráulico     2.35                100.0   \n",
       "1            Indicadores Diversos     4.74                100.0   \n",
       "2                      Mangueiras     2.99                100.0   \n",
       "3                 Pneus traseiros     0.29                100.0   \n",
       "4                      Alternador     3.35                100.0   \n",
       "\n",
       "   \\n%Funcionário  \\n%Data de Saída  \\n%Data de Entrada  \\\n",
       "0           100.0              2.10                0.11   \n",
       "1           100.0              4.23                0.23   \n",
       "2           100.0              2.67                0.15   \n",
       "3           100.0              0.26                0.01   \n",
       "4           100.0              2.99                0.16   \n",
       "\n",
       "   \\n%Classe de Manutenção  \\n% Geral  \n",
       "0                      0.0        0.0  \n",
       "1                      0.0        0.0  \n",
       "2                      0.0        0.0  \n",
       "3                      0.0        0.0  \n",
       "4                      0.0        0.0  "
      ]
     },
     "execution_count": 2,
     "metadata": {},
     "output_type": "execute_result"
    }
   ],
   "source": [
    "df_raw = pd.read_csv('base.csv', sep=';', encoding='latin-1')\n",
    "df_raw.head()"
   ]
  },
  {
   "cell_type": "code",
   "execution_count": 3,
   "metadata": {},
   "outputs": [],
   "source": [
    "df_raw.columns = df_raw.columns.str.lower().str.strip('\\n')\n",
    "rename = {\n",
    "    'funcionário - código': 'cod_funcionario',\n",
    "    'classe de manutenção - código': 'cod_classe_manutencao',\n",
    "    'sistema veicular - código': 'cod_sistema',\n",
    "    'subsistema veicular - código': 'cod_subsistema',\n",
    "    'data de entrada': 'data_entrada',\n",
    "    'data de saída': 'data_saida',\n",
    "    'horas': 'horas',\n",
    "    '%sistema veicular': '%sistema_veicular',\n",
    "    '%funcionário': '%funcionario',\n",
    "    '%data de entrada': '%data-entrada',\n",
    "    '%data de saída': '%data_saida',\n",
    "    '%classe de manutenção': '%classe',\n",
    "    '% geral': '%geral'\n",
    "    \n",
    "}\n",
    "df = df_raw.rename(rename, axis=1)[['cod_classe_manutencao', 'cod_sistema', 'cod_subsistema', 'horas', '%sistema_veicular', '%funcionario', '%data-entrada', '%data_saida', '%classe', '%geral']]\n",
    "df['data_entrada'] = pd.to_datetime(df_raw['data de entrada'])\n",
    "df['data_saida'] = pd.to_datetime(df_raw['data de saída'])"
   ]
  },
  {
   "cell_type": "markdown",
   "metadata": {},
   "source": [
    "---"
   ]
  },
  {
   "cell_type": "markdown",
   "metadata": {
    "tags": []
   },
   "source": [
    "#### Dados duplicados (ou estranhos mesmo)"
   ]
  },
  {
   "cell_type": "code",
   "execution_count": 4,
   "metadata": {},
   "outputs": [],
   "source": [
    "manutencao_mesmo_dia = (pd.to_numeric(df['data_saida'] - df['data_entrada'])) == 0\n",
    "df['manutencao_mesmo_dia'] = manutencao_mesmo_dia"
   ]
  },
  {
   "cell_type": "code",
   "execution_count": 5,
   "metadata": {},
   "outputs": [
    {
     "data": {
      "text/html": [
       "<div>\n",
       "<style scoped>\n",
       "    .dataframe tbody tr th:only-of-type {\n",
       "        vertical-align: middle;\n",
       "    }\n",
       "\n",
       "    .dataframe tbody tr th {\n",
       "        vertical-align: top;\n",
       "    }\n",
       "\n",
       "    .dataframe thead th {\n",
       "        text-align: right;\n",
       "    }\n",
       "</style>\n",
       "<table border=\"1\" class=\"dataframe\">\n",
       "  <thead>\n",
       "    <tr style=\"text-align: right;\">\n",
       "      <th></th>\n",
       "      <th>cod_classe_manutencao</th>\n",
       "      <th>cod_sistema</th>\n",
       "      <th>cod_subsistema</th>\n",
       "      <th>horas</th>\n",
       "      <th>%sistema_veicular</th>\n",
       "      <th>%funcionario</th>\n",
       "      <th>%data-entrada</th>\n",
       "      <th>%data_saida</th>\n",
       "      <th>%classe</th>\n",
       "      <th>%geral</th>\n",
       "      <th>data_entrada</th>\n",
       "      <th>data_saida</th>\n",
       "      <th>manutencao_mesmo_dia</th>\n",
       "    </tr>\n",
       "  </thead>\n",
       "  <tbody>\n",
       "    <tr>\n",
       "      <th>2590</th>\n",
       "      <td>29</td>\n",
       "      <td>1100</td>\n",
       "      <td>1107</td>\n",
       "      <td>219.98</td>\n",
       "      <td>100.0</td>\n",
       "      <td>100.0</td>\n",
       "      <td>4.08</td>\n",
       "      <td>4.18</td>\n",
       "      <td>0.19</td>\n",
       "      <td>0.15</td>\n",
       "      <td>2020-04-30</td>\n",
       "      <td>2020-04-30</td>\n",
       "      <td>True</td>\n",
       "    </tr>\n",
       "    <tr>\n",
       "      <th>2591</th>\n",
       "      <td>29</td>\n",
       "      <td>1100</td>\n",
       "      <td>1107</td>\n",
       "      <td>219.98</td>\n",
       "      <td>100.0</td>\n",
       "      <td>100.0</td>\n",
       "      <td>4.08</td>\n",
       "      <td>4.18</td>\n",
       "      <td>0.19</td>\n",
       "      <td>0.15</td>\n",
       "      <td>2020-04-30</td>\n",
       "      <td>2020-04-30</td>\n",
       "      <td>True</td>\n",
       "    </tr>\n",
       "    <tr>\n",
       "      <th>2592</th>\n",
       "      <td>29</td>\n",
       "      <td>1100</td>\n",
       "      <td>1107</td>\n",
       "      <td>219.98</td>\n",
       "      <td>100.0</td>\n",
       "      <td>100.0</td>\n",
       "      <td>4.08</td>\n",
       "      <td>4.18</td>\n",
       "      <td>0.19</td>\n",
       "      <td>0.15</td>\n",
       "      <td>2020-04-30</td>\n",
       "      <td>2020-04-30</td>\n",
       "      <td>True</td>\n",
       "    </tr>\n",
       "    <tr>\n",
       "      <th>2593</th>\n",
       "      <td>29</td>\n",
       "      <td>1100</td>\n",
       "      <td>1107</td>\n",
       "      <td>219.98</td>\n",
       "      <td>100.0</td>\n",
       "      <td>100.0</td>\n",
       "      <td>4.08</td>\n",
       "      <td>4.18</td>\n",
       "      <td>0.19</td>\n",
       "      <td>0.15</td>\n",
       "      <td>2020-04-30</td>\n",
       "      <td>2020-04-30</td>\n",
       "      <td>True</td>\n",
       "    </tr>\n",
       "    <tr>\n",
       "      <th>2594</th>\n",
       "      <td>29</td>\n",
       "      <td>1100</td>\n",
       "      <td>1107</td>\n",
       "      <td>219.98</td>\n",
       "      <td>100.0</td>\n",
       "      <td>100.0</td>\n",
       "      <td>4.08</td>\n",
       "      <td>4.18</td>\n",
       "      <td>0.19</td>\n",
       "      <td>0.15</td>\n",
       "      <td>2020-04-30</td>\n",
       "      <td>2020-04-30</td>\n",
       "      <td>True</td>\n",
       "    </tr>\n",
       "    <tr>\n",
       "      <th>...</th>\n",
       "      <td>...</td>\n",
       "      <td>...</td>\n",
       "      <td>...</td>\n",
       "      <td>...</td>\n",
       "      <td>...</td>\n",
       "      <td>...</td>\n",
       "      <td>...</td>\n",
       "      <td>...</td>\n",
       "      <td>...</td>\n",
       "      <td>...</td>\n",
       "      <td>...</td>\n",
       "      <td>...</td>\n",
       "      <td>...</td>\n",
       "    </tr>\n",
       "    <tr>\n",
       "      <th>27641</th>\n",
       "      <td>29</td>\n",
       "      <td>1100</td>\n",
       "      <td>1107</td>\n",
       "      <td>219.90</td>\n",
       "      <td>100.0</td>\n",
       "      <td>100.0</td>\n",
       "      <td>14.17</td>\n",
       "      <td>14.17</td>\n",
       "      <td>0.19</td>\n",
       "      <td>0.15</td>\n",
       "      <td>2020-12-31</td>\n",
       "      <td>2020-12-31</td>\n",
       "      <td>True</td>\n",
       "    </tr>\n",
       "    <tr>\n",
       "      <th>27642</th>\n",
       "      <td>29</td>\n",
       "      <td>1100</td>\n",
       "      <td>1107</td>\n",
       "      <td>219.98</td>\n",
       "      <td>100.0</td>\n",
       "      <td>100.0</td>\n",
       "      <td>14.18</td>\n",
       "      <td>14.18</td>\n",
       "      <td>0.19</td>\n",
       "      <td>0.15</td>\n",
       "      <td>2020-12-31</td>\n",
       "      <td>2020-12-31</td>\n",
       "      <td>True</td>\n",
       "    </tr>\n",
       "    <tr>\n",
       "      <th>27643</th>\n",
       "      <td>29</td>\n",
       "      <td>1100</td>\n",
       "      <td>1107</td>\n",
       "      <td>219.98</td>\n",
       "      <td>100.0</td>\n",
       "      <td>100.0</td>\n",
       "      <td>14.18</td>\n",
       "      <td>14.18</td>\n",
       "      <td>0.19</td>\n",
       "      <td>0.15</td>\n",
       "      <td>2020-12-31</td>\n",
       "      <td>2020-12-31</td>\n",
       "      <td>True</td>\n",
       "    </tr>\n",
       "    <tr>\n",
       "      <th>27644</th>\n",
       "      <td>29</td>\n",
       "      <td>1100</td>\n",
       "      <td>1107</td>\n",
       "      <td>219.98</td>\n",
       "      <td>100.0</td>\n",
       "      <td>100.0</td>\n",
       "      <td>14.18</td>\n",
       "      <td>14.18</td>\n",
       "      <td>0.19</td>\n",
       "      <td>0.15</td>\n",
       "      <td>2020-12-31</td>\n",
       "      <td>2020-12-31</td>\n",
       "      <td>True</td>\n",
       "    </tr>\n",
       "    <tr>\n",
       "      <th>27646</th>\n",
       "      <td>29</td>\n",
       "      <td>1100</td>\n",
       "      <td>1107</td>\n",
       "      <td>219.90</td>\n",
       "      <td>100.0</td>\n",
       "      <td>100.0</td>\n",
       "      <td>14.17</td>\n",
       "      <td>14.17</td>\n",
       "      <td>0.19</td>\n",
       "      <td>0.15</td>\n",
       "      <td>2020-12-31</td>\n",
       "      <td>2020-12-31</td>\n",
       "      <td>True</td>\n",
       "    </tr>\n",
       "  </tbody>\n",
       "</table>\n",
       "<p>152 rows × 13 columns</p>\n",
       "</div>"
      ],
      "text/plain": [
       "       cod_classe_manutencao  cod_sistema  cod_subsistema   horas  \\\n",
       "2590                      29         1100            1107  219.98   \n",
       "2591                      29         1100            1107  219.98   \n",
       "2592                      29         1100            1107  219.98   \n",
       "2593                      29         1100            1107  219.98   \n",
       "2594                      29         1100            1107  219.98   \n",
       "...                      ...          ...             ...     ...   \n",
       "27641                     29         1100            1107  219.90   \n",
       "27642                     29         1100            1107  219.98   \n",
       "27643                     29         1100            1107  219.98   \n",
       "27644                     29         1100            1107  219.98   \n",
       "27646                     29         1100            1107  219.90   \n",
       "\n",
       "       %sistema_veicular  %funcionario  %data-entrada  %data_saida  %classe  \\\n",
       "2590               100.0         100.0           4.08         4.18     0.19   \n",
       "2591               100.0         100.0           4.08         4.18     0.19   \n",
       "2592               100.0         100.0           4.08         4.18     0.19   \n",
       "2593               100.0         100.0           4.08         4.18     0.19   \n",
       "2594               100.0         100.0           4.08         4.18     0.19   \n",
       "...                  ...           ...            ...          ...      ...   \n",
       "27641              100.0         100.0          14.17        14.17     0.19   \n",
       "27642              100.0         100.0          14.18        14.18     0.19   \n",
       "27643              100.0         100.0          14.18        14.18     0.19   \n",
       "27644              100.0         100.0          14.18        14.18     0.19   \n",
       "27646              100.0         100.0          14.17        14.17     0.19   \n",
       "\n",
       "       %geral data_entrada data_saida  manutencao_mesmo_dia  \n",
       "2590     0.15   2020-04-30 2020-04-30                  True  \n",
       "2591     0.15   2020-04-30 2020-04-30                  True  \n",
       "2592     0.15   2020-04-30 2020-04-30                  True  \n",
       "2593     0.15   2020-04-30 2020-04-30                  True  \n",
       "2594     0.15   2020-04-30 2020-04-30                  True  \n",
       "...       ...          ...        ...                   ...  \n",
       "27641    0.15   2020-12-31 2020-12-31                  True  \n",
       "27642    0.15   2020-12-31 2020-12-31                  True  \n",
       "27643    0.15   2020-12-31 2020-12-31                  True  \n",
       "27644    0.15   2020-12-31 2020-12-31                  True  \n",
       "27646    0.15   2020-12-31 2020-12-31                  True  \n",
       "\n",
       "[152 rows x 13 columns]"
      ]
     },
     "execution_count": 5,
     "metadata": {},
     "output_type": "execute_result"
    }
   ],
   "source": [
    "df[(df['manutencao_mesmo_dia'] == True) & (df['horas'] >= 24)]"
   ]
  },
  {
   "cell_type": "markdown",
   "metadata": {},
   "source": [
    "Manutencoes que entraram e sairam no mesmo dia, mas duraram mais de 24 horas?<br>\n",
    "Eles inventaram uma maquina do tempo?"
   ]
  },
  {
   "cell_type": "code",
   "execution_count": 6,
   "metadata": {},
   "outputs": [],
   "source": [
    "# remocao dessas linhas\n",
    "df.drop(df[(df['manutencao_mesmo_dia'] == True) & (df['horas'] >= 24)].index, inplace=True)\n",
    "df.drop(df[df['horas'] == 0].index, inplace=True)"
   ]
  },
  {
   "cell_type": "markdown",
   "metadata": {
    "tags": []
   },
   "source": [
    "##### Adicao colunas data"
   ]
  },
  {
   "cell_type": "code",
   "execution_count": 7,
   "metadata": {},
   "outputs": [],
   "source": [
    "df['dia_semana'] = df['data_entrada'].dt.dayofweek\n",
    "df['mes'] = df['data_entrada'].dt.month"
   ]
  },
  {
   "cell_type": "markdown",
   "metadata": {},
   "source": [
    "#### Funções para avaliação dos resultados"
   ]
  },
  {
   "cell_type": "code",
   "execution_count": 8,
   "metadata": {},
   "outputs": [],
   "source": [
    "results = {}"
   ]
  },
  {
   "cell_type": "code",
   "execution_count": 9,
   "metadata": {},
   "outputs": [],
   "source": [
    "def evaluate(model, x_test, y_test, name='', dicto = results):\n",
    "    predictions = model.predict(x_test)\n",
    "    mape = mean_absolute_percentage_error(y_test, predictions)\n",
    "    mae = mean_absolute_error(y_test, predictions)\n",
    "    r2 = r2_score(y_test, predictions)\n",
    "    accuracy = round(1 - mape, 3)*100\n",
    "    print('Performance')\n",
    "    print(f'R2: {r2}')\n",
    "    print(f'Erro medio (MAE): {mae}')\n",
    "    print(f'Erro medio %(MAPE): {mape}')\n",
    "    print(f'Precisão = {accuracy}%')\n",
    "    \n",
    "    results[name] = accuracy\n",
    "    return accuracy"
   ]
  },
  {
   "cell_type": "markdown",
   "metadata": {},
   "source": [
    "---"
   ]
  },
  {
   "cell_type": "markdown",
   "metadata": {},
   "source": [
    "### Modelo 1b: Random Forest Regressor\n",
    "    Features adicionais"
   ]
  },
  {
   "cell_type": "code",
   "execution_count": 10,
   "metadata": {},
   "outputs": [],
   "source": [
    "from sklearn.ensemble import RandomForestRegressor\n",
    "from sklearn.model_selection import train_test_split\n",
    "from sklearn.metrics import mean_absolute_error, mean_absolute_percentage_error, r2_score"
   ]
  },
  {
   "cell_type": "markdown",
   "metadata": {},
   "source": [
    "#### Separacao em set de treino e teste"
   ]
  },
  {
   "cell_type": "code",
   "execution_count": 11,
   "metadata": {},
   "outputs": [],
   "source": [
    "x1 = df.drop(['horas', 'data_entrada', 'data_saida'], axis=1)\n",
    "y1 = df['horas']\n",
    "\n",
    "x1_train, x1_test, y1_train, y1_test = train_test_split(x1, y1, test_size=0.15)"
   ]
  },
  {
   "cell_type": "markdown",
   "metadata": {},
   "source": [
    "#### Parametros e fit dos sets"
   ]
  },
  {
   "cell_type": "code",
   "execution_count": 12,
   "metadata": {},
   "outputs": [
    {
     "data": {
      "text/plain": [
       "RandomForestRegressor(n_jobs=-1, random_state=42)"
      ]
     },
     "execution_count": 12,
     "metadata": {},
     "output_type": "execute_result"
    }
   ],
   "source": [
    "regressor = RandomForestRegressor(n_estimators=100, random_state=42, n_jobs=-1)\n",
    "regressor.fit(x1_train, y1_train)"
   ]
  },
  {
   "cell_type": "markdown",
   "metadata": {},
   "source": [
    "#### Avaliacao dos resultados"
   ]
  },
  {
   "cell_type": "code",
   "execution_count": 13,
   "metadata": {},
   "outputs": [
    {
     "name": "stdout",
     "output_type": "stream",
     "text": [
      "Performance\n",
      "R2: 0.9806969746514415\n",
      "Erro medio (MAE): 0.22643811298051586\n",
      "Erro medio %(MAPE): 0.17390895712637594\n",
      "Precisão = 82.6%\n"
     ]
    },
    {
     "data": {
      "text/plain": [
       "82.6"
      ]
     },
     "execution_count": 13,
     "metadata": {},
     "output_type": "execute_result"
    }
   ],
   "source": [
    "evaluate(regressor, x1_test, y1_test, 'Random Forest Regressor')"
   ]
  },
  {
   "cell_type": "code",
   "execution_count": 14,
   "metadata": {},
   "outputs": [
    {
     "data": {
      "text/html": [
       "<div>\n",
       "<style scoped>\n",
       "    .dataframe tbody tr th:only-of-type {\n",
       "        vertical-align: middle;\n",
       "    }\n",
       "\n",
       "    .dataframe tbody tr th {\n",
       "        vertical-align: top;\n",
       "    }\n",
       "\n",
       "    .dataframe thead th {\n",
       "        text-align: right;\n",
       "    }\n",
       "</style>\n",
       "<table border=\"1\" class=\"dataframe\">\n",
       "  <thead>\n",
       "    <tr style=\"text-align: right;\">\n",
       "      <th></th>\n",
       "      <th>cod_classe_manutencao</th>\n",
       "      <th>cod_sistema</th>\n",
       "      <th>cod_subsistema</th>\n",
       "      <th>%sistema_veicular</th>\n",
       "      <th>%funcionario</th>\n",
       "      <th>%data-entrada</th>\n",
       "      <th>%data_saida</th>\n",
       "      <th>%classe</th>\n",
       "      <th>%geral</th>\n",
       "      <th>manutencao_mesmo_dia</th>\n",
       "      <th>dia_semana</th>\n",
       "      <th>mes</th>\n",
       "    </tr>\n",
       "  </thead>\n",
       "  <tbody>\n",
       "    <tr>\n",
       "      <th>31384</th>\n",
       "      <td>31</td>\n",
       "      <td>1100</td>\n",
       "      <td>1112</td>\n",
       "      <td>52.00</td>\n",
       "      <td>13.00</td>\n",
       "      <td>0.77</td>\n",
       "      <td>13.00</td>\n",
       "      <td>0.00</td>\n",
       "      <td>0.0</td>\n",
       "      <td>False</td>\n",
       "      <td>0</td>\n",
       "      <td>5</td>\n",
       "    </tr>\n",
       "    <tr>\n",
       "      <th>3195</th>\n",
       "      <td>29</td>\n",
       "      <td>600</td>\n",
       "      <td>609</td>\n",
       "      <td>47.96</td>\n",
       "      <td>17.74</td>\n",
       "      <td>0.25</td>\n",
       "      <td>0.55</td>\n",
       "      <td>0.00</td>\n",
       "      <td>0.0</td>\n",
       "      <td>True</td>\n",
       "      <td>1</td>\n",
       "      <td>5</td>\n",
       "    </tr>\n",
       "    <tr>\n",
       "      <th>21910</th>\n",
       "      <td>29</td>\n",
       "      <td>1</td>\n",
       "      <td>26</td>\n",
       "      <td>100.00</td>\n",
       "      <td>100.00</td>\n",
       "      <td>1.40</td>\n",
       "      <td>7.35</td>\n",
       "      <td>0.01</td>\n",
       "      <td>0.0</td>\n",
       "      <td>False</td>\n",
       "      <td>1</td>\n",
       "      <td>10</td>\n",
       "    </tr>\n",
       "    <tr>\n",
       "      <th>10446</th>\n",
       "      <td>29</td>\n",
       "      <td>600</td>\n",
       "      <td>603</td>\n",
       "      <td>100.00</td>\n",
       "      <td>13.35</td>\n",
       "      <td>0.16</td>\n",
       "      <td>0.29</td>\n",
       "      <td>0.00</td>\n",
       "      <td>0.0</td>\n",
       "      <td>True</td>\n",
       "      <td>4</td>\n",
       "      <td>8</td>\n",
       "    </tr>\n",
       "    <tr>\n",
       "      <th>3070</th>\n",
       "      <td>29</td>\n",
       "      <td>1</td>\n",
       "      <td>2</td>\n",
       "      <td>100.00</td>\n",
       "      <td>100.00</td>\n",
       "      <td>0.36</td>\n",
       "      <td>0.48</td>\n",
       "      <td>0.00</td>\n",
       "      <td>0.0</td>\n",
       "      <td>True</td>\n",
       "      <td>6</td>\n",
       "      <td>4</td>\n",
       "    </tr>\n",
       "    <tr>\n",
       "      <th>...</th>\n",
       "      <td>...</td>\n",
       "      <td>...</td>\n",
       "      <td>...</td>\n",
       "      <td>...</td>\n",
       "      <td>...</td>\n",
       "      <td>...</td>\n",
       "      <td>...</td>\n",
       "      <td>...</td>\n",
       "      <td>...</td>\n",
       "      <td>...</td>\n",
       "      <td>...</td>\n",
       "      <td>...</td>\n",
       "    </tr>\n",
       "    <tr>\n",
       "      <th>1511</th>\n",
       "      <td>29</td>\n",
       "      <td>400</td>\n",
       "      <td>412</td>\n",
       "      <td>100.00</td>\n",
       "      <td>78.42</td>\n",
       "      <td>1.95</td>\n",
       "      <td>4.35</td>\n",
       "      <td>0.00</td>\n",
       "      <td>0.0</td>\n",
       "      <td>True</td>\n",
       "      <td>0</td>\n",
       "      <td>4</td>\n",
       "    </tr>\n",
       "    <tr>\n",
       "      <th>29517</th>\n",
       "      <td>31</td>\n",
       "      <td>1600</td>\n",
       "      <td>1676</td>\n",
       "      <td>53.85</td>\n",
       "      <td>10.45</td>\n",
       "      <td>1.09</td>\n",
       "      <td>3.23</td>\n",
       "      <td>0.00</td>\n",
       "      <td>0.0</td>\n",
       "      <td>True</td>\n",
       "      <td>6</td>\n",
       "      <td>1</td>\n",
       "    </tr>\n",
       "    <tr>\n",
       "      <th>49813</th>\n",
       "      <td>38</td>\n",
       "      <td>1300</td>\n",
       "      <td>1303</td>\n",
       "      <td>20.35</td>\n",
       "      <td>20.35</td>\n",
       "      <td>2.07</td>\n",
       "      <td>2.07</td>\n",
       "      <td>0.01</td>\n",
       "      <td>0.0</td>\n",
       "      <td>True</td>\n",
       "      <td>2</td>\n",
       "      <td>10</td>\n",
       "    </tr>\n",
       "    <tr>\n",
       "      <th>20500</th>\n",
       "      <td>29</td>\n",
       "      <td>1000</td>\n",
       "      <td>1002</td>\n",
       "      <td>9.77</td>\n",
       "      <td>9.77</td>\n",
       "      <td>0.10</td>\n",
       "      <td>0.19</td>\n",
       "      <td>0.00</td>\n",
       "      <td>0.0</td>\n",
       "      <td>True</td>\n",
       "      <td>4</td>\n",
       "      <td>1</td>\n",
       "    </tr>\n",
       "    <tr>\n",
       "      <th>19517</th>\n",
       "      <td>29</td>\n",
       "      <td>200</td>\n",
       "      <td>203</td>\n",
       "      <td>59.52</td>\n",
       "      <td>59.52</td>\n",
       "      <td>0.92</td>\n",
       "      <td>1.47</td>\n",
       "      <td>0.00</td>\n",
       "      <td>0.0</td>\n",
       "      <td>True</td>\n",
       "      <td>3</td>\n",
       "      <td>9</td>\n",
       "    </tr>\n",
       "  </tbody>\n",
       "</table>\n",
       "<p>42666 rows × 12 columns</p>\n",
       "</div>"
      ],
      "text/plain": [
       "       cod_classe_manutencao  cod_sistema  cod_subsistema  %sistema_veicular  \\\n",
       "31384                     31         1100            1112              52.00   \n",
       "3195                      29          600             609              47.96   \n",
       "21910                     29            1              26             100.00   \n",
       "10446                     29          600             603             100.00   \n",
       "3070                      29            1               2             100.00   \n",
       "...                      ...          ...             ...                ...   \n",
       "1511                      29          400             412             100.00   \n",
       "29517                     31         1600            1676              53.85   \n",
       "49813                     38         1300            1303              20.35   \n",
       "20500                     29         1000            1002               9.77   \n",
       "19517                     29          200             203              59.52   \n",
       "\n",
       "       %funcionario  %data-entrada  %data_saida  %classe  %geral  \\\n",
       "31384         13.00           0.77        13.00     0.00     0.0   \n",
       "3195          17.74           0.25         0.55     0.00     0.0   \n",
       "21910        100.00           1.40         7.35     0.01     0.0   \n",
       "10446         13.35           0.16         0.29     0.00     0.0   \n",
       "3070         100.00           0.36         0.48     0.00     0.0   \n",
       "...             ...            ...          ...      ...     ...   \n",
       "1511          78.42           1.95         4.35     0.00     0.0   \n",
       "29517         10.45           1.09         3.23     0.00     0.0   \n",
       "49813         20.35           2.07         2.07     0.01     0.0   \n",
       "20500          9.77           0.10         0.19     0.00     0.0   \n",
       "19517         59.52           0.92         1.47     0.00     0.0   \n",
       "\n",
       "       manutencao_mesmo_dia  dia_semana  mes  \n",
       "31384                 False           0    5  \n",
       "3195                   True           1    5  \n",
       "21910                 False           1   10  \n",
       "10446                  True           4    8  \n",
       "3070                   True           6    4  \n",
       "...                     ...         ...  ...  \n",
       "1511                   True           0    4  \n",
       "29517                  True           6    1  \n",
       "49813                  True           2   10  \n",
       "20500                  True           4    1  \n",
       "19517                  True           3    9  \n",
       "\n",
       "[42666 rows x 12 columns]"
      ]
     },
     "execution_count": 14,
     "metadata": {},
     "output_type": "execute_result"
    }
   ],
   "source": [
    "x1_train"
   ]
  },
  {
   "cell_type": "markdown",
   "metadata": {},
   "source": [
    "### Modelo 1c: Random Forest Regressor\n",
    "    Hyperparameters, RandomSearchCV"
   ]
  },
  {
   "cell_type": "code",
   "execution_count": 14,
   "metadata": {},
   "outputs": [],
   "source": [
    "from sklearn.model_selection import RandomizedSearchCV\n",
    "import numpy as np"
   ]
  },
  {
   "cell_type": "markdown",
   "metadata": {},
   "source": [
    "#### Parametros atuais"
   ]
  },
  {
   "cell_type": "code",
   "execution_count": 15,
   "metadata": {},
   "outputs": [
    {
     "data": {
      "text/plain": [
       "{'bootstrap': True,\n",
       " 'ccp_alpha': 0.0,\n",
       " 'criterion': 'mse',\n",
       " 'max_depth': None,\n",
       " 'max_features': 'auto',\n",
       " 'max_leaf_nodes': None,\n",
       " 'max_samples': None,\n",
       " 'min_impurity_decrease': 0.0,\n",
       " 'min_impurity_split': None,\n",
       " 'min_samples_leaf': 1,\n",
       " 'min_samples_split': 2,\n",
       " 'min_weight_fraction_leaf': 0.0,\n",
       " 'n_estimators': 100,\n",
       " 'n_jobs': -1,\n",
       " 'oob_score': False,\n",
       " 'random_state': 42,\n",
       " 'verbose': 0,\n",
       " 'warm_start': False}"
      ]
     },
     "execution_count": 15,
     "metadata": {},
     "output_type": "execute_result"
    }
   ],
   "source": [
    "regressor.get_params()"
   ]
  },
  {
   "cell_type": "markdown",
   "metadata": {},
   "source": [
    "#### Parametros para teste"
   ]
  },
  {
   "cell_type": "code",
   "execution_count": 16,
   "metadata": {},
   "outputs": [
    {
     "name": "stdout",
     "output_type": "stream",
     "text": [
      "{'bootstrap': [True, False],\n",
      " 'max_depth': [10, 20, 30, 40, 50, 60, 70, 80, 90, 100, 110, None],\n",
      " 'max_features': ['auto', 'sqrt'],\n",
      " 'min_samples_leaf': [1, 2, 4],\n",
      " 'min_samples_split': [2, 5, 10],\n",
      " 'n_estimators': [50, 200, 500, 1000]}\n"
     ]
    }
   ],
   "source": [
    "# ref: https://towardsdatascience.com/hyperparameter-tuning-the-random-forest-in-python-using-scikit-learn-28d2aa77dd74\n",
    "# Number of trees in random forest\n",
    "n_estimators = [50, 200, 500, 1000]\n",
    "# Number of features to consider at every split\n",
    "max_features = ['auto', 'sqrt']\n",
    "# Maximum number of levels in tree\n",
    "max_depth = [int(x) for x in np.linspace(10, 110, num = 11)]\n",
    "max_depth.append(None)\n",
    "# Minimum number of samples required to split a node\n",
    "min_samples_split = [2, 5, 10]\n",
    "# Minimum number of samples required at each leaf node\n",
    "min_samples_leaf = [1, 2, 4]\n",
    "# Method of selecting samples for training each tree\n",
    "bootstrap = [True, False]\n",
    "# Create the random grid\n",
    "random_grid = {'n_estimators': n_estimators,\n",
    "               'max_features': max_features,\n",
    "               'max_depth': max_depth,\n",
    "               'min_samples_split': min_samples_split,\n",
    "               'min_samples_leaf': min_samples_leaf,\n",
    "               'bootstrap': bootstrap}\n",
    "\n",
    "pprint(random_grid)"
   ]
  },
  {
   "cell_type": "markdown",
   "metadata": {},
   "source": [
    "#### Modelo"
   ]
  },
  {
   "cell_type": "markdown",
   "metadata": {},
   "source": [
    "##### Procura pelos melhores parametros"
   ]
  },
  {
   "cell_type": "code",
   "execution_count": 17,
   "metadata": {},
   "outputs": [],
   "source": [
    "#rRegressor = RandomForestRegressor()\n",
    "# random_regressor = RandomizedSearchCV(estimator=rRegressor,\n",
    "#                                       param_distributions=random_grid,\n",
    "#                                       n_iter=50,\n",
    "#                                       cv=3,\n",
    "#                                       verbose=3,\n",
    "#                                       random_state=42,\n",
    "#                                       n_jobs=-1)"
   ]
  },
  {
   "cell_type": "code",
   "execution_count": 18,
   "metadata": {},
   "outputs": [],
   "source": [
    "# random_regressor.fit(x1_train, y1_train)"
   ]
  },
  {
   "cell_type": "code",
   "execution_count": 19,
   "metadata": {},
   "outputs": [],
   "source": [
    "# best_params = random_regressor.best_params_\n",
    "# pprint(best_params)"
   ]
  },
  {
   "cell_type": "markdown",
   "metadata": {},
   "source": [
    "##### Previsão"
   ]
  },
  {
   "cell_type": "code",
   "execution_count": 20,
   "metadata": {},
   "outputs": [],
   "source": [
    "best_regressor = RandomForestRegressor(bootstrap=True,\n",
    "                                       max_depth=110,\n",
    "                                       max_features='auto',\n",
    "                                       min_samples_leaf=2,\n",
    "                                       min_samples_split=5,\n",
    "                                       n_estimators=50,\n",
    "                                       n_jobs=-1,\n",
    "                                       random_state=42\n",
    "                                      )"
   ]
  },
  {
   "cell_type": "code",
   "execution_count": 21,
   "metadata": {},
   "outputs": [
    {
     "data": {
      "text/plain": [
       "RandomForestRegressor(max_depth=110, min_samples_leaf=2, min_samples_split=5,\n",
       "                      n_estimators=50, n_jobs=-1, random_state=42)"
      ]
     },
     "execution_count": 21,
     "metadata": {},
     "output_type": "execute_result"
    }
   ],
   "source": [
    "best_regressor.fit(x1_train, y1_train)"
   ]
  },
  {
   "cell_type": "markdown",
   "metadata": {},
   "source": [
    "#### Avaliação dos resultados"
   ]
  },
  {
   "cell_type": "code",
   "execution_count": 22,
   "metadata": {},
   "outputs": [
    {
     "name": "stdout",
     "output_type": "stream",
     "text": [
      "Performance\n",
      "Erro medio: 0.19005580714754242\n",
      "Precisão = 81.0%\n"
     ]
    },
    {
     "data": {
      "text/plain": [
       "81.0"
      ]
     },
     "execution_count": 22,
     "metadata": {},
     "output_type": "execute_result"
    }
   ],
   "source": [
    "evaluate(best_regressor, x1_test, y1_test, 'Random Forest Regressor - Tunned')"
   ]
  },
  {
   "cell_type": "markdown",
   "metadata": {},
   "source": [
    "---"
   ]
  },
  {
   "cell_type": "markdown",
   "metadata": {},
   "source": [
    "### Modelo 2: Gradient boost"
   ]
  },
  {
   "cell_type": "code",
   "execution_count": 23,
   "metadata": {},
   "outputs": [],
   "source": [
    "from xgboost import XGBRegressor\n",
    "from sklearn.model_selection import GridSearchCV"
   ]
  },
  {
   "cell_type": "code",
   "execution_count": 24,
   "metadata": {},
   "outputs": [],
   "source": [
    "xgbr_x_train, xgbr_x_test, xgbr_y_train, xgbr_y_test = train_test_split(x1, y1, \n",
    "                                                        test_size=0.15)"
   ]
  },
  {
   "cell_type": "markdown",
   "metadata": {},
   "source": [
    "#### Modelo"
   ]
  },
  {
   "cell_type": "code",
   "execution_count": 25,
   "metadata": {},
   "outputs": [
    {
     "data": {
      "text/plain": [
       "XGBRegressor(base_score=0.5, booster=None, colsample_bylevel=1,\n",
       "             colsample_bynode=1, colsample_bytree=1, gamma=0, gpu_id=-1,\n",
       "             importance_type='gain', interaction_constraints=None,\n",
       "             learning_rate=0.300000012, max_delta_step=0, max_depth=6,\n",
       "             min_child_weight=1, missing=nan, monotone_constraints=None,\n",
       "             n_estimators=100, n_jobs=0, num_parallel_tree=1, random_state=0,\n",
       "             reg_alpha=0, reg_lambda=1, scale_pos_weight=1, subsample=1,\n",
       "             tree_method=None, validate_parameters=False, verbosity=None)"
      ]
     },
     "execution_count": 25,
     "metadata": {},
     "output_type": "execute_result"
    }
   ],
   "source": [
    "xgbr_model = XGBRegressor()\n",
    "xgbr_model.fit(xgbr_x_train, xgbr_y_train, verbose=False)"
   ]
  },
  {
   "cell_type": "code",
   "execution_count": 26,
   "metadata": {},
   "outputs": [
    {
     "name": "stdout",
     "output_type": "stream",
     "text": [
      "Performance\n",
      "Erro medio: 0.35729906898950525\n",
      "Precisão = 64.3%\n"
     ]
    },
    {
     "data": {
      "text/plain": [
       "64.3"
      ]
     },
     "execution_count": 26,
     "metadata": {},
     "output_type": "execute_result"
    }
   ],
   "source": [
    "evaluate(xgbr_model, xgbr_x_test, xgbr_y_test, 'XGBRegressor')"
   ]
  },
  {
   "cell_type": "markdown",
   "metadata": {},
   "source": [
    "<i>ouch</i>"
   ]
  },
  {
   "cell_type": "markdown",
   "metadata": {},
   "source": [
    "#### Tuning"
   ]
  },
  {
   "cell_type": "code",
   "execution_count": 27,
   "metadata": {},
   "outputs": [
    {
     "name": "stdout",
     "output_type": "stream",
     "text": [
      "{'base_score': 0.5,\n",
      " 'booster': None,\n",
      " 'colsample_bylevel': 1,\n",
      " 'colsample_bynode': 1,\n",
      " 'colsample_bytree': 1,\n",
      " 'gamma': 0,\n",
      " 'gpu_id': -1,\n",
      " 'importance_type': 'gain',\n",
      " 'interaction_constraints': None,\n",
      " 'learning_rate': 0.300000012,\n",
      " 'max_delta_step': 0,\n",
      " 'max_depth': 6,\n",
      " 'min_child_weight': 1,\n",
      " 'missing': nan,\n",
      " 'monotone_constraints': None,\n",
      " 'n_estimators': 100,\n",
      " 'n_jobs': 0,\n",
      " 'num_parallel_tree': 1,\n",
      " 'objective': 'reg:squarederror',\n",
      " 'random_state': 0,\n",
      " 'reg_alpha': 0,\n",
      " 'reg_lambda': 1,\n",
      " 'scale_pos_weight': 1,\n",
      " 'subsample': 1,\n",
      " 'tree_method': None,\n",
      " 'validate_parameters': False,\n",
      " 'verbosity': None}\n"
     ]
    }
   ],
   "source": [
    "pprint(xgbr_model.get_params())"
   ]
  },
  {
   "cell_type": "code",
   "execution_count": 28,
   "metadata": {},
   "outputs": [],
   "source": [
    "grid_xgbr_params = {'n_estimators': [100, 250],\n",
    "                    'learning_rate': [0.1, 0.25, 0.5],\n",
    "                    'max_depth': [10],\n",
    "                    'random_state': [22]}"
   ]
  },
  {
   "cell_type": "code",
   "execution_count": 29,
   "metadata": {},
   "outputs": [],
   "source": [
    "grid_xgbr_model = XGBRegressor()\n",
    "xgbr_grid = GridSearchCV(estimator=grid_xgbr_model,\n",
    "                         param_grid=grid_xgbr_params,\n",
    "                         cv=3,\n",
    "                         verbose=3,\n",
    "                         n_jobs=-1)"
   ]
  },
  {
   "cell_type": "code",
   "execution_count": 30,
   "metadata": {
    "collapsed": true,
    "jupyter": {
     "outputs_hidden": true
    },
    "tags": []
   },
   "outputs": [
    {
     "name": "stdout",
     "output_type": "stream",
     "text": [
      "Fitting 3 folds for each of 6 candidates, totalling 18 fits\n",
      "[0]\tvalidation_0-rmse:3.42276\tvalidation_1-rmse:3.57179\n",
      "Multiple eval metrics have been passed: 'validation_1-rmse' will be used for early stopping.\n",
      "\n",
      "Will train until validation_1-rmse hasn't improved in 5 rounds.\n",
      "[1]\tvalidation_0-rmse:3.10051\tvalidation_1-rmse:3.23274\n",
      "[2]\tvalidation_0-rmse:2.81145\tvalidation_1-rmse:2.93062\n",
      "[3]\tvalidation_0-rmse:2.55254\tvalidation_1-rmse:2.66058\n",
      "[4]\tvalidation_0-rmse:2.31963\tvalidation_1-rmse:2.41776\n",
      "[5]\tvalidation_0-rmse:2.11048\tvalidation_1-rmse:2.20119\n",
      "[6]\tvalidation_0-rmse:1.92256\tvalidation_1-rmse:2.00545\n",
      "[7]\tvalidation_0-rmse:1.75417\tvalidation_1-rmse:1.83202\n",
      "[8]\tvalidation_0-rmse:1.60355\tvalidation_1-rmse:1.67432\n",
      "[9]\tvalidation_0-rmse:1.46876\tvalidation_1-rmse:1.53384\n",
      "[10]\tvalidation_0-rmse:1.34822\tvalidation_1-rmse:1.41054\n",
      "[11]\tvalidation_0-rmse:1.24016\tvalidation_1-rmse:1.29888\n",
      "[12]\tvalidation_0-rmse:1.14376\tvalidation_1-rmse:1.20133\n",
      "[13]\tvalidation_0-rmse:1.05753\tvalidation_1-rmse:1.11436\n",
      "[14]\tvalidation_0-rmse:0.98079\tvalidation_1-rmse:1.03447\n",
      "[15]\tvalidation_0-rmse:0.91311\tvalidation_1-rmse:0.96461\n",
      "[16]\tvalidation_0-rmse:0.85208\tvalidation_1-rmse:0.90578\n",
      "[17]\tvalidation_0-rmse:0.79896\tvalidation_1-rmse:0.85224\n",
      "[18]\tvalidation_0-rmse:0.75220\tvalidation_1-rmse:0.80359\n",
      "[19]\tvalidation_0-rmse:0.70945\tvalidation_1-rmse:0.76518\n",
      "[20]\tvalidation_0-rmse:0.67270\tvalidation_1-rmse:0.72910\n",
      "[21]\tvalidation_0-rmse:0.63987\tvalidation_1-rmse:0.69780\n",
      "[22]\tvalidation_0-rmse:0.61084\tvalidation_1-rmse:0.67193\n",
      "[23]\tvalidation_0-rmse:0.58471\tvalidation_1-rmse:0.64741\n",
      "[24]\tvalidation_0-rmse:0.56186\tvalidation_1-rmse:0.62711\n",
      "[25]\tvalidation_0-rmse:0.54190\tvalidation_1-rmse:0.60949\n",
      "[26]\tvalidation_0-rmse:0.52343\tvalidation_1-rmse:0.59415\n",
      "[27]\tvalidation_0-rmse:0.50721\tvalidation_1-rmse:0.58125\n",
      "[28]\tvalidation_0-rmse:0.49284\tvalidation_1-rmse:0.57102\n",
      "[29]\tvalidation_0-rmse:0.47927\tvalidation_1-rmse:0.56129\n",
      "[30]\tvalidation_0-rmse:0.46836\tvalidation_1-rmse:0.55373\n",
      "[31]\tvalidation_0-rmse:0.45774\tvalidation_1-rmse:0.54684\n",
      "[32]\tvalidation_0-rmse:0.44754\tvalidation_1-rmse:0.54069\n",
      "[33]\tvalidation_0-rmse:0.44000\tvalidation_1-rmse:0.53669\n",
      "[34]\tvalidation_0-rmse:0.43251\tvalidation_1-rmse:0.53285\n",
      "[35]\tvalidation_0-rmse:0.42675\tvalidation_1-rmse:0.53009\n",
      "[36]\tvalidation_0-rmse:0.42018\tvalidation_1-rmse:0.52726\n",
      "[37]\tvalidation_0-rmse:0.41371\tvalidation_1-rmse:0.52575\n",
      "[38]\tvalidation_0-rmse:0.40758\tvalidation_1-rmse:0.52471\n",
      "[39]\tvalidation_0-rmse:0.40309\tvalidation_1-rmse:0.52426\n",
      "[40]\tvalidation_0-rmse:0.39819\tvalidation_1-rmse:0.52303\n",
      "[41]\tvalidation_0-rmse:0.39495\tvalidation_1-rmse:0.52229\n",
      "[42]\tvalidation_0-rmse:0.39132\tvalidation_1-rmse:0.52226\n",
      "[43]\tvalidation_0-rmse:0.38876\tvalidation_1-rmse:0.52290\n",
      "[44]\tvalidation_0-rmse:0.38626\tvalidation_1-rmse:0.52304\n",
      "[45]\tvalidation_0-rmse:0.38350\tvalidation_1-rmse:0.52379\n",
      "[46]\tvalidation_0-rmse:0.38079\tvalidation_1-rmse:0.52481\n",
      "[47]\tvalidation_0-rmse:0.37777\tvalidation_1-rmse:0.52477\n",
      "Stopping. Best iteration:\n",
      "[42]\tvalidation_0-rmse:0.39132\tvalidation_1-rmse:0.52226\n",
      "\n"
     ]
    },
    {
     "data": {
      "text/plain": [
       "GridSearchCV(cv=3,\n",
       "             estimator=XGBRegressor(base_score=None, booster=None,\n",
       "                                    colsample_bylevel=None,\n",
       "                                    colsample_bynode=None,\n",
       "                                    colsample_bytree=None, gamma=None,\n",
       "                                    gpu_id=None, importance_type='gain',\n",
       "                                    interaction_constraints=None,\n",
       "                                    learning_rate=None, max_delta_step=None,\n",
       "                                    max_depth=None, min_child_weight=None,\n",
       "                                    missing=nan, monotone_constraints=None,\n",
       "                                    n_estimators=100, n_jobs=None,\n",
       "                                    num_parallel_tree=None, random_state=None,\n",
       "                                    reg_alpha=None, reg_lambda=None,\n",
       "                                    scale_pos_weight=None, subsample=None,\n",
       "                                    tree_method=None, validate_parameters=False,\n",
       "                                    verbosity=None),\n",
       "             n_jobs=-1,\n",
       "             param_grid={'learning_rate': [0.1, 0.25, 0.5], 'max_depth': [10],\n",
       "                         'n_estimators': [100, 250], 'random_state': [22]},\n",
       "             verbose=3)"
      ]
     },
     "execution_count": 30,
     "metadata": {},
     "output_type": "execute_result"
    }
   ],
   "source": [
    "xgbr_grid.fit(xgbr_x_train, xgbr_y_train,\n",
    "              eval_set=[(xgbr_x_train, xgbr_y_train), (xgbr_x_test, xgbr_y_test)],\n",
    "              early_stopping_rounds=5)"
   ]
  },
  {
   "cell_type": "markdown",
   "metadata": {},
   "source": [
    "Melhores parametros"
   ]
  },
  {
   "cell_type": "code",
   "execution_count": 31,
   "metadata": {
    "tags": []
   },
   "outputs": [
    {
     "name": "stdout",
     "output_type": "stream",
     "text": [
      "{'learning_rate': 0.1, 'max_depth': 10, 'n_estimators': 250, 'random_state': 22}\n"
     ]
    }
   ],
   "source": [
    "pprint(xgbr_grid.best_params_)\n",
    "xgbr_best_params = xgbr_grid.best_params_\n",
    "# xgbr_best_params_ = {'learning_rate': 0.1, 'max_depth': 10, 'n_estimators': 250, 'random_state': 22}\n",
    "learning_rate = 0.25\n",
    "max_depth = 10\n",
    "n_estimators = 250\n",
    "random_state = 22\n",
    "early_stopping_rounds = 5"
   ]
  },
  {
   "cell_type": "code",
   "execution_count": 32,
   "metadata": {},
   "outputs": [
    {
     "name": "stdout",
     "output_type": "stream",
     "text": [
      "Performance\n",
      "Erro medio: 0.2241890563367031\n",
      "Precisão = 77.60000000000001%\n"
     ]
    },
    {
     "data": {
      "text/plain": [
       "77.60000000000001"
      ]
     },
     "execution_count": 32,
     "metadata": {},
     "output_type": "execute_result"
    }
   ],
   "source": [
    "xgbr_best_model = XGBRegressor(learning_rate=learning_rate,\n",
    "                               max_depth=max_depth,\n",
    "                               n_estimators=n_estimators,\n",
    "                               random_state=22)\n",
    "xgbr_best_model.fit(xgbr_x_train, xgbr_y_train, verbose=False)\n",
    "evaluate(xgbr_best_model, xgbr_x_test, xgbr_y_test, 'XGBRegressor - Tunned')"
   ]
  },
  {
   "cell_type": "code",
   "execution_count": 33,
   "metadata": {},
   "outputs": [
    {
     "data": {
      "text/plain": [
       "{'Random Forest Regressor': 82.19999999999999,\n",
       " 'Random Forest Regressor - Tunned': 81.0,\n",
       " 'XGBRegressor': 64.3,\n",
       " 'XGBRegressor - Tunned': 77.60000000000001}"
      ]
     },
     "execution_count": 33,
     "metadata": {},
     "output_type": "execute_result"
    }
   ],
   "source": [
    "results"
   ]
  },
  {
   "cell_type": "markdown",
   "metadata": {},
   "source": [
    "### Modelo 3: AdaBoost"
   ]
  }
 ],
 "metadata": {
  "kernelspec": {
   "display_name": "Python 3",
   "language": "python",
   "name": "python3"
  },
  "language_info": {
   "codemirror_mode": {
    "name": "ipython",
    "version": 3
   },
   "file_extension": ".py",
   "mimetype": "text/x-python",
   "name": "python",
   "nbconvert_exporter": "python",
   "pygments_lexer": "ipython3",
   "version": "3.8.6"
  },
  "toc-autonumbering": false,
  "toc-showcode": false,
  "toc-showmarkdowntxt": false
 },
 "nbformat": 4,
 "nbformat_minor": 5
}
