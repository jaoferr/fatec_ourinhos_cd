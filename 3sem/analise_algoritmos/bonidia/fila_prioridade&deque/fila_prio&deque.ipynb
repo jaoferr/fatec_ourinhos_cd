{
 "cells": [
  {
   "cell_type": "markdown",
   "metadata": {},
   "source": [
    "### Fila de prioridades e deques"
   ]
  },
  {
   "cell_type": "markdown",
   "metadata": {},
   "source": [
    "####  Fila"
   ]
  },
  {
   "cell_type": "code",
   "execution_count": 31,
   "metadata": {},
   "outputs": [],
   "source": [
    "class FilaPrio:\n",
    "    \"\"\"\n",
    "    Fila de prioridades\n",
    "    \"\"\"\n",
    "    def __init__(self):\n",
    "        self.queue = []\n",
    "\n",
    "    def get_size(self):\n",
    "        \"\"\"Retorna o tamanho da fila\"\"\"\n",
    "        return len(self.queue)\n",
    "\n",
    "    def insert(self, elem):\n",
    "        \"\"\"Insere um elemento na fila\"\"\"\n",
    "        if self.get_size() == 0:\n",
    "            self.queue.insert(self.get_size(), elem)\n",
    "        else:\n",
    "            i = self.get_size() - 1\n",
    "            while i >= 0:\n",
    "                if elem > self.queue[i]:\n",
    "                    pass\n",
    "                else:\n",
    "                    break\n",
    "                i -= 1\n",
    "            self.queue.insert(i + 1, elem)\n",
    "        return elem\n",
    "    \n",
    "    def remove(self):\n",
    "        \"\"\"Remove um elemento da fila\"\"\"\n",
    "        if self.get_size != 0:\n",
    "            return self.queue.pop(0)\n",
    "        \n",
    "    def first_elem(self):\n",
    "        return self.queue[0]\n",
    "    \n",
    "    def last_elem(self):\n",
    "        return self.queue[-1]\n",
    "    \n",
    "    def show_queue(self):\n",
    "        return self.queue\n",
    "    \n",
    "    "
   ]
  },
  {
   "cell_type": "code",
   "execution_count": 32,
   "metadata": {},
   "outputs": [
    {
     "name": "stdout",
     "output_type": "stream",
     "text": [
      "0\n",
      "[5600, 968, 500, 89, 65, 15]\n",
      "6\n",
      "5600\n",
      "968\n",
      "500\n",
      "4\n"
     ]
    }
   ],
   "source": [
    "q = FilaPrio()\n",
    "print(q.get_size())\n",
    "q.insert(500)\n",
    "q.insert(65)\n",
    "q.insert(89)\n",
    "q.insert(15)\n",
    "q.insert(968)\n",
    "q.insert(5600)\n",
    "print(q.show_queue())\n",
    "print(q.get_size())\n",
    "print(q.remove())\n",
    "print(q.remove())\n",
    "print(q.first_elem())\n",
    "print(q.get_size())"
   ]
  },
  {
   "cell_type": "markdown",
   "metadata": {},
   "source": [
    "---"
   ]
  },
  {
   "cell_type": "markdown",
   "metadata": {},
   "source": [
    "#### Deque"
   ]
  },
  {
   "cell_type": "code",
   "execution_count": 34,
   "metadata": {},
   "outputs": [],
   "source": [
    "class Deque1:\n",
    "    \"\"\"\n",
    "    Double ended queue\n",
    "    \"\"\"\n",
    "    def __init__(self):\n",
    "        self.deque = []\n",
    "        \n",
    "    def get_size(self):\n",
    "        return len(self.deque)\n",
    "    \n",
    "    def insert_first(self, elem):\n",
    "        \"\"\"Insere um elemento no primeiro lugar na fila\"\"\"\n",
    "        self.deque.insert(0, elem)\n",
    "        return elem\n",
    "    \n",
    "    def insert_last(self, elem):\n",
    "        \"\"\"Insere um elemento no ultimo lugar na fila\"\"\"\n",
    "        self.deque.append(elem)\n",
    "        return elem\n",
    "    \n",
    "    def remove_first(self):\n",
    "        \"\"\"Remove o elemento no primeiro lugar na fila\"\"\"\n",
    "        if self.get_size() != 0:\n",
    "            return self.deque.pop(0)\n",
    "        \n",
    "    def remove_last(self):\n",
    "        \"\"\"Remove o elemento no ultimo lugar na fila\"\"\"\n",
    "        if self.get_size() != 0:\n",
    "            return self.deque.pop(-1)\n",
    "        \n",
    "    def get_first(self):\n",
    "        \"\"\"Retorna o elemento no primeiro lugar da fila\"\"\"\n",
    "        return self.deque[0]\n",
    "    \n",
    "    def get_last(self):\n",
    "        \"\"\"Retorna o elemento no ultimo lugar da fila\"\"\"\n",
    "        return self.deque[-1]\n",
    "    \n",
    "    def show_deque(self):\n",
    "        \"\"\"Retorna o deque inteiro\"\"\"\n",
    "        return self.deque"
   ]
  },
  {
   "cell_type": "code",
   "execution_count": 36,
   "metadata": {},
   "outputs": [
    {
     "name": "stdout",
     "output_type": "stream",
     "text": [
      "0\n",
      "[360, 90, 180, 85, 278, 15]\n",
      "6\n",
      "360\n",
      "90\n",
      "15\n",
      "278\n",
      "180\n",
      "85\n",
      "2\n"
     ]
    }
   ],
   "source": [
    "dq = Deque1()\n",
    "print(dq.get_size())\n",
    "dq.insert_first(180)\n",
    "dq.insert_first(90)\n",
    "dq.insert_first(360)\n",
    "dq.insert_last(85)\n",
    "dq.insert_last(278)\n",
    "dq.insert_last(15)\n",
    "print(dq.show_deque())\n",
    "print(dq.get_size())\n",
    "print(dq.remove_first())\n",
    "print(dq.remove_first())\n",
    "print(dq.remove_last())\n",
    "print(dq.remove_last())\n",
    "print(dq.get_first())\n",
    "print(dq.get_last())\n",
    "print(dq.get_size())"
   ]
  }
 ],
 "metadata": {
  "kernelspec": {
   "display_name": "Python 3",
   "language": "python",
   "name": "python3"
  },
  "language_info": {
   "codemirror_mode": {
    "name": "ipython",
    "version": 3
   },
   "file_extension": ".py",
   "mimetype": "text/x-python",
   "name": "python",
   "nbconvert_exporter": "python",
   "pygments_lexer": "ipython3",
   "version": "3.8.6"
  }
 },
 "nbformat": 4,
 "nbformat_minor": 4
}
