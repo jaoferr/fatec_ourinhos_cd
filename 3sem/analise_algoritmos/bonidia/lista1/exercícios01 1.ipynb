{
 "cells": [
  {
   "cell_type": "markdown",
   "metadata": {},
   "source": [
    "Link: https://github.com/Bonidia/EstruturaDados"
   ]
  },
  {
   "cell_type": "code",
   "execution_count": null,
   "metadata": {},
   "outputs": [],
   "source": [
    "1 - Tamanho de strings. Faça um programa que leia 2 strings e informe o conteúdo delas \n",
    "seguido do seu comprimento. Informe também se as duas strings possuem o mesmo comprimento \n",
    "e são iguais ou diferentes no conteúdo.\n",
    "\n",
    "\"\"\"\n",
    "Exemplo\n",
    "\n",
    "Compara duas strings\n",
    "String 1: Brasil Hexa 2006\n",
    "String 2: Brasil! Hexa 2006!\n",
    "Tamanho de \"Brasil Hexa 2006\": 16 caracteres\n",
    "Tamanho de \"Brasil! Hexa 2006!\": 18 caracteres\n",
    "As duas strings são de tamanhos diferentes.\n",
    "As duas strings possuem conteúdo diferente.\n",
    "\n",
    "\"\"\""
   ]
  },
  {
   "cell_type": "code",
   "execution_count": 3,
   "metadata": {},
   "outputs": [
    {
     "name": "stdout",
     "output_type": "stream",
     "text": [
      "String 1: Brasil Hexa 2006\n",
      "Tamanho da string 1: 16\n",
      "String 2: Brasil! Hexa 2006!\n",
      "Tamanho da string 2: 18\n",
      "As strings possuem tamanhos diferentes.\n",
      "As strings possuem conteudo diferente\n"
     ]
    }
   ],
   "source": [
    "# Resolução\n",
    "def comparar_string(string1, string2):\n",
    "    s = [string1, string2]\n",
    "    for i, string in enumerate(s):\n",
    "        print(f'String {i+1}: {string}\\nTamanho da string {i+1}: {len(string)}')\n",
    "    \n",
    "    if len(s[0]) == len(s[1]):\n",
    "        print('As strings possuem o mesmo tamanho.')\n",
    "    else:\n",
    "        print('As strings possuem tamanhos diferentes.')\n",
    "    \n",
    "    if s[0] == s[1]:\n",
    "        print('As string sao iguais.')\n",
    "    else:\n",
    "        print('As strings possuem conteudo diferente')\n",
    "        \n",
    "string1 = 'Brasil Hexa 2006'\n",
    "string2 = 'Brasil! Hexa 2006!'\n",
    "comparar_string(string1, string2)"
   ]
  },
  {
   "cell_type": "code",
   "execution_count": null,
   "metadata": {},
   "outputs": [],
   "source": [
    "2 - Faça um programa que solicite o nome do usuário e imprima-o na vertical.\n",
    "\n",
    "\"\"\"\n",
    "F\n",
    "U\n",
    "L\n",
    "A\n",
    "N\n",
    "O\n",
    "\n",
    "\"\"\""
   ]
  },
  {
   "cell_type": "code",
   "execution_count": 4,
   "metadata": {},
   "outputs": [
    {
     "name": "stdout",
     "output_type": "stream",
     "text": [
      "j\n",
      "o\n",
      "a\n",
      "o\n",
      " \n",
      "f\n",
      "e\n",
      "r\n",
      "n\n",
      "a\n",
      "n\n",
      "d\n",
      "o\n"
     ]
    }
   ],
   "source": [
    "# Resolução\n",
    "def vertical_nome(nome):\n",
    "    for l in nome:\n",
    "        print(l)\n",
    "nome = 'joao fernando'\n",
    "vertical_nome(nome)"
   ]
  },
  {
   "cell_type": "code",
   "execution_count": null,
   "metadata": {},
   "outputs": [],
   "source": [
    "3 - Nome na vertical em escada. Modifique o programa anterior de forma a mostrar o nome em formato de escada.\n",
    "\n",
    "\"\"\"\n",
    "F\n",
    "FU\n",
    "FUL\n",
    "FULA\n",
    "FULAN\n",
    "FULANO\n",
    "\"\"\""
   ]
  },
  {
   "cell_type": "code",
   "execution_count": 7,
   "metadata": {},
   "outputs": [
    {
     "name": "stdout",
     "output_type": "stream",
     "text": [
      "j\n",
      "jo\n",
      "joa\n",
      "joao\n",
      "joao \n",
      "joao f\n",
      "joao fe\n",
      "joao fer\n",
      "joao fern\n",
      "joao ferna\n",
      "joao fernan\n",
      "joao fernand\n",
      "joao fernando\n"
     ]
    }
   ],
   "source": [
    "# Resolução\n",
    "def escada_nome(nome):\n",
    "    for i in range(len(nome)):\n",
    "        print(nome[:i+1])\n",
    "nome = 'joao fernando'\n",
    "escada_nome(nome)"
   ]
  },
  {
   "cell_type": "code",
   "execution_count": null,
   "metadata": {},
   "outputs": [],
   "source": [
    "4 - Nome na vertical em escada invertida. Altere o programa anterior de modo que a escada seja invertida.\n",
    "\n",
    "\"\"\"\n",
    "FULANO\n",
    "FULAN\n",
    "FULA\n",
    "FUL\n",
    "FU\n",
    "F\n",
    "\"\"\""
   ]
  },
  {
   "cell_type": "code",
   "execution_count": 42,
   "metadata": {},
   "outputs": [
    {
     "name": "stdout",
     "output_type": "stream",
     "text": [
      "joao fernando\n",
      "joao fernand\n",
      "joao fernan\n",
      "joao ferna\n",
      "joao fern\n",
      "joao fer\n",
      "joao fe\n",
      "joao f\n",
      "joao \n",
      "joao\n",
      "joa\n",
      "jo\n",
      "j\n",
      "\n"
     ]
    }
   ],
   "source": [
    "# Resolução\n",
    "def escadaInvertida_nome(nome):\n",
    "    print(nome)\n",
    "    for i in range(len(nome)):\n",
    "        print(nome[:-(i+1)])\n",
    "nome = 'joao fernando'\n",
    "escadaInvertida_nome(nome)"
   ]
  },
  {
   "cell_type": "code",
   "execution_count": null,
   "metadata": {},
   "outputs": [],
   "source": [
    "5 - Em uma competição de salto em distância cada atleta tem direito a cinco saltos. \n",
    "O resultado do atleta será determinado pela média dos cinco valores restantes. \n",
    "Você deve fazer um programa que receba o nome e as cinco distâncias alcançadas pelo atleta \n",
    "em seus saltos e depois informe o nome, os saltos e a média dos saltos. \n",
    "O programa deve ser encerrado quando não for informado o nome do atleta. \n",
    "A saída do programa deve ser conforme o exemplo abaixo:\"\"\"\n",
    "    \n",
    "\"\"\n",
    "Atleta: Rodrigo Curvêllo\n",
    " \n",
    "Primeiro Salto: 6.5 m\n",
    "Segundo Salto: 6.1 m\n",
    "Terceiro Salto: 6.2 m\n",
    "Quarto Salto: 5.4 m\n",
    "Quinto Salto: 5.3 m\n",
    "\n",
    "Resultado final:\n",
    "Atleta: Rodrigo Curvêllo\n",
    "Saltos: 6.5 - 6.1 - 6.2 - 5.4 - 5.3\n",
    "Média dos saltos: 5.9 m\n",
    "\"\"\""
   ]
  },
  {
   "cell_type": "code",
   "execution_count": 55,
   "metadata": {},
   "outputs": [
    {
     "name": "stdin",
     "output_type": "stream",
     "text": [
      "Nome do atleta: Ronaldinho Gaucho\n",
      "Primeiro Salto:  6\n",
      "Segundo Salto:  5.8\n",
      "Terceiro Salto:  6.5\n",
      "Quarto Salto:  6.2\n",
      "Quinto Salto:  7\n",
      "\n",
      "Continuar? (S/N) S\n",
      "Nome do atleta: Lewis Hamilton\n",
      "Primeiro Salto:  8\n",
      "Segundo Salto:  44\n",
      "Terceiro Salto:  7\n",
      "Quarto Salto:  5.6\n",
      "Quinto Salto:  9\n",
      "\n",
      "Continuar? (S/N) N\n"
     ]
    },
    {
     "name": "stdout",
     "output_type": "stream",
     "text": [
      "\n",
      "Resultado final:\n",
      "\n",
      "Atleta: Ronaldinho Gaucho\n",
      "Saltos: 8 - 44 - 7 - 5.6 - 9\n",
      "Media dos saltos: 6.3\n",
      "\n",
      "Atleta: Lewis Hamilton\n",
      "Saltos: 8 - 44 - 7 - 5.6 - 9\n",
      "Media dos saltos: 14.72\n"
     ]
    }
   ],
   "source": [
    "# Resolução 1\n",
    "from statistics import mean\n",
    "def saltos_input():\n",
    "    ordem = ['Primeiro', 'Segundo', 'Terceiro', 'Quarto', 'Quinto']\n",
    "    atletas = {}\n",
    "    while True:\n",
    "        atleta = str(input('Nome do atleta:'))\n",
    "        saltos = []\n",
    "        for salto in ordem:\n",
    "            s = input(f'{salto} Salto: ')\n",
    "            saltos.append(s)\n",
    "        atletas[atleta] = saltos\n",
    "        if input('\\nContinuar? (S/N)') in ('S', 's'):\n",
    "            continue\n",
    "        else:\n",
    "            break\n",
    "\n",
    "    print('\\nResultado final:')\n",
    "    for atleta in atletas.keys():\n",
    "        print(f'\\nAtleta: {atleta}')\n",
    "        saltos_string = ' - '.join(saltos)\n",
    "        print(f'Saltos: {saltos_string}')\n",
    "        print(f'Media dos saltos: {mean(map(float, atletas[atleta]))}')\n",
    "saltos_input()"
   ]
  },
  {
   "cell_type": "code",
   "execution_count": 46,
   "metadata": {},
   "outputs": [
    {
     "name": "stdout",
     "output_type": "stream",
     "text": [
      "Atleta Ronaldinho Gaucho\n",
      "Salto numero 0: 6.5 m\n",
      "Salto numero 1: 5.9 m\n",
      "Salto numero 2: 6.0 m\n",
      "Salto numero 3: 7 m\n",
      "Salto numero 4: 6.5 m\n",
      "Salto numero 5: 5.8 m\n",
      "\n",
      "Resultado final:\n",
      "Atleta: Ronaldinho Gaucho\n",
      "Saltos: 6.5 - 5.9 - 6.0 - 7 - 6.5 - 5.8\n",
      "Media dos saltos:6.283333333333333\n"
     ]
    }
   ],
   "source": [
    "# Resolução 2\n",
    "# Para n saltos\n",
    "def print_saltos(atleta, saltos=[]):\n",
    "    print(f'Atleta {atleta}')\n",
    "    for i, salto in enumerate(saltos):\n",
    "        print(f'Salto numero {i}: {salto} m')\n",
    "    \n",
    "    saltos_string = ' - '.join(map(str, saltos))\n",
    "    print(f'\\nResultado final:\\nAtleta: {atleta}\\nSaltos: {saltos_string}\\nMedia dos saltos:{mean(saltos)}')\n",
    "\n",
    "atleta = 'Ronaldinho Gaucho'\n",
    "saltos = [6.5, 5.9, 6.0, 7, 6.5, 5.8]\n",
    "\n",
    "print_saltos(atleta, saltos)"
   ]
  },
  {
   "cell_type": "code",
   "execution_count": null,
   "metadata": {},
   "outputs": [],
   "source": [
    "6 - Faça um programa que carregue uma lista com os modelos de cinco carros (exemplo de modelos: \n",
    "FUSCA, GOL, VECTRA etc). Carregue uma outra lista com o consumo desses carros, isto é, \n",
    "quantos quilômetros cada um desses carros faz com um litro de combustível. Calcule e mostre:\n",
    "A - O modelo do carro mais econômico;\n",
    "B - Quantos litros de combustível cada um dos carros cadastrados consome \n",
    "para percorrer uma distância de 1000 quilômetros e quanto isto custará, \n",
    "considerando um que a gasolina custe R$ 2,25 o litro.\n",
    "\n",
    "\"\"\"\n",
    "Comparativo de Consumo de Combustível\n",
    "\n",
    "Veículo 1\n",
    "Nome: fusca\n",
    "Km por litro: 7\n",
    "Veículo 2\n",
    "Nome: gol\n",
    "Km por litro: 10\n",
    "Veículo 3\n",
    "Nome: uno\n",
    "Km por litro: 12.5\n",
    "Veículo 4\n",
    "Nome: Vectra\n",
    "Km por litro: 9\n",
    "Veículo 5\n",
    "Nome: Peugeout\n",
    "Km por litro: 14.5\n",
    "\n",
    "Relatório Final\n",
    " 1 - fusca           -    7.0 -  142.9 litros - R$ 321.43\n",
    " 2 - gol             -   10.0 -  100.0 litros - R$ 225.00\n",
    " 3 - uno             -   12.5 -   80.0 litros - R$ 180.00\n",
    " 4 - vectra          -    9.0 -  111.1 litros - R$ 250.00\n",
    " 5 - peugeout        -   14.5 -   69.0 litros - R$ 155.17\n",
    "O menor consumo é do peugeout.\n",
    "\"\"\""
   ]
  },
  {
   "cell_type": "code",
   "execution_count": 2,
   "metadata": {},
   "outputs": [
    {
     "name": "stdout",
     "output_type": "stream",
     "text": [
      "Veiculo 0\n",
      "Nome: Onix 2021\n",
      "Km por litro: 10.7\n",
      "\n",
      "Veiculo 1\n",
      "Nome: Caterpillar 797B\n",
      "Km por litro: 0.59\n",
      "\n",
      "Veiculo 2\n",
      "Nome: Prius 2019\n",
      "Km por litro: 18.9\n",
      "\n",
      "Veiculo 3\n",
      "Nome: McLaren Senna\n",
      "Km por litro: 6.8\n",
      "\n",
      "Veiculo 4\n",
      "Nome: Bentley Continental W12 6.0\n",
      "Km por litro: 6.7\n",
      "\n",
      "Relatorio final\n",
      "0 - Onix 2021                      \t 10.7 km/l -      93.46 litros - R$ 210.28\n",
      "1 - Caterpillar 797B               \t 0.59 km/l -    1694.92 litros - R$ 3813.56\n",
      "2 - Prius 2019                     \t 18.9 km/l -      52.91 litros - R$ 119.05\n",
      "3 - McLaren Senna                  \t  6.8 km/l -     147.06 litros - R$ 330.88\n",
      "4 - Bentley Continental W12 6.0    \t  6.7 km/l -     149.25 litros - R$ 335.82\n",
      "\n",
      "O menor consumo é do Prius 2019, com 18.9 km/l\n",
      "O maior consumo é do Caterpillar 797B, com 0.59 km/l\n"
     ]
    }
   ],
   "source": [
    "# Resolução\n",
    "def carros_consumo(carros, preco_gas=2.25):\n",
    "    # car_cons = {carro: consumo for carro, consumo in zip(carros, consumo)}\n",
    "    \n",
    "    for i, [carro, consumo] in enumerate(carros.items()):\n",
    "        print(f'Veiculo {i}\\nNome: {carro}\\nKm por litro: {consumo}\\n')\n",
    "    \n",
    "    print('Relatorio final')\n",
    "    for i, [carro, consumo] in enumerate(carros.items()):\n",
    "        print(f'{i} - {carro:<30} \\t{consumo:>5} km/l - {round((1000/consumo), 2):>10} litros - R$ {round((1000/consumo) * preco_gas, 2)}')\n",
    "    \n",
    "    menor_consumo = max(carros, key=carros.get)\n",
    "    maior_consumo = min(carros, key=carros.get)\n",
    "    print(f'\\nO menor consumo é do {menor_consumo}, com {carros[menor_consumo]} km/l')\n",
    "    print(f'O maior consumo é do {maior_consumo}, com {carros[maior_consumo]} km/l')\n",
    "    \n",
    "carros = {'Onix 2021': 10.7, \n",
    "          'Caterpillar 797B': 0.59, \n",
    "          'Prius 2019': 18.9, \n",
    "          'McLaren Senna': 6.8,\n",
    "          'Bentley Continental W12 6.0': 6.7}\n",
    "\n",
    "carros_consumo(carros)"
   ]
  },
  {
   "cell_type": "code",
   "execution_count": null,
   "metadata": {},
   "outputs": [],
   "source": [
    "7 - Embaralha palavra. Construa uma função que receba uma string como parâmetro e\n",
    "devolva outra string com os carateres embaralhados. Por exemplo: se função receber \n",
    "a palavra python, pode retornar npthyo, ophtyn ou qualquer outra combinação possível, \n",
    "de forma aleatória. Padronize em sua função que todos os caracteres serão devolvidos \n",
    "em caixa alta ou caixa baixa, independentemente de como foram digitados."
   ]
  },
  {
   "cell_type": "code",
   "execution_count": 111,
   "metadata": {},
   "outputs": [
    {
     "name": "stdout",
     "output_type": "stream",
     "text": [
      "npoyth\n"
     ]
    }
   ],
   "source": [
    "# Resolução -- Usar Biblioteca Random\n",
    "import random\n",
    "def embaralha(palavra):\n",
    "    palavra = palavra.lower()\n",
    "    ordem = [i for i in range(len(palavra))]\n",
    "    nova_ordem = []\n",
    "    while len(nova_ordem) < len(ordem):\n",
    "        l = random.choice(ordem)\n",
    "        if l not in nova_ordem:\n",
    "            nova_ordem.append(l)\n",
    "    \n",
    "    embaralhada = ''.join([palavra[l] for l in nova_ordem])\n",
    "    print(embaralhada)\n",
    "\n",
    "palavra = 'pYthON' \n",
    "embaralha(palavra)\n"
   ]
  }
 ],
 "metadata": {
  "kernelspec": {
   "display_name": "Python 3",
   "language": "python",
   "name": "python3"
  },
  "language_info": {
   "codemirror_mode": {
    "name": "ipython",
    "version": 3
   },
   "file_extension": ".py",
   "mimetype": "text/x-python",
   "name": "python",
   "nbconvert_exporter": "python",
   "pygments_lexer": "ipython3",
   "version": "3.8.6"
  }
 },
 "nbformat": 4,
 "nbformat_minor": 4
}
