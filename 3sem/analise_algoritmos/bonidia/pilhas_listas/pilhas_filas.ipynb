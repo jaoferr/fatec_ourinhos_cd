{
 "cells": [
  {
   "cell_type": "markdown",
   "metadata": {},
   "source": [
    "### Pilhas e filas"
   ]
  },
  {
   "cell_type": "markdown",
   "metadata": {},
   "source": [
    "#### Pilha"
   ]
  },
  {
   "cell_type": "code",
   "execution_count": 2,
   "metadata": {},
   "outputs": [],
   "source": [
    "class pilha:\n",
    "    '''\n",
    "    Classe para implementacao de pilhas\n",
    "    '''   \n",
    "    def __init__(self, pilha):\n",
    "        self.pilha = pilha\n",
    "\n",
    "    def n_elem(self):\n",
    "        ''' Retorna o tamanho da pilha '''\n",
    "        return len(self.pilha)\n",
    "\n",
    "    def remove_all(self):\n",
    "        ''' Remove todos os elementos '''\n",
    "        self.pilha = []\n",
    "\n",
    "    def insert_elem(self, elem):\n",
    "        ''' Adiciona um elemento '''\n",
    "        self.pilha = [elem] + self.pilha\n",
    "\n",
    "    def remove_elem(self):\n",
    "        ''' Remove um elemento '''\n",
    "        self.pilha = self.pilha[1:]\n",
    "\n",
    "    def topo(self):\n",
    "        ''' Retorno o topo da pilha '''\n",
    "        return self.pilha[0]\n",
    "\n",
    "    def alt_topo(self, elem):\n",
    "        ''' Altera o topo da pilha '''\n",
    "        self.pilha[0] = elem\n",
    "\n",
    "    def isEmpty(self):\n",
    "        ''' Retorna se a pilha esta vazia ou nao '''\n",
    "        return not self.pilha\n",
    "\n",
    "    def show(self):\n",
    "        ''' Retorna cada elemento da pilha e seu indice '''\n",
    "        [print(f'{i+1}: \\t{elem}') for i, elem in enumerate(self.pilha)]\n",
    "        \n",
    "    def to_string(self):\n",
    "        ''' Transforma a pilha em uma string '''\n",
    "        return ''.join([str(x) for x in self.pilha])"
   ]
  },
  {
   "cell_type": "code",
   "execution_count": 23,
   "metadata": {},
   "outputs": [
    {
     "name": "stdout",
     "output_type": "stream",
     "text": [
      "1: \t0\n",
      "2: \t2\n",
      "3: \t4\n",
      "4: \t6\n",
      "5: \t8\n",
      "6: \t10\n",
      "7: \t12\n",
      "8: \t14\n",
      "9: \t16\n",
      "10: \t18\n"
     ]
    }
   ],
   "source": [
    "v = [x for x in range(0, 20, 2)]\n",
    "a = pilha(v)\n",
    "a.show()"
   ]
  },
  {
   "cell_type": "code",
   "execution_count": 4,
   "metadata": {},
   "outputs": [
    {
     "name": "stdout",
     "output_type": "stream",
     "text": [
      "número de elementos empilhados:  10\n",
      "inserir elementos na pilha (200):  [200, 0, 2, 4, 6, 8, 10, 12, 14, 16, 18]\n",
      "retirar elementos da pilha:  [0, 2, 4, 6, 8, 10, 12, 14, 16, 18]\n",
      "retorna o elemento que está no topo da pilha:  0\n",
      "alterar elemento que está no topo da pilha:  [300, 2, 4, 6, 8, 10, 12, 14, 16, 18]\n",
      "verifica se a pilha está vazia:  False\n"
     ]
    }
   ],
   "source": [
    "print('número de elementos empilhados: ', a.n_elem())\n",
    "a.insert_elem(200)\n",
    "print('inserir elementos na pilha (200): ', a.pilha)\n",
    "a.remove_elem()\n",
    "print('retirar elementos da pilha: ', a.pilha)\n",
    "print('retorna o elemento que está no topo da pilha: ', a.topo())\n",
    "a.alt_topo(300)\n",
    "print('alterar elemento que está no topo da pilha: ', a.pilha)\n",
    "print('verifica se a pilha está vazia: ', a.isEmpty())"
   ]
  },
  {
   "cell_type": "markdown",
   "metadata": {},
   "source": [
    "---"
   ]
  },
  {
   "cell_type": "markdown",
   "metadata": {},
   "source": [
    "#### Filas"
   ]
  },
  {
   "cell_type": "code",
   "execution_count": 20,
   "metadata": {},
   "outputs": [],
   "source": [
    "class fila:\n",
    "    '''\n",
    "    Classe para implementacao de filas\n",
    "    '''\n",
    "    \n",
    "    def __init__(self, fila):\n",
    "        self.fila = fila.copy()\n",
    "        \n",
    "    def insert_elem(self, elem):\n",
    "        ''' Insere um elemento na fila '''\n",
    "        self.fila+= [elem]\n",
    "        return elem\n",
    "        \n",
    "    def remove_elem(self):\n",
    "        ''' Remove um elemento da fila '''\n",
    "        x = self.fila[:-1]\n",
    "        self.fila = self.fila[:-1]\n",
    "        return x\n",
    "        \n",
    "    def show(self):\n",
    "        ''' Mostra a fila '''\n",
    "        print(self.fila)\n",
    "        return self.fila"
   ]
  },
  {
   "cell_type": "code",
   "execution_count": 26,
   "metadata": {},
   "outputs": [
    {
     "name": "stdout",
     "output_type": "stream",
     "text": [
      "[0, 2, 4, 6, 8, 10, 12, 14, 16, 18]\n",
      "[0, 2, 4, 6, 8, 10, 12, 14, 16, 18, 30]\n",
      "[0, 2, 4, 6, 8, 10, 12, 14, 16, 18]\n"
     ]
    },
    {
     "data": {
      "text/plain": [
       "[0, 2, 4, 6, 8, 10, 12, 14, 16, 18]"
      ]
     },
     "execution_count": 26,
     "metadata": {},
     "output_type": "execute_result"
    }
   ],
   "source": [
    "b = fila(v)\n",
    "b.show()\n",
    "b.insert_elem(30)\n",
    "b.show()\n",
    "b.remove_elem()\n",
    "b.show()"
   ]
  }
 ],
 "metadata": {
  "kernelspec": {
   "display_name": "Python 3",
   "language": "python",
   "name": "python3"
  },
  "language_info": {
   "codemirror_mode": {
    "name": "ipython",
    "version": 3
   },
   "file_extension": ".py",
   "mimetype": "text/x-python",
   "name": "python",
   "nbconvert_exporter": "python",
   "pygments_lexer": "ipython3",
   "version": "3.8.6"
  }
 },
 "nbformat": 4,
 "nbformat_minor": 4
}
