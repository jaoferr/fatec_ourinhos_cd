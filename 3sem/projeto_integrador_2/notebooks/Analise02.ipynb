{
 "cells": [
  {
   "cell_type": "markdown",
   "metadata": {},
   "source": [
    "##### Análise 2 - 18/03/2021\n",
    "    Base manutenção de sistemas e subsistemas"
   ]
  },
  {
   "cell_type": "markdown",
   "metadata": {},
   "source": [
    "##### Importação dos módulos utilizados"
   ]
  },
  {
   "cell_type": "code",
   "execution_count": 1,
   "metadata": {},
   "outputs": [],
   "source": [
    "import pandas as pd\n",
    "from numpy import std, mean, var, inf, isfinite, nan\n",
    "import seaborn as sns\n",
    "import matplotlib.pyplot as plt\n",
    "pd.options.mode.chained_assignment = None  # default='warn'"
   ]
  },
  {
   "cell_type": "markdown",
   "metadata": {},
   "source": [
    "##### Carregamento dos dados e padronização das colunas"
   ]
  },
  {
   "cell_type": "code",
   "execution_count": 2,
   "metadata": {
    "tags": []
   },
   "outputs": [],
   "source": [
    "csv = 'base.csv'\n",
    "df_raw = pd.read_csv(csv, sep=';', encoding='latin-1')  # latin-1 no lugar de utf-8 salvou o dia aqui (Çs, acentos, etc..)\n",
    "df_raw.columns = df_raw.columns.str.lower().str.replace('\\n', '')\n",
    "rename = {\n",
    "    'classe de manutenção - código': 'cod_classe_manutencao',\n",
    "    'classe de manutenção - descrição': 'desc_classe_manutencao',\n",
    "    'funcionário - código': 'cod_funcionario',\n",
    "    'sistema veicular - código': 'cod_sistema',\n",
    "    'sistema veicular - código.1': 'desc_sistema',\n",
    "    'subsistema veicular - código': 'cod_subsistema',\n",
    "    'subsistema veicular - descrição': 'desc_subsistema',\n",
    "    'data de entrada': 'data_entrada',\n",
    "    'data de saída': 'data_saida'\n",
    "}\n",
    "df_raw.rename(rename, axis=1, inplace=True)\n",
    "df_raw['desc_sistema'] = df_raw['desc_sistema'].str.capitalize()\n",
    "df_raw['desc_subsistema'] = df_raw['desc_subsistema'].str.capitalize()"
   ]
  },
  {
   "cell_type": "code",
   "execution_count": 3,
   "metadata": {},
   "outputs": [
    {
     "data": {
      "text/html": [
       "<div>\n",
       "<style scoped>\n",
       "    .dataframe tbody tr th:only-of-type {\n",
       "        vertical-align: middle;\n",
       "    }\n",
       "\n",
       "    .dataframe tbody tr th {\n",
       "        vertical-align: top;\n",
       "    }\n",
       "\n",
       "    .dataframe thead th {\n",
       "        text-align: right;\n",
       "    }\n",
       "</style>\n",
       "<table border=\"1\" class=\"dataframe\">\n",
       "  <thead>\n",
       "    <tr style=\"text-align: right;\">\n",
       "      <th></th>\n",
       "      <th>cod_classe_manutencao</th>\n",
       "      <th>desc_classe_manutencao</th>\n",
       "      <th>data_entrada</th>\n",
       "      <th>data_saida</th>\n",
       "      <th>cod_funcionario</th>\n",
       "      <th>funcionário - descrição</th>\n",
       "      <th>cod_sistema</th>\n",
       "      <th>desc_sistema</th>\n",
       "      <th>cod_subsistema</th>\n",
       "      <th>desc_subsistema</th>\n",
       "      <th>horas</th>\n",
       "      <th>%sistema veicular</th>\n",
       "      <th>%funcionário</th>\n",
       "      <th>%data de saída</th>\n",
       "      <th>%data de entrada</th>\n",
       "      <th>%classe de manutenção</th>\n",
       "      <th>% geral</th>\n",
       "    </tr>\n",
       "  </thead>\n",
       "  <tbody>\n",
       "    <tr>\n",
       "      <th>0</th>\n",
       "      <td>29</td>\n",
       "      <td>Corret. Emergencial</td>\n",
       "      <td>01/04/2020</td>\n",
       "      <td>01/04/2020</td>\n",
       "      <td>22955</td>\n",
       "      <td>Marcelo Venceslau da Silva</td>\n",
       "      <td>1400</td>\n",
       "      <td>Sistema hidráulico</td>\n",
       "      <td>1402</td>\n",
       "      <td>Cilindro hidráulico</td>\n",
       "      <td>2.35</td>\n",
       "      <td>100.0</td>\n",
       "      <td>100.0</td>\n",
       "      <td>2.10</td>\n",
       "      <td>0.11</td>\n",
       "      <td>0.0</td>\n",
       "      <td>0.0</td>\n",
       "    </tr>\n",
       "    <tr>\n",
       "      <th>1</th>\n",
       "      <td>29</td>\n",
       "      <td>Corret. Emergencial</td>\n",
       "      <td>01/04/2020</td>\n",
       "      <td>01/04/2020</td>\n",
       "      <td>30413</td>\n",
       "      <td>Agnaldo Aparecido Monteiro</td>\n",
       "      <td>1300</td>\n",
       "      <td>Sistema elétrico</td>\n",
       "      <td>1312</td>\n",
       "      <td>Indicadores diversos</td>\n",
       "      <td>4.74</td>\n",
       "      <td>100.0</td>\n",
       "      <td>100.0</td>\n",
       "      <td>4.23</td>\n",
       "      <td>0.23</td>\n",
       "      <td>0.0</td>\n",
       "      <td>0.0</td>\n",
       "    </tr>\n",
       "    <tr>\n",
       "      <th>2</th>\n",
       "      <td>29</td>\n",
       "      <td>Corret. Emergencial</td>\n",
       "      <td>01/04/2020</td>\n",
       "      <td>01/04/2020</td>\n",
       "      <td>41598</td>\n",
       "      <td>Ademir de Jesus Aparecido</td>\n",
       "      <td>1400</td>\n",
       "      <td>Sistema hidráulico</td>\n",
       "      <td>1410</td>\n",
       "      <td>Mangueiras</td>\n",
       "      <td>2.99</td>\n",
       "      <td>100.0</td>\n",
       "      <td>100.0</td>\n",
       "      <td>2.67</td>\n",
       "      <td>0.15</td>\n",
       "      <td>0.0</td>\n",
       "      <td>0.0</td>\n",
       "    </tr>\n",
       "    <tr>\n",
       "      <th>3</th>\n",
       "      <td>29</td>\n",
       "      <td>Corret. Emergencial</td>\n",
       "      <td>01/04/2020</td>\n",
       "      <td>01/04/2020</td>\n",
       "      <td>50082</td>\n",
       "      <td>Alessandro Miranda</td>\n",
       "      <td>1000</td>\n",
       "      <td>Pneus e aros</td>\n",
       "      <td>1003</td>\n",
       "      <td>Pneus traseiros</td>\n",
       "      <td>0.29</td>\n",
       "      <td>100.0</td>\n",
       "      <td>100.0</td>\n",
       "      <td>0.26</td>\n",
       "      <td>0.01</td>\n",
       "      <td>0.0</td>\n",
       "      <td>0.0</td>\n",
       "    </tr>\n",
       "    <tr>\n",
       "      <th>4</th>\n",
       "      <td>29</td>\n",
       "      <td>Corret. Emergencial</td>\n",
       "      <td>01/04/2020</td>\n",
       "      <td>01/04/2020</td>\n",
       "      <td>52596</td>\n",
       "      <td>Josenaldo Silva Sousa</td>\n",
       "      <td>1300</td>\n",
       "      <td>Sistema elétrico</td>\n",
       "      <td>1301</td>\n",
       "      <td>Alternador</td>\n",
       "      <td>3.35</td>\n",
       "      <td>100.0</td>\n",
       "      <td>100.0</td>\n",
       "      <td>2.99</td>\n",
       "      <td>0.16</td>\n",
       "      <td>0.0</td>\n",
       "      <td>0.0</td>\n",
       "    </tr>\n",
       "  </tbody>\n",
       "</table>\n",
       "</div>"
      ],
      "text/plain": [
       "   cod_classe_manutencao desc_classe_manutencao data_entrada  data_saida  \\\n",
       "0                     29    Corret. Emergencial   01/04/2020  01/04/2020   \n",
       "1                     29    Corret. Emergencial   01/04/2020  01/04/2020   \n",
       "2                     29    Corret. Emergencial   01/04/2020  01/04/2020   \n",
       "3                     29    Corret. Emergencial   01/04/2020  01/04/2020   \n",
       "4                     29    Corret. Emergencial   01/04/2020  01/04/2020   \n",
       "\n",
       "   cod_funcionario     funcionário - descrição  cod_sistema  \\\n",
       "0            22955  Marcelo Venceslau da Silva         1400   \n",
       "1            30413  Agnaldo Aparecido Monteiro         1300   \n",
       "2            41598   Ademir de Jesus Aparecido         1400   \n",
       "3            50082          Alessandro Miranda         1000   \n",
       "4            52596       Josenaldo Silva Sousa         1300   \n",
       "\n",
       "         desc_sistema  cod_subsistema       desc_subsistema  horas  \\\n",
       "0  Sistema hidráulico            1402   Cilindro hidráulico   2.35   \n",
       "1    Sistema elétrico            1312  Indicadores diversos   4.74   \n",
       "2  Sistema hidráulico            1410            Mangueiras   2.99   \n",
       "3        Pneus e aros            1003       Pneus traseiros   0.29   \n",
       "4    Sistema elétrico            1301            Alternador   3.35   \n",
       "\n",
       "   %sistema veicular  %funcionário  %data de saída  %data de entrada  \\\n",
       "0              100.0         100.0            2.10              0.11   \n",
       "1              100.0         100.0            4.23              0.23   \n",
       "2              100.0         100.0            2.67              0.15   \n",
       "3              100.0         100.0            0.26              0.01   \n",
       "4              100.0         100.0            2.99              0.16   \n",
       "\n",
       "   %classe de manutenção  % geral  \n",
       "0                    0.0      0.0  \n",
       "1                    0.0      0.0  \n",
       "2                    0.0      0.0  \n",
       "3                    0.0      0.0  \n",
       "4                    0.0      0.0  "
      ]
     },
     "execution_count": 3,
     "metadata": {},
     "output_type": "execute_result"
    }
   ],
   "source": [
    "df_raw.head()"
   ]
  },
  {
   "cell_type": "markdown",
   "metadata": {},
   "source": [
    "##### Colunas e tipos"
   ]
  },
  {
   "cell_type": "code",
   "execution_count": 4,
   "metadata": {},
   "outputs": [
    {
     "data": {
      "text/plain": [
       "cod_classe_manutencao        int64\n",
       "desc_classe_manutencao      object\n",
       "data_entrada                object\n",
       "data_saida                  object\n",
       "cod_funcionario              int64\n",
       "funcionário - descrição     object\n",
       "cod_sistema                  int64\n",
       "desc_sistema                object\n",
       "cod_subsistema               int64\n",
       "desc_subsistema             object\n",
       "horas                      float64\n",
       "%sistema veicular          float64\n",
       "%funcionário               float64\n",
       "%data de saída             float64\n",
       "%data de entrada           float64\n",
       "%classe de manutenção      float64\n",
       "% geral                    float64\n",
       "dtype: object"
      ]
     },
     "execution_count": 4,
     "metadata": {},
     "output_type": "execute_result"
    }
   ],
   "source": [
    "df_raw.dtypes"
   ]
  },
  {
   "cell_type": "markdown",
   "metadata": {},
   "source": [
    "##### Agrupamento por sistema"
   ]
  },
  {
   "cell_type": "code",
   "execution_count": 5,
   "metadata": {
    "tags": []
   },
   "outputs": [
    {
     "data": {
      "text/html": [
       "<div>\n",
       "<style scoped>\n",
       "    .dataframe tbody tr th:only-of-type {\n",
       "        vertical-align: middle;\n",
       "    }\n",
       "\n",
       "    .dataframe tbody tr th {\n",
       "        vertical-align: top;\n",
       "    }\n",
       "\n",
       "    .dataframe thead th {\n",
       "        text-align: right;\n",
       "    }\n",
       "</style>\n",
       "<table border=\"1\" class=\"dataframe\">\n",
       "  <thead>\n",
       "    <tr style=\"text-align: right;\">\n",
       "      <th></th>\n",
       "      <th>desc_sistema</th>\n",
       "      <th>desc_subsistema</th>\n",
       "      <th>sum</th>\n",
       "      <th>count</th>\n",
       "      <th>std</th>\n",
       "      <th>mean</th>\n",
       "      <th>var</th>\n",
       "    </tr>\n",
       "  </thead>\n",
       "  <tbody>\n",
       "    <tr>\n",
       "      <th>0</th>\n",
       "      <td>Agregado câmbio</td>\n",
       "      <td>Eixo piloto</td>\n",
       "      <td>0.82</td>\n",
       "      <td>1</td>\n",
       "      <td>NaN</td>\n",
       "      <td>0.820000</td>\n",
       "      <td>NaN</td>\n",
       "    </tr>\n",
       "    <tr>\n",
       "      <th>1</th>\n",
       "      <td>Ar condicionado</td>\n",
       "      <td>Compres. ar condicionado</td>\n",
       "      <td>100.29</td>\n",
       "      <td>35</td>\n",
       "      <td>4.361800</td>\n",
       "      <td>2.865429</td>\n",
       "      <td>19.025302</td>\n",
       "    </tr>\n",
       "    <tr>\n",
       "      <th>2</th>\n",
       "      <td>Ar condicionado</td>\n",
       "      <td>Correia</td>\n",
       "      <td>0.46</td>\n",
       "      <td>1</td>\n",
       "      <td>NaN</td>\n",
       "      <td>0.460000</td>\n",
       "      <td>NaN</td>\n",
       "    </tr>\n",
       "    <tr>\n",
       "      <th>3</th>\n",
       "      <td>Ar condicionado</td>\n",
       "      <td>Filtro externo</td>\n",
       "      <td>10.38</td>\n",
       "      <td>9</td>\n",
       "      <td>2.103331</td>\n",
       "      <td>1.153333</td>\n",
       "      <td>4.424000</td>\n",
       "    </tr>\n",
       "    <tr>\n",
       "      <th>4</th>\n",
       "      <td>Ar condicionado</td>\n",
       "      <td>Filtro interno</td>\n",
       "      <td>11.40</td>\n",
       "      <td>46</td>\n",
       "      <td>0.514807</td>\n",
       "      <td>0.247826</td>\n",
       "      <td>0.265026</td>\n",
       "    </tr>\n",
       "    <tr>\n",
       "      <th>...</th>\n",
       "      <td>...</td>\n",
       "      <td>...</td>\n",
       "      <td>...</td>\n",
       "      <td>...</td>\n",
       "      <td>...</td>\n",
       "      <td>...</td>\n",
       "      <td>...</td>\n",
       "    </tr>\n",
       "    <tr>\n",
       "      <th>712</th>\n",
       "      <td>Sistema industrial colhedora</td>\n",
       "      <td>Sapata flutuante</td>\n",
       "      <td>10.56</td>\n",
       "      <td>5</td>\n",
       "      <td>2.989502</td>\n",
       "      <td>2.112000</td>\n",
       "      <td>8.937120</td>\n",
       "    </tr>\n",
       "    <tr>\n",
       "      <th>713</th>\n",
       "      <td>Sistema industrial colhedora</td>\n",
       "      <td>Sincronismo</td>\n",
       "      <td>30.02</td>\n",
       "      <td>26</td>\n",
       "      <td>0.801694</td>\n",
       "      <td>1.154615</td>\n",
       "      <td>0.642714</td>\n",
       "    </tr>\n",
       "    <tr>\n",
       "      <th>714</th>\n",
       "      <td>Sistema industrial colhedora</td>\n",
       "      <td>Suspensão</td>\n",
       "      <td>94.72</td>\n",
       "      <td>59</td>\n",
       "      <td>1.488297</td>\n",
       "      <td>1.605424</td>\n",
       "      <td>2.215029</td>\n",
       "    </tr>\n",
       "    <tr>\n",
       "      <th>715</th>\n",
       "      <td>Sistema industrial colhedora</td>\n",
       "      <td>Trem de rolos</td>\n",
       "      <td>86.43</td>\n",
       "      <td>51</td>\n",
       "      <td>1.819257</td>\n",
       "      <td>1.694706</td>\n",
       "      <td>3.309697</td>\n",
       "    </tr>\n",
       "    <tr>\n",
       "      <th>716</th>\n",
       "      <td>Sistema industrial colhedora</td>\n",
       "      <td>Volante do picador</td>\n",
       "      <td>239.14</td>\n",
       "      <td>85</td>\n",
       "      <td>3.106532</td>\n",
       "      <td>2.813412</td>\n",
       "      <td>9.650542</td>\n",
       "    </tr>\n",
       "  </tbody>\n",
       "</table>\n",
       "<p>717 rows × 7 columns</p>\n",
       "</div>"
      ],
      "text/plain": [
       "                     desc_sistema           desc_subsistema     sum  count  \\\n",
       "0                 Agregado câmbio               Eixo piloto    0.82      1   \n",
       "1                 Ar condicionado  Compres. ar condicionado  100.29     35   \n",
       "2                 Ar condicionado                   Correia    0.46      1   \n",
       "3                 Ar condicionado            Filtro externo   10.38      9   \n",
       "4                 Ar condicionado            Filtro interno   11.40     46   \n",
       "..                            ...                       ...     ...    ...   \n",
       "712  Sistema industrial colhedora          Sapata flutuante   10.56      5   \n",
       "713  Sistema industrial colhedora               Sincronismo   30.02     26   \n",
       "714  Sistema industrial colhedora                 Suspensão   94.72     59   \n",
       "715  Sistema industrial colhedora             Trem de rolos   86.43     51   \n",
       "716  Sistema industrial colhedora        Volante do picador  239.14     85   \n",
       "\n",
       "          std      mean        var  \n",
       "0         NaN  0.820000        NaN  \n",
       "1    4.361800  2.865429  19.025302  \n",
       "2         NaN  0.460000        NaN  \n",
       "3    2.103331  1.153333   4.424000  \n",
       "4    0.514807  0.247826   0.265026  \n",
       "..        ...       ...        ...  \n",
       "712  2.989502  2.112000   8.937120  \n",
       "713  0.801694  1.154615   0.642714  \n",
       "714  1.488297  1.605424   2.215029  \n",
       "715  1.819257  1.694706   3.309697  \n",
       "716  3.106532  2.813412   9.650542  \n",
       "\n",
       "[717 rows x 7 columns]"
      ]
     },
     "execution_count": 5,
     "metadata": {},
     "output_type": "execute_result"
    }
   ],
   "source": [
    "df_sistemas = df_raw.groupby(['desc_sistema', 'desc_subsistema'])['horas'].agg([\n",
    "    sum,\n",
    "    'count',\n",
    "    std,\n",
    "    mean,\n",
    "    var\n",
    "]).reset_index()\n",
    "df_sistemas"
   ]
  },
  {
   "cell_type": "code",
   "execution_count": 6,
   "metadata": {
    "tags": []
   },
   "outputs": [
    {
     "data": {
      "text/plain": [
       "Text(0.5, 1.0, 'Média de horas por subsistema dentro de um sistema')"
      ]
     },
     "execution_count": 6,
     "metadata": {},
     "output_type": "execute_result"
    },
    {
     "data": {
      "image/png": "[encoded data removed]",
      "text/plain": [
       "<Figure size 360x360 with 1 Axes>"
      ]
     },
     "metadata": {},
     "output_type": "display_data"
    }
   ],
   "source": [
    "plt.style.use('ggplot')\n",
    "# fig, ax = plt.plot()\n",
    "data_gs = df_sistemas[df_sistemas['desc_sistema'] != 'Sistema de alimentação']\n",
    "gs = sns.catplot(data=data_gs, x='mean', y='desc_sistema')\n",
    "\n",
    "gs.set_xlabels('Média de horas')\n",
    "gs.set_ylabels('')\n",
    "plt.title('Média de horas por subsistema dentro de um sistema')"
   ]
  },
  {
   "cell_type": "markdown",
   "metadata": {},
   "source": [
    "*Ignorando 'sistema de alimentação' por apresentar dados muito esparsos*"
   ]
  },
  {
   "cell_type": "markdown",
   "metadata": {},
   "source": [
    "    Existe uma variação na média entre subsistemas dentro de um mesmo sistema, com a maioria dos subsistemas levando, em média, menos de 5 horas por manutenção.\n",
    "    Exceções notáveis são os subsistemas de 'Implementos', 'Carroceria' e 'Chassis', com alguns deles tendo uma média superior a 15 horas de serviço."
   ]
  },
  {
   "cell_type": "markdown",
   "metadata": {},
   "source": [
    "#### Perguntas\n",
    "    Dado uma manutenção de determinado tipo (emergencial, preventiva ou preditiva), qual a probabilidade dela demorar [X] horas?"
   ]
  },
  {
   "cell_type": "markdown",
   "metadata": {},
   "source": [
    "##### Distribuição de horas"
   ]
  },
  {
   "cell_type": "markdown",
   "metadata": {},
   "source": [
    "Agrupamento por classe de manutenção"
   ]
  },
  {
   "cell_type": "code",
   "execution_count": 7,
   "metadata": {},
   "outputs": [],
   "source": [
    "df_distribuicao = df_raw[['desc_classe_manutencao', 'desc_sistema', 'horas']]\n",
    "df_distribuicao.loc[df_distribuicao['desc_classe_manutencao'].isin(['Apoio', 'Preventiva Condição', 'Preventiva por Tempo']), 'desc_classe_manutencao'] = 'Preventivas'"
   ]
  },
  {
   "cell_type": "code",
   "execution_count": 8,
   "metadata": {},
   "outputs": [
    {
     "data": {
      "text/html": [
       "<div>\n",
       "<style scoped>\n",
       "    .dataframe tbody tr th:only-of-type {\n",
       "        vertical-align: middle;\n",
       "    }\n",
       "\n",
       "    .dataframe tbody tr th {\n",
       "        vertical-align: top;\n",
       "    }\n",
       "\n",
       "    .dataframe thead tr th {\n",
       "        text-align: left;\n",
       "    }\n",
       "\n",
       "    .dataframe thead tr:last-of-type th {\n",
       "        text-align: right;\n",
       "    }\n",
       "</style>\n",
       "<table border=\"1\" class=\"dataframe\">\n",
       "  <thead>\n",
       "    <tr>\n",
       "      <th></th>\n",
       "      <th colspan=\"8\" halign=\"left\">describe</th>\n",
       "      <th>coeficiente_var</th>\n",
       "    </tr>\n",
       "    <tr>\n",
       "      <th></th>\n",
       "      <th>count</th>\n",
       "      <th>mean</th>\n",
       "      <th>std</th>\n",
       "      <th>min</th>\n",
       "      <th>25%</th>\n",
       "      <th>50%</th>\n",
       "      <th>75%</th>\n",
       "      <th>max</th>\n",
       "      <th>horas</th>\n",
       "    </tr>\n",
       "    <tr>\n",
       "      <th>desc_classe_manutencao</th>\n",
       "      <th></th>\n",
       "      <th></th>\n",
       "      <th></th>\n",
       "      <th></th>\n",
       "      <th></th>\n",
       "      <th></th>\n",
       "      <th></th>\n",
       "      <th></th>\n",
       "      <th></th>\n",
       "    </tr>\n",
       "  </thead>\n",
       "  <tbody>\n",
       "    <tr>\n",
       "      <th>Corret. Emergencial</th>\n",
       "      <td>27649.0</td>\n",
       "      <td>4.159516</td>\n",
       "      <td>16.457490</td>\n",
       "      <td>0.0</td>\n",
       "      <td>0.9100</td>\n",
       "      <td>1.920</td>\n",
       "      <td>3.9600</td>\n",
       "      <td>219.99</td>\n",
       "      <td>395.651601</td>\n",
       "    </tr>\n",
       "    <tr>\n",
       "      <th>Preditiva</th>\n",
       "      <td>216.0</td>\n",
       "      <td>10.444444</td>\n",
       "      <td>12.688490</td>\n",
       "      <td>0.1</td>\n",
       "      <td>3.2975</td>\n",
       "      <td>5.705</td>\n",
       "      <td>12.1925</td>\n",
       "      <td>73.46</td>\n",
       "      <td>121.203996</td>\n",
       "    </tr>\n",
       "    <tr>\n",
       "      <th>Preventivas</th>\n",
       "      <td>23198.0</td>\n",
       "      <td>1.066978</td>\n",
       "      <td>2.346406</td>\n",
       "      <td>0.0</td>\n",
       "      <td>0.1300</td>\n",
       "      <td>0.330</td>\n",
       "      <td>1.0000</td>\n",
       "      <td>93.68</td>\n",
       "      <td>219.906721</td>\n",
       "    </tr>\n",
       "  </tbody>\n",
       "</table>\n",
       "</div>"
      ],
      "text/plain": [
       "                       describe                                            \\\n",
       "                          count       mean        std  min     25%    50%   \n",
       "desc_classe_manutencao                                                      \n",
       "Corret. Emergencial     27649.0   4.159516  16.457490  0.0  0.9100  1.920   \n",
       "Preditiva                 216.0  10.444444  12.688490  0.1  3.2975  5.705   \n",
       "Preventivas             23198.0   1.066978   2.346406  0.0  0.1300  0.330   \n",
       "\n",
       "                                        coeficiente_var  \n",
       "                            75%     max           horas  \n",
       "desc_classe_manutencao                                   \n",
       "Corret. Emergencial      3.9600  219.99      395.651601  \n",
       "Preditiva               12.1925   73.46      121.203996  \n",
       "Preventivas              1.0000   93.68      219.906721  "
      ]
     },
     "execution_count": 8,
     "metadata": {},
     "output_type": "execute_result"
    }
   ],
   "source": [
    "def coeficiente_var(series):\n",
    "    return (std(series)/mean(series))*100\n",
    "df_distribuicao.groupby('desc_classe_manutencao')['horas'].agg(['describe', coeficiente_var])"
   ]
  },
  {
   "cell_type": "markdown",
   "metadata": {},
   "source": [
    "    As manutenções emergenciais são a maioria, e levam, em média, 4 vezes mais horas de trabalho do que as manutenções preventivas, porém quase metade do tempo das manutenções preditivas (ué?). O desvio padão das manutenções preventivas é o mais baixo dos três tipos, indicando uma maior consistencia nos tempos de serviço, ou seja, maior previsibilidade. As emergenciais tem um desvio quase 7 vezes maior, indicando uma maior inconsistencia nas horas de serviço desta classe."
   ]
  },
  {
   "cell_type": "markdown",
   "metadata": {},
   "source": [
    "Seccionação dos dados em 'baldes' de horas"
   ]
  },
  {
   "cell_type": "code",
   "execution_count": 9,
   "metadata": {
    "tags": []
   },
   "outputs": [],
   "source": [
    "horas_distribuicao = pd.cut(df_distribuicao['horas'], [0, 1, 2, 3, 4, 5, 10, inf],\n",
    "                            labels=['<= 1', '1-2', '2-3', '3-4', '4-5', '5-10', '> 10'])\n",
    "df_distribuicao['horas_range'] = horas_distribuicao"
   ]
  },
  {
   "cell_type": "markdown",
   "metadata": {},
   "source": [
    "Cálculo das frequências"
   ]
  },
  {
   "cell_type": "code",
   "execution_count": 10,
   "metadata": {
    "jupyter": {
     "source_hidden": true
    },
    "tags": []
   },
   "outputs": [
    {
     "name": "stdout",
     "output_type": "stream",
     "text": [
      "   horas_range desc_classe_manutencao  count      %freq  %freq_relativa\n",
      "0         <= 1    Corret. Emergencial   7746  15.384921       28.050989\n",
      "1         <= 1              Preditiva      7   0.013903        3.240741\n",
      "2         <= 1            Preventivas  16850  33.467069       74.829026\n",
      "3          1-2    Corret. Emergencial   6555  13.019385       23.737959\n",
      "4          1-2              Preditiva     16   0.031779        7.407407\n",
      "5          1-2            Preventivas   2297   4.562247       10.200728\n",
      "6          2-3    Corret. Emergencial   3820   7.587193       13.833563\n",
      "7          2-3              Preditiva     16   0.031779        7.407407\n",
      "8          2-3            Preventivas   1098   2.180821        4.876099\n",
      "9          3-4    Corret. Emergencial   2706   5.374593        9.799377\n",
      "10         3-4              Preditiva     34   0.067530       15.740741\n",
      "11         3-4            Preventivas    757   1.503535        3.361755\n",
      "12         4-5    Corret. Emergencial   1947   3.867085        7.050771\n",
      "13         4-5              Preditiva     26   0.051641       12.037037\n",
      "14         4-5            Preventivas    514   1.020895        2.282618\n",
      "15        5-10    Corret. Emergencial   3954   7.853341       14.318824\n",
      "16        5-10              Preditiva     51   0.101295       23.611111\n",
      "17        5-10            Preventivas    829   1.646540        3.681499\n",
      "18        > 10    Corret. Emergencial    886   1.759752        3.208517\n",
      "19        > 10              Preditiva     66   0.131088       30.555556\n",
      "20        > 10            Preventivas    173   0.343608        0.768274\n"
     ]
    }
   ],
   "source": [
    "df_dist_agrupado = df_distribuicao.groupby(['horas_range', 'desc_classe_manutencao'])['horas'].agg(['count']).reset_index()\n",
    "\n",
    "df_dist_agrupado['%freq'] = df_dist_agrupado['count'].div(sum(df_dist_agrupado['count']))*100\n",
    "df_dist_agrupado['%freq_relativa'] = df_dist_agrupado.groupby(['horas_range',\n",
    "                                                               'desc_classe_manutencao'])['count'].sum().div(df_dist_agrupado.groupby(['desc_classe_manutencao'])['count'].sum()).reset_index()['count']*100\n",
    "print(df_dist_agrupado)"
   ]
  },
  {
   "cell_type": "markdown",
   "metadata": {},
   "source": [
    "Base para os gráficos"
   ]
  },
  {
   "cell_type": "code",
   "execution_count": 11,
   "metadata": {
    "collapsed": true,
    "jupyter": {
     "outputs_hidden": true
    },
    "tags": []
   },
   "outputs": [
    {
     "data": {
      "text/plain": [
       "Text(0.5, 0.98, 'Frequencia de horas em cada classe de manutenção')"
      ]
     },
     "execution_count": 11,
     "metadata": {},
     "output_type": "execute_result"
    },
    {
     "data": {
      "image/png": "[encoded data removed]",
      "text/plain": [
       "<Figure size 1152x648 with 3 Axes>"
      ]
     },
     "metadata": {},
     "output_type": "display_data"
    }
   ],
   "source": [
    "# estilo dos gráficos, ggplot é uma biblioteca de graficos famosa no R\n",
    "plt.style.use('ggplot')\n",
    "# grid  com 3 colunas de graficos\n",
    "fig, axes = plt.subplots(ncols=3, figsize=(16, 9), sharey=True)\n",
    "fig.suptitle('Frequencia de horas em cada classe de manutenção', size=14)"
   ]
  },
  {
   "cell_type": "markdown",
   "metadata": {
    "tags": []
   },
   "source": [
    "Código do gráfico 1: Classes de manutenção agregadas"
   ]
  },
  {
   "cell_type": "code",
   "execution_count": 12,
   "metadata": {
    "jupyter": {
     "source_hidden": true
    },
    "tags": []
   },
   "outputs": [
    {
     "data": {
      "text/plain": [
       "Text(0.5, 1.0, 'Agregadas')"
      ]
     },
     "execution_count": 12,
     "metadata": {},
     "output_type": "execute_result"
    }
   ],
   "source": [
    "# grafico 1\n",
    "data_g1 = df_dist_agrupado.groupby('horas_range').sum().reset_index()  # dados\n",
    "g1 = sns.barplot(ax=axes[0], data=data_g1, x='horas_range', y='%freq')  # figura\n",
    "\n",
    "for p in axes[0].patches:  # coloca o valor da coluna em cima dela\n",
    "    axes[0].text(p.get_x() + p.get_width()/2., p.get_height(), f'{round(p.get_height(), 2)}',\n",
    "            fontsize=12, color='black', ha='center', va='bottom')\n",
    "# bot_ylim, top_ylim = plt.ylim()\n",
    "# plt.ylim(bot_ylim, top_ylim*1.05)\n",
    "axes[0].set_ylabel('Probabilidade (%)')\n",
    "axes[0].set_xlabel('Horas de manutenção')\n",
    "axes[0].set_title('Agregadas', fontdict={'fontsize': 12})"
   ]
  },
  {
   "cell_type": "markdown",
   "metadata": {},
   "source": [
    "Código do gráfico 2: Manutenções corretivas emergenciais"
   ]
  },
  {
   "cell_type": "code",
   "execution_count": 13,
   "metadata": {
    "jupyter": {
     "source_hidden": true
    },
    "tags": []
   },
   "outputs": [
    {
     "data": {
      "text/plain": [
       "Text(0.5, 1.0, 'Corretiva Emergencial')"
      ]
     },
     "execution_count": 13,
     "metadata": {},
     "output_type": "execute_result"
    }
   ],
   "source": [
    "# grafico 2\n",
    "data_g2 = df_dist_agrupado[df_dist_agrupado['desc_classe_manutencao'] == 'Corret. Emergencial'].groupby('horas_range').sum().reset_index()  # dados\n",
    "g2 = sns.barplot(ax=axes[1], data=data_g2, x='horas_range', y='%freq_relativa')  # figura\n",
    "\n",
    "for p in axes[1].patches:  # coloca o valor da coluna em cima dela\n",
    "    axes[1].text(p.get_x() + p.get_width()/2., p.get_height(), f'{round(p.get_height(), 2)}',\n",
    "            fontsize=12, color='black', ha='center', va='bottom')\n",
    "# bot_ylim, top_ylim = plt.ylim()\n",
    "# plt.ylim(bot_ylim, top_ylim*1.05)\n",
    "axes[1].set_ylabel('Probabilidade (%)')\n",
    "axes[1].set_xlabel('Horas de manutenção')\n",
    "axes[1].set_title('Corretiva Emergencial', fontdict={'fontsize': 12})"
   ]
  },
  {
   "cell_type": "markdown",
   "metadata": {},
   "source": [
    "Código do gráfico 3: Manutenções de apoio, preventivas por condição e por tempo"
   ]
  },
  {
   "cell_type": "code",
   "execution_count": 14,
   "metadata": {
    "jupyter": {
     "source_hidden": true
    },
    "tags": []
   },
   "outputs": [
    {
     "data": {
      "text/plain": [
       "Text(0.5, 1.0, 'Apoio, Preventiva Condição e\\nPreventiva por Tempo')"
      ]
     },
     "execution_count": 14,
     "metadata": {},
     "output_type": "execute_result"
    }
   ],
   "source": [
    "# grafico 3\n",
    "data_g3 = df_dist_agrupado[df_dist_agrupado['desc_classe_manutencao'] == 'Preventivas'].groupby('horas_range').sum().reset_index()  # dados\n",
    "g3 = sns.barplot(ax=axes[2], data=data_g3, x='horas_range', y='%freq_relativa')  # figura\n",
    "\n",
    "for p in axes[2].patches:  # coloca o valor da coluna em cima dela\n",
    "    axes[2].text(p.get_x() + p.get_width()/2., p.get_height(), f'{round(p.get_height(), 2)}',\n",
    "            fontsize=12, color='black', ha='center', va='bottom')\n",
    "# bot_ylim, top_ylim = plt.ylim()\n",
    "# plt.ylim(bot_ylim, top_ylim*1.05)\n",
    "axes[2].set_ylabel('Probabilidade (%)')\n",
    "axes[2].set_xlabel('Horas de manutenção')\n",
    "axes[2].set_title('Apoio, Preventiva Condição e\\nPreventiva por Tempo', fontdict={'fontsize': 12})"
   ]
  },
  {
   "cell_type": "markdown",
   "metadata": {},
   "source": [
    "Os gráficos"
   ]
  },
  {
   "cell_type": "code",
   "execution_count": 15,
   "metadata": {
    "tags": []
   },
   "outputs": [
    {
     "data": {
      "image/png": "[encoded data removed]",
      "text/plain": [
       "<Figure size 1152x648 with 3 Axes>"
      ]
     },
     "execution_count": 15,
     "metadata": {},
     "output_type": "execute_result"
    }
   ],
   "source": [
    "fig"
   ]
  },
  {
   "cell_type": "markdown",
   "metadata": {},
   "source": [
    "\"pode-se concluir que as manutenções preventivas levam, em media, consideravemente menos tempo para serem executadas,  reduzindo nao só o custo financeiro associado as horas de trabalho, mas também o custo relacionado a inevitavel parada da produção devido a uma manutenção emergencial\""
   ]
  },
  {
   "cell_type": "markdown",
   "metadata": {},
   "source": [
    "##### Análise das manutenções  com uma perspectiva voltada aos colaboradores"
   ]
  },
  {
   "cell_type": "code",
   "execution_count": 16,
   "metadata": {},
   "outputs": [
    {
     "data": {
      "text/html": [
       "<div>\n",
       "<style scoped>\n",
       "    .dataframe tbody tr th:only-of-type {\n",
       "        vertical-align: middle;\n",
       "    }\n",
       "\n",
       "    .dataframe tbody tr th {\n",
       "        vertical-align: top;\n",
       "    }\n",
       "\n",
       "    .dataframe thead th {\n",
       "        text-align: right;\n",
       "    }\n",
       "</style>\n",
       "<table border=\"1\" class=\"dataframe\">\n",
       "  <thead>\n",
       "    <tr style=\"text-align: right;\">\n",
       "      <th></th>\n",
       "      <th>sum</th>\n",
       "      <th>count</th>\n",
       "      <th>std</th>\n",
       "      <th>mean</th>\n",
       "      <th>var</th>\n",
       "    </tr>\n",
       "    <tr>\n",
       "      <th>cod_funcionario</th>\n",
       "      <th></th>\n",
       "      <th></th>\n",
       "      <th></th>\n",
       "      <th></th>\n",
       "      <th></th>\n",
       "    </tr>\n",
       "  </thead>\n",
       "  <tbody>\n",
       "    <tr>\n",
       "      <th>107918</th>\n",
       "      <td>1760.96</td>\n",
       "      <td>12</td>\n",
       "      <td>108.165417</td>\n",
       "      <td>146.746667</td>\n",
       "      <td>11699.757461</td>\n",
       "    </tr>\n",
       "    <tr>\n",
       "      <th>104819</th>\n",
       "      <td>1541.94</td>\n",
       "      <td>8</td>\n",
       "      <td>77.023122</td>\n",
       "      <td>192.742500</td>\n",
       "      <td>5932.561336</td>\n",
       "    </tr>\n",
       "    <tr>\n",
       "      <th>33546</th>\n",
       "      <td>1330.82</td>\n",
       "      <td>54</td>\n",
       "      <td>69.711968</td>\n",
       "      <td>24.644815</td>\n",
       "      <td>4859.758497</td>\n",
       "    </tr>\n",
       "    <tr>\n",
       "      <th>41598</th>\n",
       "      <td>1579.20</td>\n",
       "      <td>83</td>\n",
       "      <td>61.371067</td>\n",
       "      <td>19.026506</td>\n",
       "      <td>3766.407855</td>\n",
       "    </tr>\n",
       "    <tr>\n",
       "      <th>48392</th>\n",
       "      <td>1330.35</td>\n",
       "      <td>93</td>\n",
       "      <td>54.307183</td>\n",
       "      <td>14.304839</td>\n",
       "      <td>2949.270143</td>\n",
       "    </tr>\n",
       "    <tr>\n",
       "      <th>...</th>\n",
       "      <td>...</td>\n",
       "      <td>...</td>\n",
       "      <td>...</td>\n",
       "      <td>...</td>\n",
       "      <td>...</td>\n",
       "    </tr>\n",
       "    <tr>\n",
       "      <th>109620</th>\n",
       "      <td>0.50</td>\n",
       "      <td>1</td>\n",
       "      <td>NaN</td>\n",
       "      <td>0.500000</td>\n",
       "      <td>NaN</td>\n",
       "    </tr>\n",
       "    <tr>\n",
       "      <th>109622</th>\n",
       "      <td>0.27</td>\n",
       "      <td>1</td>\n",
       "      <td>NaN</td>\n",
       "      <td>0.270000</td>\n",
       "      <td>NaN</td>\n",
       "    </tr>\n",
       "    <tr>\n",
       "      <th>109624</th>\n",
       "      <td>0.33</td>\n",
       "      <td>1</td>\n",
       "      <td>NaN</td>\n",
       "      <td>0.330000</td>\n",
       "      <td>NaN</td>\n",
       "    </tr>\n",
       "    <tr>\n",
       "      <th>109636</th>\n",
       "      <td>2.39</td>\n",
       "      <td>1</td>\n",
       "      <td>NaN</td>\n",
       "      <td>2.390000</td>\n",
       "      <td>NaN</td>\n",
       "    </tr>\n",
       "    <tr>\n",
       "      <th>109647</th>\n",
       "      <td>0.33</td>\n",
       "      <td>1</td>\n",
       "      <td>NaN</td>\n",
       "      <td>0.330000</td>\n",
       "      <td>NaN</td>\n",
       "    </tr>\n",
       "  </tbody>\n",
       "</table>\n",
       "<p>264 rows × 5 columns</p>\n",
       "</div>"
      ],
      "text/plain": [
       "                     sum  count         std        mean           var\n",
       "cod_funcionario                                                      \n",
       "107918           1760.96     12  108.165417  146.746667  11699.757461\n",
       "104819           1541.94      8   77.023122  192.742500   5932.561336\n",
       "33546            1330.82     54   69.711968   24.644815   4859.758497\n",
       "41598            1579.20     83   61.371067   19.026506   3766.407855\n",
       "48392            1330.35     93   54.307183   14.304839   2949.270143\n",
       "...                  ...    ...         ...         ...           ...\n",
       "109620              0.50      1         NaN    0.500000           NaN\n",
       "109622              0.27      1         NaN    0.270000           NaN\n",
       "109624              0.33      1         NaN    0.330000           NaN\n",
       "109636              2.39      1         NaN    2.390000           NaN\n",
       "109647              0.33      1         NaN    0.330000           NaN\n",
       "\n",
       "[264 rows x 5 columns]"
      ]
     },
     "execution_count": 16,
     "metadata": {},
     "output_type": "execute_result"
    }
   ],
   "source": [
    "df_colaboradores = df_raw.groupby(['cod_funcionario'])['horas'].agg([\n",
    "    sum,\n",
    "    'count',\n",
    "    std,\n",
    "    mean,\n",
    "    var\n",
    "])\n",
    "df_colaboradores.sort_values('var', ascending=False)"
   ]
  },
  {
   "cell_type": "code",
   "execution_count": 17,
   "metadata": {},
   "outputs": [
    {
     "data": {
      "text/html": [
       "<div>\n",
       "<style scoped>\n",
       "    .dataframe tbody tr th:only-of-type {\n",
       "        vertical-align: middle;\n",
       "    }\n",
       "\n",
       "    .dataframe tbody tr th {\n",
       "        vertical-align: top;\n",
       "    }\n",
       "\n",
       "    .dataframe thead th {\n",
       "        text-align: right;\n",
       "    }\n",
       "</style>\n",
       "<table border=\"1\" class=\"dataframe\">\n",
       "  <thead>\n",
       "    <tr style=\"text-align: right;\">\n",
       "      <th></th>\n",
       "      <th>sum</th>\n",
       "      <th>count</th>\n",
       "      <th>std</th>\n",
       "      <th>mean</th>\n",
       "      <th>var</th>\n",
       "    </tr>\n",
       "  </thead>\n",
       "  <tbody>\n",
       "    <tr>\n",
       "      <th>count</th>\n",
       "      <td>264.000000</td>\n",
       "      <td>264.000000</td>\n",
       "      <td>252.000000</td>\n",
       "      <td>264.000000</td>\n",
       "      <td>252.000000</td>\n",
       "    </tr>\n",
       "    <tr>\n",
       "      <th>mean</th>\n",
       "      <td>537.932614</td>\n",
       "      <td>193.420455</td>\n",
       "      <td>5.889803</td>\n",
       "      <td>6.609859</td>\n",
       "      <td>212.078411</td>\n",
       "    </tr>\n",
       "    <tr>\n",
       "      <th>std</th>\n",
       "      <td>529.642442</td>\n",
       "      <td>248.866207</td>\n",
       "      <td>13.345238</td>\n",
       "      <td>27.453970</td>\n",
       "      <td>979.149321</td>\n",
       "    </tr>\n",
       "    <tr>\n",
       "      <th>min</th>\n",
       "      <td>0.000000</td>\n",
       "      <td>1.000000</td>\n",
       "      <td>0.000000</td>\n",
       "      <td>0.000000</td>\n",
       "      <td>0.000000</td>\n",
       "    </tr>\n",
       "    <tr>\n",
       "      <th>25%</th>\n",
       "      <td>7.117500</td>\n",
       "      <td>10.000000</td>\n",
       "      <td>0.238135</td>\n",
       "      <td>0.549728</td>\n",
       "      <td>0.056710</td>\n",
       "    </tr>\n",
       "    <tr>\n",
       "      <th>50%</th>\n",
       "      <td>461.445000</td>\n",
       "      <td>130.000000</td>\n",
       "      <td>1.650659</td>\n",
       "      <td>1.899630</td>\n",
       "      <td>2.724762</td>\n",
       "    </tr>\n",
       "    <tr>\n",
       "      <th>75%</th>\n",
       "      <td>1014.510000</td>\n",
       "      <td>304.000000</td>\n",
       "      <td>3.782776</td>\n",
       "      <td>3.787097</td>\n",
       "      <td>14.309622</td>\n",
       "    </tr>\n",
       "    <tr>\n",
       "      <th>max</th>\n",
       "      <td>1760.960000</td>\n",
       "      <td>2342.000000</td>\n",
       "      <td>108.165417</td>\n",
       "      <td>219.980000</td>\n",
       "      <td>11699.757461</td>\n",
       "    </tr>\n",
       "  </tbody>\n",
       "</table>\n",
       "</div>"
      ],
      "text/plain": [
       "               sum        count         std        mean           var\n",
       "count   264.000000   264.000000  252.000000  264.000000    252.000000\n",
       "mean    537.932614   193.420455    5.889803    6.609859    212.078411\n",
       "std     529.642442   248.866207   13.345238   27.453970    979.149321\n",
       "min       0.000000     1.000000    0.000000    0.000000      0.000000\n",
       "25%       7.117500    10.000000    0.238135    0.549728      0.056710\n",
       "50%     461.445000   130.000000    1.650659    1.899630      2.724762\n",
       "75%    1014.510000   304.000000    3.782776    3.787097     14.309622\n",
       "max    1760.960000  2342.000000  108.165417  219.980000  11699.757461"
      ]
     },
     "execution_count": 17,
     "metadata": {},
     "output_type": "execute_result"
    }
   ],
   "source": [
    "df_colaboradores.describe()"
   ]
  },
  {
   "cell_type": "markdown",
   "metadata": {},
   "source": [
    "Distribuição de frequencia de manuteções agrupadas por colaborador"
   ]
  },
  {
   "cell_type": "code",
   "execution_count": 18,
   "metadata": {},
   "outputs": [],
   "source": [
    "colaboradores_distribuicao = pd.cut(df_colaboradores['count'], [0, 10, 50, 100, 200, 500, inf],\n",
    "                                    labels=['<= 10', '10-50', '50-100', '100-200', '200-500', '> 500'])\n",
    "df_colaboradores['range_count'] = colaboradores_distribuicao"
   ]
  },
  {
   "cell_type": "code",
   "execution_count": 19,
   "metadata": {
    "collapsed": true,
    "jupyter": {
     "outputs_hidden": true
    },
    "tags": []
   },
   "outputs": [
    {
     "data": {
      "image/png": "[encoded data removed]",
      "text/plain": [
       "<Figure size 1152x648 with 1 Axes>"
      ]
     },
     "metadata": {},
     "output_type": "display_data"
    }
   ],
   "source": [
    "fig2, ax2 = plt.subplots(figsize=(16, 9))\n",
    "# fig.suptitle()"
   ]
  },
  {
   "cell_type": "code",
   "execution_count": 20,
   "metadata": {},
   "outputs": [
    {
     "data": {
      "image/png": "[encoded data removed]",
      "text/plain": [
       "<Figure size 1152x648 with 1 Axes>"
      ]
     },
     "execution_count": 20,
     "metadata": {},
     "output_type": "execute_result"
    }
   ],
   "source": [
    "data_gc1 = df_colaboradores.reset_index().groupby('range_count').count().reset_index()  # dados\n",
    "gc1 = sns.barplot(ax=ax2, data=data_gc1, x='range_count', y='cod_funcionario')  # figura\n",
    "\n",
    "for p in ax2.patches:  # coloca o valor da coluna em cima dela\n",
    "    ax2.text(p.get_x() + p.get_width()/2., p.get_height(), f'{round(p.get_height(), 2)}',\n",
    "             fontsize=12, color='black', ha='center', va='bottom')\n",
    "\n",
    "ax2.set_title('Distribuição da quantidade de manutenções realizadas por funcionário', size=14)\n",
    "ax2.set_ylabel('Número de funcionários')\n",
    "ax2.set_xlabel('Número de manutenções realizadas')\n",
    "fig2"
   ]
  },
  {
   "cell_type": "markdown",
   "metadata": {},
   "source": [
    "Há uma boa distribuição dos colaboradores quanto a quantidade de manutenções realizadas, com 102 deles tendo efetuado mais de 102, significando um bom contingente de colaboradores experientes (cerca de 38%).\n",
    "Contudo, o número de colaboradores com menos de 50 manutenções realizadas também é grande, 110, indicando que cerca de 41% possuem pouca experiencia."
   ]
  },
  {
   "cell_type": "markdown",
   "metadata": {},
   "source": [
    "Colaboradores mais <b>consistentes<b>"
   ]
  },
  {
   "cell_type": "code",
   "execution_count": 21,
   "metadata": {},
   "outputs": [
    {
     "data": {
      "text/html": [
       "<div>\n",
       "<style scoped>\n",
       "    .dataframe tbody tr th:only-of-type {\n",
       "        vertical-align: middle;\n",
       "    }\n",
       "\n",
       "    .dataframe tbody tr th {\n",
       "        vertical-align: top;\n",
       "    }\n",
       "\n",
       "    .dataframe thead th {\n",
       "        text-align: right;\n",
       "    }\n",
       "</style>\n",
       "<table border=\"1\" class=\"dataframe\">\n",
       "  <thead>\n",
       "    <tr style=\"text-align: right;\">\n",
       "      <th></th>\n",
       "      <th>sum</th>\n",
       "      <th>count</th>\n",
       "      <th>std</th>\n",
       "      <th>mean</th>\n",
       "      <th>var</th>\n",
       "      <th>range_count</th>\n",
       "    </tr>\n",
       "    <tr>\n",
       "      <th>cod_funcionario</th>\n",
       "      <th></th>\n",
       "      <th></th>\n",
       "      <th></th>\n",
       "      <th></th>\n",
       "      <th></th>\n",
       "      <th></th>\n",
       "    </tr>\n",
       "  </thead>\n",
       "  <tbody>\n",
       "    <tr>\n",
       "      <th>110222</th>\n",
       "      <td>439.96</td>\n",
       "      <td>2</td>\n",
       "      <td>0.000000</td>\n",
       "      <td>219.980000</td>\n",
       "      <td>0.000000</td>\n",
       "      <td>&lt;= 10</td>\n",
       "    </tr>\n",
       "    <tr>\n",
       "      <th>102224</th>\n",
       "      <td>0.68</td>\n",
       "      <td>4</td>\n",
       "      <td>0.000000</td>\n",
       "      <td>0.170000</td>\n",
       "      <td>0.000000</td>\n",
       "      <td>&lt;= 10</td>\n",
       "    </tr>\n",
       "    <tr>\n",
       "      <th>53776</th>\n",
       "      <td>0.11</td>\n",
       "      <td>2</td>\n",
       "      <td>0.007071</td>\n",
       "      <td>0.055000</td>\n",
       "      <td>0.000050</td>\n",
       "      <td>&lt;= 10</td>\n",
       "    </tr>\n",
       "    <tr>\n",
       "      <th>51593</th>\n",
       "      <td>1759.79</td>\n",
       "      <td>8</td>\n",
       "      <td>0.030677</td>\n",
       "      <td>219.973750</td>\n",
       "      <td>0.000941</td>\n",
       "      <td>&lt;= 10</td>\n",
       "    </tr>\n",
       "    <tr>\n",
       "      <th>110223</th>\n",
       "      <td>659.86</td>\n",
       "      <td>3</td>\n",
       "      <td>0.046188</td>\n",
       "      <td>219.953333</td>\n",
       "      <td>0.002133</td>\n",
       "      <td>&lt;= 10</td>\n",
       "    </tr>\n",
       "  </tbody>\n",
       "</table>\n",
       "</div>"
      ],
      "text/plain": [
       "                     sum  count       std        mean       var range_count\n",
       "cod_funcionario                                                            \n",
       "110222            439.96      2  0.000000  219.980000  0.000000       <= 10\n",
       "102224              0.68      4  0.000000    0.170000  0.000000       <= 10\n",
       "53776               0.11      2  0.007071    0.055000  0.000050       <= 10\n",
       "51593            1759.79      8  0.030677  219.973750  0.000941       <= 10\n",
       "110223            659.86      3  0.046188  219.953333  0.002133       <= 10"
      ]
     },
     "execution_count": 21,
     "metadata": {},
     "output_type": "execute_result"
    }
   ],
   "source": [
    "df_colaboradores.sort_values('var', ascending=True).head()"
   ]
  },
  {
   "cell_type": "markdown",
   "metadata": {},
   "source": [
    "110222, 102224, 53776, 51593, 110223 possuem a menor variância entre todos os colaboradores, indicando maior consistencia no tempo de manutenção. Contudo, a quantidade de manutenções realizadas por eles <b> está abaixo da média (193)</b>, indicando uma possível distorção na medida."
   ]
  },
  {
   "cell_type": "code",
   "execution_count": 22,
   "metadata": {},
   "outputs": [],
   "source": [
    "# fazer scatter plot com x=qtd manutenção, y=variancia\n",
    "# melhor = canto direito inferior\n",
    "# pior = canto direito superior"
   ]
  },
  {
   "cell_type": "markdown",
   "metadata": {},
   "source": [
    "##### Análise dos dias empregados para determinada manutenção"
   ]
  },
  {
   "cell_type": "code",
   "execution_count": 23,
   "metadata": {},
   "outputs": [],
   "source": [
    "# correlação entre horas de serviço e dias de serviço"
   ]
  },
  {
   "cell_type": "code",
   "execution_count": 24,
   "metadata": {},
   "outputs": [],
   "source": [
    "df_datas = df_raw[['desc_classe_manutencao', 'desc_sistema', 'desc_subsistema', 'horas']]\n",
    "df_datas['data_entrada'] = pd.to_datetime(df_raw['data_entrada'], format='%d/%m/%Y') \n",
    "df_datas['data_saida'] = pd.to_datetime(df_raw['data_saida'], format='%d/%m/%Y')\n",
    "df_datas['dias_manutencao'] = (df_datas['data_saida'] - df_datas['data_entrada']).dt.days"
   ]
  },
  {
   "cell_type": "markdown",
   "metadata": {},
   "source": [
    "Correlação entre horas de manutenção e dias entre a entrada e a saída do sistema"
   ]
  },
  {
   "cell_type": "code",
   "execution_count": 25,
   "metadata": {},
   "outputs": [],
   "source": [
    "data_gsCorr = df_datas.groupby(['desc_sistema'])[['horas', 'dias_manutencao']].mean().reset_index()"
   ]
  },
  {
   "cell_type": "code",
   "execution_count": 26,
   "metadata": {},
   "outputs": [],
   "source": [
    "# plot a variacia ou std entre membros da mesma classe em volta"
   ]
  },
  {
   "cell_type": "code",
   "execution_count": 27,
   "metadata": {},
   "outputs": [
    {
     "data": {
      "text/plain": [
       "<matplotlib.legend.Legend at 0x1bdc4a530a0>"
      ]
     },
     "execution_count": 27,
     "metadata": {},
     "output_type": "execute_result"
    },
    {
     "data": {
      "image/png": "[encoded data removed]",
      "text/plain": [
       "<Figure size 432x288 with 1 Axes>"
      ]
     },
     "metadata": {},
     "output_type": "display_data"
    }
   ],
   "source": [
    "gsCorr = sns.scatterplot(data=data_gsCorr, x='dias_manutencao', y='horas', hue='desc_sistema')\n",
    "# remover legenda? nao ta servindo pra muita coisa\n",
    "# talvez categorizar em grupos maiores: sistema de direcao, motor, etc\n",
    "plt.legend(bbox_to_anchor=(1.05, 1), loc=2, borderaxespad=0.)"
   ]
  },
  {
   "cell_type": "markdown",
   "metadata": {},
   "source": [
    "    Os pontos na parte inferior do gráfico e mais próximos da direita, indicam sistemas que, em média, levam poucas horas de serviços para manutenção, porém ficam muitos dias parados. O motivo é desconhecido pelo grupo, pois nao temos dados suficientes para responder tal questão. Alguns palpites incluem: falta de peças, falta de equipamento adequado (ou ocupação do equipamento) e falta de mão de obra qualificada para aquele serviço."
   ]
  }
 ],
 "metadata": {
  "kernelspec": {
   "display_name": "Python 3",
   "language": "python",
   "name": "python3"
  },
  "language_info": {
   "codemirror_mode": {
    "name": "ipython",
    "version": 3
   },
   "file_extension": ".py",
   "mimetype": "text/x-python",
   "name": "python",
   "nbconvert_exporter": "python",
   "pygments_lexer": "ipython3",
   "version": "3.8.6"
  }
 },
 "nbformat": 4,
 "nbformat_minor": 5
}
