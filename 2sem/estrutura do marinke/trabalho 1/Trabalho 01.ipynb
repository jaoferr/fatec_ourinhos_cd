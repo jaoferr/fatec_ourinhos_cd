{
 "cells": [
  {
   "cell_type": "markdown",
   "metadata": {},
   "source": [
    "### Trabalho 1\n",
    "#### Alunos\n",
    "    Danielle Regina Bernardes\n",
    "    Joao Fernando Vieira Fraciscon"
   ]
  },
  {
   "cell_type": "markdown",
   "metadata": {},
   "source": [
    "#### Algumas ultilidades"
   ]
  },
  {
   "cell_type": "code",
   "execution_count": 8,
   "metadata": {},
   "outputs": [],
   "source": [
    "import time"
   ]
  },
  {
   "cell_type": "code",
   "execution_count": 65,
   "metadata": {},
   "outputs": [],
   "source": [
    "def fact(n):\n",
    "    '''calcula fatorial'''\n",
    "    if n == 0:\n",
    "        return 1\n",
    "    else:\n",
    "        return n*fact(n-1)"
   ]
  },
  {
   "cell_type": "markdown",
   "metadata": {},
   "source": [
    "### Triângulo de Pascal"
   ]
  },
  {
   "cell_type": "markdown",
   "metadata": {},
   "source": [
    "#### Funcionalidades do programa\n",
    "    Escreva um programa que obtenha (n, m) como entrada e escreva as saídas p(n, m). Em que (n, m) <=50.\n",
    "    Utilize um array (ou arrays) para implementar o programa.\n",
    "    \n",
    "    Implemente funções que permitam:\n",
    "        - Obter a soma de uma linha\n",
    "        - Obter a soma de uma coluna\n",
    "        - Encontrar um número no array."
   ]
  },
  {
   "cell_type": "markdown",
   "metadata": {},
   "source": [
    "Essa tentativa é meio 'brute force'. Ela gera todas as linhas do triangulo, assumindo que a primeira e a ultima coluna sempre são 1, e que a segunda e a penultima são sempre (numero da linha - 1).\n",
    "\n",
    "Depois, é calculado a proxima linha com base na ultima, ignorando o primeiro, segundo, penultimo e ultimo termo, com a formula:\n",
    "\n",
    "    linha_atual[n] = linha_anterior[n] + linha_anterior[n - 1]\n",
    "Onde n é o índice do elemento.\n",
    "Desta forma, o numero na posição 4 na linha seria determinado por\n",
    "    \n",
    "    linha_atual[3] = linha_anterior[3] + linha_anterior[3 - 1]\n",
    "    \n",
    "    Lembrando que o indice começa em 0, portanto o quarto elemento é, na verdade, o 3.\n",
    "\n",
    "A _linha atual_ é entao adicionada ao triangulo, que é uma lista de listas."
   ]
  },
  {
   "cell_type": "code",
   "execution_count": 70,
   "metadata": {},
   "outputs": [],
   "source": [
    "class pascal_triangle:\n",
    "\n",
    "    def __init__(self, n):\n",
    "        '''\n",
    "        gera o triangulo com n linhas\n",
    "        '''\n",
    "        matrix = []\n",
    "        last_row = []\n",
    "        for row_number in range(1, n+1): # loop todas linhas\n",
    "            row = [0 for element in range(row_number)] # uma linha placeholder, pra ter onde agir depois [0, 0, 0, [...]]\n",
    "\n",
    "            row[0], row[-1] = 1, 1 # define primeira e ultima coluna como 1\n",
    "            if row_number > 2:\n",
    "                row[1], row[-2] = row_number-1, row_number-1 # define segunda e penultima coluna como (numero da linha - 1)\n",
    "\n",
    "            if row_number >= 5: # o calculo dos termos do meio soh eh necessario a partir da linha 5\n",
    "                for i, element in enumerate(row[2:-2]): # seleciona apenas os termos no meio, ignorando primeiro, ultimo, segundo e penultimo\n",
    "                    row[2+i] = last_row[i+2] + last_row[i+1] # calcula o valor desse termo baseado nos valores da linha anterior\n",
    "            last_row = row\n",
    "            matrix.append(row)\n",
    "            \n",
    "        self.matrix = matrix\n",
    "        return \n",
    "\n",
    "    def show(self):\n",
    "        '''da um print melhorzinho no triangulo'''\n",
    "        print('Triangulo com', len(self.matrix), 'linhas')\n",
    "        for row in self.matrix:\n",
    "            print(row)\n",
    "            \n",
    "    def sum_line(self, row):\n",
    "        '''funçao que executa a soma de uma linha'''\n",
    "        return sum(self.matrix[row-1])\n",
    "    \n",
    "    def sum_col(self, col):\n",
    "        '''funçao que executa a soma de uma coluna'''\n",
    "        col-=1 # mudar de index 0 p/ index 1\n",
    "        scol = 0\n",
    "        for row in self.matrix:\n",
    "            if len(row) > col:\n",
    "                scol+=row[col]\n",
    "        return scol\n",
    "    \n",
    "    def loc(self, n):\n",
    "        '''localiza um elemento no triangulo, se ele estiver lá'''\n",
    "        if any(n in row for row in self.matrix):\n",
    "            for i, row in enumerate(self.matrix):\n",
    "                if n in row:\n",
    "                    idx = (i+1, row.index(n)+1)\n",
    "                    print(f'Numero encotrado na linha {i+1}, coluna {row.index(n)+1}')\n",
    "                    # retorna a posição do numero (m, n)\n",
    "                    return idx\n",
    "                \n",
    "        else:\n",
    "            print('Numero nao encotrado')\n",
    "            return None\n",
    "        return\n",
    "    \n",
    "    def iloc(self, row, col):\n",
    "        '''localiza o numero na posiçao (row, col)'''\n",
    "        try:\n",
    "            print(f'Numero na linha {row} e coluna {col}: {self.matrix[row-1][col-1]}')\n",
    "            return self.matrix[row-1][col-1]\n",
    "        # caso seja inserido uma coluna ou linha nao existente no triangulo\n",
    "        except IndexError:\n",
    "            print('Referencias invalidas')\n",
    "            return\n",
    "        except:\n",
    "            print('Erro inesperado')\n",
    "            return\n",
    "    \n",
    "    @staticmethod\n",
    "    def qualquer_linha(row, col):\n",
    "        if col > row:\n",
    "            print('Coordenadas invalidas')\n",
    "            return\n",
    "        row-=1\n",
    "        col-=1\n",
    "        numerador = fact(row)\n",
    "        denominador = fact(col)*fact(row-col)\n",
    "        return numerador/denominador\n",
    "        "
   ]
  },
  {
   "cell_type": "markdown",
   "metadata": {},
   "source": [
    "Utilizando o código acima, um triangulo com n linhas pode ser gerado da seguinte forma"
   ]
  },
  {
   "cell_type": "code",
   "execution_count": 94,
   "metadata": {
    "scrolled": true
   },
   "outputs": [],
   "source": [
    "triangulo = pascal_triangle(11)"
   ]
  },
  {
   "cell_type": "markdown",
   "metadata": {},
   "source": [
    "Com o método .show(), é possivel visualizar o triangulo gerado"
   ]
  },
  {
   "cell_type": "code",
   "execution_count": 95,
   "metadata": {
    "scrolled": true
   },
   "outputs": [
    {
     "name": "stdout",
     "output_type": "stream",
     "text": [
      "Triangulo com 11 linhas\n",
      "[1]\n",
      "[1, 1]\n",
      "[1, 2, 1]\n",
      "[1, 3, 3, 1]\n",
      "[1, 4, 6, 4, 1]\n",
      "[1, 5, 10, 10, 5, 1]\n",
      "[1, 6, 15, 20, 15, 6, 1]\n",
      "[1, 7, 21, 35, 35, 21, 7, 1]\n",
      "[1, 8, 28, 56, 70, 56, 28, 8, 1]\n",
      "[1, 9, 36, 84, 126, 126, 84, 36, 9, 1]\n",
      "[1, 10, 45, 120, 210, 252, 210, 120, 45, 10, 1]\n"
     ]
    }
   ],
   "source": [
    "triangulo.show()"
   ]
  },
  {
   "cell_type": "markdown",
   "metadata": {},
   "source": [
    "Os métodos para soma de um linha/coluna funcionam como esperado, <br> recebendo um numero de linha ou coluna e retornando seu valor"
   ]
  },
  {
   "cell_type": "code",
   "execution_count": 96,
   "metadata": {
    "scrolled": true
   },
   "outputs": [
    {
     "name": "stdout",
     "output_type": "stream",
     "text": [
      "Soma da linha 5: 16\n",
      "Soma da coluna 1: 11\n"
     ]
    }
   ],
   "source": [
    "print('Soma da linha 5:', triangulo.sum_line(5))\n",
    "print('Soma da coluna 1:', triangulo.sum_col(1))"
   ]
  },
  {
   "cell_type": "markdown",
   "metadata": {},
   "source": [
    "O método de localização permite encontrar qualquer número dentro do triangulo gerado, <br>independente de onde ele esteja."
   ]
  },
  {
   "cell_type": "code",
   "execution_count": 46,
   "metadata": {},
   "outputs": [
    {
     "name": "stdout",
     "output_type": "stream",
     "text": [
      "Numero encotrado na linha 7, coluna 4\n",
      "(7, 4) \n",
      "\n",
      "Numero nao encotrado\n",
      "None\n"
     ]
    }
   ],
   "source": [
    "print(triangulo.loc(20), '\\n')\n",
    "print(triangulo.loc(21000))"
   ]
  },
  {
   "cell_type": "markdown",
   "metadata": {},
   "source": [
    "Também é possível encontrar um número baseado em suas coordenadas"
   ]
  },
  {
   "cell_type": "code",
   "execution_count": 93,
   "metadata": {},
   "outputs": [
    {
     "name": "stdout",
     "output_type": "stream",
     "text": [
      "Numero na linha 3 e coluna 3: 1\n"
     ]
    },
    {
     "data": {
      "text/plain": [
       "1"
      ]
     },
     "execution_count": 93,
     "metadata": {},
     "output_type": "execute_result"
    }
   ],
   "source": [
    "triangulo.iloc(3, 3)"
   ]
  },
  {
   "cell_type": "markdown",
   "metadata": {},
   "source": [
    "E por fim, o metodo estático .qualquer_linha retorna qualquer numero possivel no triangulo, <br> independente ele estar contido no triangulo gerado inicialmente"
   ]
  },
  {
   "cell_type": "code",
   "execution_count": 100,
   "metadata": {},
   "outputs": [
    {
     "data": {
      "text/plain": [
       "63205303218876.0"
      ]
     },
     "execution_count": 100,
     "metadata": {},
     "output_type": "execute_result"
    }
   ],
   "source": [
    "# linha 50, coluna 25\n",
    "triangulo.qualquer_linha(50, 25)"
   ]
  },
  {
   "cell_type": "markdown",
   "metadata": {},
   "source": [
    "#### Versão alternativa utilizando recursividade"
   ]
  },
  {
   "cell_type": "code",
   "execution_count": 32,
   "metadata": {},
   "outputs": [],
   "source": [
    "class pascal_recursive:\n",
    "    \n",
    "    def calcula_posicao(self, n, k):\n",
    "        if k == 0 or k == n:\n",
    "            return 1\n",
    "        else:\n",
    "            return int(self.calcula_posicao(n - 1, k - 1)) + int(self.calcula_posicao(n - 1, k))\n",
    "\n",
    "    def __init__(self, linhas):\n",
    "        triangulo = []\n",
    "\n",
    "        for linha in range(linhas):\n",
    "            valores_linha = []\n",
    "\n",
    "            for coluna in range(linha + 1):\n",
    "                valores_linha.append(self.calcula_posicao(linha, coluna))\n",
    "\n",
    "            triangulo.append(valores_linha)\n",
    "        self.matrix = triangulo\n",
    "        return\n",
    "    \n",
    "    def show(self):\n",
    "        '''da um print melhorzinho no triangulo'''\n",
    "        print('Triangulo com', len(self.matrix), 'linhas')\n",
    "        for row in self.matrix:\n",
    "            print(row)\n",
    "            \n",
    "    def sum_line(self, row):\n",
    "        '''funçao que executa a soma de uma linha'''\n",
    "        return sum(self.matrix[row-1])\n",
    "    \n",
    "    def sum_col(self, col):\n",
    "        '''funçao que executa a soma de uma coluna'''\n",
    "        col-=1 # mudar de index 0 p/ index 1\n",
    "        scol = 0\n",
    "        for row in self.matrix:\n",
    "            if len(row) > col:\n",
    "                scol+=row[col]\n",
    "        return scol\n",
    "    \n",
    "    def loc(self, n):\n",
    "        '''localiza um elemento no triangulo, se ele estiver lá'''\n",
    "        if any(n in row for row in self.matrix):\n",
    "            for i, row in enumerate(self.matrix):\n",
    "                if n in row:\n",
    "                    idx = (i+1, row.index(n)+1)\n",
    "                    print(f'Numero encotrado na linha {i+1}, coluna {row.index(n)+1}')\n",
    "                    # retorna a posição do numero (m, n)\n",
    "                    return idx\n",
    "                \n",
    "        else:\n",
    "            print('Numero nao encotrado')\n",
    "            return None\n",
    "        return\n",
    "    \n",
    "    def iloc(self, row, col):\n",
    "        '''localiza o numero na posiçao (row, col)'''\n",
    "        try:\n",
    "            print(f'Numero na linha {row} e coluna {col}: {self.matrix[row-1][col-1]}')\n",
    "            return self.matrix[row-1][col-1]\n",
    "        # caso seja inserido uma coluna ou linha nao existente no triangulo\n",
    "        except IndexError:\n",
    "            print('Referencias invalidas')\n",
    "            return\n",
    "        except:\n",
    "            print('Erro inesperado')\n",
    "            return\n",
    "        "
   ]
  },
  {
   "cell_type": "markdown",
   "metadata": {},
   "source": [
    "As mesmas funções para localização de elementos, somas e print também funcionam no metodo recursivo."
   ]
  },
  {
   "cell_type": "code",
   "execution_count": 36,
   "metadata": {},
   "outputs": [
    {
     "name": "stdout",
     "output_type": "stream",
     "text": [
      "Triangulo com 10 linhas\n",
      "[1]\n",
      "[1, 1]\n",
      "[1, 2, 1]\n",
      "[1, 3, 3, 1]\n",
      "[1, 4, 6, 4, 1]\n",
      "[1, 5, 10, 10, 5, 1]\n",
      "[1, 6, 15, 20, 15, 6, 1]\n",
      "[1, 7, 21, 35, 35, 21, 7, 1]\n",
      "[1, 8, 28, 56, 70, 56, 28, 8, 1]\n",
      "[1, 9, 36, 84, 126, 126, 84, 36, 9, 1]\n",
      "Soma da linha 3: 4 \n",
      "\n",
      "Soma da coluna 2: 45 \n",
      "\n",
      "Numero encotrado na linha 7, coluna 4\n",
      "(7, 4) \n",
      "\n",
      "Numero nao encotrado\n",
      "None \n",
      "\n",
      "Numero na linha 4 e coluna 2: 3\n",
      "3\n"
     ]
    }
   ],
   "source": [
    "nx = pascal_recursive(10)\n",
    "nx.show()\n",
    "print('Soma da linha 3:', nx.sum_line(3), '\\n')\n",
    "print('Soma da coluna 2:', nx.sum_col(2), '\\n')\n",
    "print(nx.loc(20), '\\n')\n",
    "print(nx.loc(1500), '\\n')\n",
    "print(nx.iloc(4, 2))"
   ]
  },
  {
   "cell_type": "markdown",
   "metadata": {},
   "source": [
    "### Comb sort"
   ]
  },
  {
   "cell_type": "code",
   "execution_count": 1,
   "metadata": {},
   "outputs": [],
   "source": [
    "import random"
   ]
  },
  {
   "cell_type": "code",
   "execution_count": 2,
   "metadata": {},
   "outputs": [],
   "source": [
    "def gen_gap(gap):\n",
    "    gap = gap/1.3\n",
    "    if gap < 1:\n",
    "        return int(1)\n",
    "    else:\n",
    "        return int(gap)\n",
    "\n",
    "def comb_sort(values):\n",
    "    start = time.time()\n",
    "    ncomp = 0\n",
    "    swap = False\n",
    "    gap = len(values)\n",
    "    \n",
    "    while not swap:\n",
    "        gap = gen_gap(gap)\n",
    "        if gap == 1:\n",
    "            swap = True\n",
    "        for i in range(len(values) - gap):\n",
    "                ncomp+=1\n",
    "                if values[i] > values[i+gap]:\n",
    "                    values[i], values[i+gap]  = values[i+gap], values[i]\n",
    "                    swap = False\n",
    "    end = time.time()-start\n",
    "    return values, end, ncomp"
   ]
  },
  {
   "cell_type": "markdown",
   "metadata": {},
   "source": [
    "Versão iterativa"
   ]
  },
  {
   "cell_type": "code",
   "execution_count": 18,
   "metadata": {},
   "outputs": [],
   "source": [
    "def comb_sort_iter(n):\n",
    "    gap = len(n)\n",
    "    clas = True\n",
    "    \n",
    "    while gap > 1 or clas:\n",
    "        gap = max(1, int(gap/1.3))\n",
    "        clas = False\n",
    "        \n",
    "        for i in range(len(n)-gap):\n",
    "            j = i + gap\n",
    "            if n[i] > n[j]:\n",
    "                n[i], n[j] = n[j], n[i]\n",
    "                clas = True\n",
    "    return n"
   ]
  },
  {
   "cell_type": "markdown",
   "metadata": {},
   "source": [
    "A celula abaixo executa o algoritmo em diferentes tamanhos de listas, 100 vezes para cada, e guarda os resultados em um dicionario."
   ]
  },
  {
   "cell_type": "code",
   "execution_count": 11,
   "metadata": {},
   "outputs": [],
   "source": [
    "to_run = [100, 200, 500, 1000, 5000, 10000, 50000, 100000, 200000]\n",
    "total_times = {}\n",
    "run = []\n",
    "\n",
    "for r, run in enumerate(to_run):\n",
    "    v = [random.randrange(1, 2*run) for n in range(run)]\n",
    "    v_s = comb_sort(v)\n",
    "    # print(f'{r} - Tamanho da lista: {run}, tempo de execucao: {round(v_s[1], 3)}, N comparacoes: {v_s[2]}')\n",
    "    total_times[run] = [(0, v_s[1:])]\n",
    "\n",
    "# 100 vezes demora cerca de 7 minutos pra executar\n",
    "# for i in range(1, 100):\n",
    "for i in range(1, 10):\n",
    "    for r, run in enumerate(to_run):\n",
    "        v = [random.randrange(1, 2*run) for n in range(run)]\n",
    "        v_s = comb_sort(v)\n",
    "        # print(f'{r} - Tamanho da lista: {run}, tempo de execucao: {round(v_s[1], 3)}, N comparacoes: {v_s[2]}')\n",
    "        total_times[run].append((i, v_s[1:]))"
   ]
  },
  {
   "cell_type": "markdown",
   "metadata": {},
   "source": [
    "#### Gráficos"
   ]
  },
  {
   "cell_type": "code",
   "execution_count": 62,
   "metadata": {},
   "outputs": [],
   "source": [
    "import matplotlib.pyplot as plt\n",
    "import seaborn as sns\n",
    "import pandas as pd\n",
    "from statistics import mean"
   ]
  },
  {
   "cell_type": "markdown",
   "metadata": {},
   "source": [
    "Calcula as medias para cada tamanho de lista"
   ]
  },
  {
   "cell_type": "code",
   "execution_count": 63,
   "metadata": {},
   "outputs": [],
   "source": [
    "avgs = {}\n",
    "\n",
    "for key in total_times.keys():\n",
    "    avgs[key] = mean([x[1][0] for x in total_times[key]])"
   ]
  },
  {
   "cell_type": "markdown",
   "metadata": {},
   "source": [
    "Criação de um DataFrame para utilização no gráfico"
   ]
  },
  {
   "cell_type": "code",
   "execution_count": 64,
   "metadata": {},
   "outputs": [],
   "source": [
    "df = pd.DataFrame.from_dict(avgs, orient='index', columns=['avg_time'])"
   ]
  },
  {
   "cell_type": "code",
   "execution_count": 65,
   "metadata": {},
   "outputs": [],
   "source": [
    "df.reset_index(inplace=True)\n",
    "df.rename(columns={'index': 'list_size'}, inplace=True)"
   ]
  },
  {
   "cell_type": "code",
   "execution_count": 107,
   "metadata": {
    "scrolled": true
   },
   "outputs": [
    {
     "data": {
      "image/png": "[encoded data removed]",
      "text/plain": [
       "<Figure size 432x288 with 1 Axes>"
      ]
     },
     "metadata": {},
     "output_type": "display_data"
    }
   ],
   "source": [
    "# estilo melhorzinho\n",
    "sns.set_style('whitegrid')\n",
    "# criação do grafico em si\n",
    "ax = sns.barplot(x='list_size', y='avg_time', data=df)\n",
    "# adição dos nomes dos eixos\n",
    "ax.set(xlabel='Tamanho da lista', ylabel='Média de execução (em segundos)')\n",
    "\n",
    "# adição dos valores em cada barra\n",
    "for rect, value in zip(ax.patches, df['avg_time']):\n",
    "    height = rect.get_height()\n",
    "    ax.text(rect.get_x() + rect.get_width() / 2, height, round(value, 3),\n",
    "            ha='center', va='bottom')\n",
    "\n",
    "# titulo do gráfico\n",
    "ax.set_title('Média de tempo de execução')\n",
    "\n",
    "# salvar a imagem em alta definição\n",
    "# fig = ax.get_figure()\n",
    "# fig.savefig('avg.png', dpi=300)"
   ]
  }
 ],
 "metadata": {
  "kernelspec": {
   "display_name": "Python 3",
   "language": "python",
   "name": "python3"
  },
  "language_info": {
   "codemirror_mode": {
    "name": "ipython",
    "version": 3
   },
   "file_extension": ".py",
   "mimetype": "text/x-python",
   "name": "python",
   "nbconvert_exporter": "python",
   "pygments_lexer": "ipython3",
   "version": "3.7.6"
  },
  "varInspector": {
   "cols": {
    "lenName": 16,
    "lenType": 16,
    "lenVar": 40
   },
   "kernels_config": {
    "python": {
     "delete_cmd_postfix": "",
     "delete_cmd_prefix": "del ",
     "library": "var_list.py",
     "varRefreshCmd": "print(var_dic_list())"
    },
    "r": {
     "delete_cmd_postfix": ") ",
     "delete_cmd_prefix": "rm(",
     "library": "var_list.r",
     "varRefreshCmd": "cat(var_dic_list()) "
    }
   },
   "types_to_exclude": [
    "module",
    "function",
    "builtin_function_or_method",
    "instance",
    "_Feature"
   ],
   "window_display": false
  }
 },
 "nbformat": 4,
 "nbformat_minor": 4
}
