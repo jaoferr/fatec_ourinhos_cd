{
 "cells": [
  {
   "cell_type": "markdown",
   "metadata": {},
   "source": [
    "### Lista dicionarios\n",
    "    Joao F. V. Franciscon"
   ]
  },
  {
   "cell_type": "markdown",
   "metadata": {},
   "source": [
    "#### 1. Escreva um script em Python que: <br> Crie um novo dicionário com 2 chaves. <br> Adicione dados ao dicionário. <br> Adicione uma chave ao dicionário criado anteriormente.\n"
   ]
  },
  {
   "cell_type": "code",
   "execution_count": 1,
   "metadata": {},
   "outputs": [
    {
     "name": "stdout",
     "output_type": "stream",
     "text": [
      "{'chave1': None, 'chave2': None}\n",
      "{'chave1': 'chave1_dados', 'chave2': 'chave2_dados'}\n",
      "{'chave1': 'chave1_dados', 'chave2': 'chave2_dados', 'chave3': None}\n"
     ]
    }
   ],
   "source": [
    "dicionario = {'chave1': None,\n",
    "              'chave2': None}\n",
    "print(dicionario)\n",
    "\n",
    "for key in dicionario.keys():\n",
    "    dicionario[key] = f'{key}_dados'\n",
    "print(dicionario)\n",
    "\n",
    "dicionario['chave3'] = None\n",
    "print(dicionario)"
   ]
  },
  {
   "cell_type": "markdown",
   "metadata": {},
   "source": [
    "#### 2. Usando dicionários implemente um script em Python que leia N valores (informado pelo usuário) e armazene num dicionário. Observação: o dicionário deve conter 3 chaves.\n"
   ]
  },
  {
   "cell_type": "code",
   "execution_count": 9,
   "metadata": {},
   "outputs": [
    {
     "name": "stdout",
     "output_type": "stream",
     "text": [
      "Chave invalida\n",
      "{'chave1': 2, 'chave2': 3, 'chave3': 4}\n"
     ]
    }
   ],
   "source": [
    "# n_valores = int(input('Qtd valores: '))\n",
    "n_valores = 3\n",
    "dicionario = {f'chave{i+1}': None for i in range(3)}\n",
    "\n",
    "for n in range(n_valores):\n",
    "    while True:\n",
    "        chave = int(input('Chave para insercao (1-3): '))\n",
    "        if chave in [1, 2, 3]:\n",
    "            break\n",
    "        print('Chave invalida')\n",
    "    valor = int(input('Valor: '))\n",
    "    dicionario['chave'+str(chave)] = valor\n",
    "\n",
    "print(dicionario)"
   ]
  },
  {
   "cell_type": "markdown",
   "metadata": {},
   "source": [
    "#### 3. Escreva um script em Python que faça a junção de dois dicionários."
   ]
  },
  {
   "cell_type": "code",
   "execution_count": 20,
   "metadata": {},
   "outputs": [
    {
     "name": "stdout",
     "output_type": "stream",
     "text": [
      "Argumento 3 nao eh um dicionario\n",
      "Argumento 4 nao eh um dicionario\n",
      "Argumento 5 nao eh um dicionario\n"
     ]
    },
    {
     "data": {
      "text/plain": [
       "{'a': 10, 'b': 15, 'c': 20, 'd': 25}"
      ]
     },
     "execution_count": 20,
     "metadata": {},
     "output_type": "execute_result"
    }
   ],
   "source": [
    "def join_dict(*dicts):\n",
    "    '''aceita qualquer numero de dicionarios\n",
    "       e ignora qualquer coisa que nao seja um dicionario\n",
    "    '''\n",
    "    final = {}\n",
    "    for i, d in enumerate(dicts):\n",
    "        if type(d) is not dict:\n",
    "            print(f'Argumento {i+1} nao eh um dicionario')\n",
    "            continue\n",
    "        for key, value in d.items():\n",
    "            final[key] = value\n",
    "\n",
    "    return final\n",
    "\n",
    "a = {'a': 10, 'b': 15}\n",
    "b = {'c': 20, 'd': 25}\n",
    "join_dict(a, b, 12, 13, 'aaaa')"
   ]
  },
  {
   "cell_type": "markdown",
   "metadata": {},
   "source": [
    "#### 4. Escreva um script em Python que verifique se uma determinada chave já existe no dicionário."
   ]
  },
  {
   "cell_type": "code",
   "execution_count": 25,
   "metadata": {},
   "outputs": [
    {
     "name": "stdout",
     "output_type": "stream",
     "text": [
      "Chave 'c' nao esta no dicionario\n",
      "False\n",
      "Chave 'a' esta no dicionario\n",
      "True\n"
     ]
    }
   ],
   "source": [
    "def check_keys(dicionario, chave):\n",
    "    for key in dicionario:\n",
    "        if key == chave:\n",
    "            print(f'Chave \\'{chave}\\' esta no dicionario')\n",
    "            return True\n",
    "    print(f'Chave \\'{chave}\\' nao esta no dicionario')\n",
    "    return False\n",
    "\n",
    "print(check_keys(a, 'c'))\n",
    "print(check_keys(a, 'a'))"
   ]
  },
  {
   "cell_type": "markdown",
   "metadata": {},
   "source": [
    "#### 5. Escreva um script em Python que exiba os dados de um dicionário utilizando 3 formas diferentes de iteração (loops)."
   ]
  },
  {
   "cell_type": "code",
   "execution_count": 31,
   "metadata": {},
   "outputs": [
    {
     "name": "stdout",
     "output_type": "stream",
     "text": [
      "a 10\n",
      "b 15\n",
      "\n",
      "\n",
      "a 10\n",
      "b 15\n",
      "\n",
      "\n",
      "a 10\n",
      "b 15\n"
     ]
    }
   ],
   "source": [
    "def tres_loops(dicionario):\n",
    "    # 1\n",
    "    for key, value in dicionario.items():\n",
    "        print(key, value)\n",
    "    # 2\n",
    "    print('\\n')\n",
    "    for key in dicionario:\n",
    "        print(key, dicionario[key])\n",
    "    # 3\n",
    "    print('\\n')\n",
    "    keys = {i: key for i, key in enumerate(dicionario.keys())}\n",
    "    i=0\n",
    "    while i < len(dicionario):\n",
    "        print(keys[i], dicionario[keys[i]])\n",
    "        i+=1\n",
    "\n",
    "tres_loops(a)"
   ]
  },
  {
   "cell_type": "markdown",
   "metadata": {},
   "source": [
    "#### 6. Escreva um script em Python que exiba a soma dos valores de um dicionário (considere um dicionário com dados de uma lista de preços de produtos)."
   ]
  },
  {
   "cell_type": "code",
   "execution_count": 38,
   "metadata": {},
   "outputs": [
    {
     "data": {
      "text/plain": [
       "25"
      ]
     },
     "execution_count": 38,
     "metadata": {},
     "output_type": "execute_result"
    }
   ],
   "source": [
    "def sum_d(dicionario):\n",
    "    soma = 0\n",
    "    for value in dicionario.values():\n",
    "        if type(value) not in [int, float]:\n",
    "            print(f'{value} nao eh um numero')\n",
    "            continue\n",
    "        soma+=value\n",
    "    \n",
    "    return soma\n",
    "\n",
    "sum_d(a)"
   ]
  },
  {
   "cell_type": "markdown",
   "metadata": {},
   "source": [
    "#### 7. Escreva um script em Python que insira uma lista num dicionário."
   ]
  },
  {
   "cell_type": "code",
   "execution_count": 42,
   "metadata": {},
   "outputs": [
    {
     "name": "stdout",
     "output_type": "stream",
     "text": [
      "{'a': 10, 'b': 15, 0: None, 1: None, 2: None}\n",
      "{'a': [10, 0, 1, 2], 'b': 15}\n"
     ]
    }
   ],
   "source": [
    "def insert_list_inKey(lista, dicionario, chave):\n",
    "    dicionario[chave] = [dicionario[chave]] + lista\n",
    "    \n",
    "    return dicionario\n",
    "\n",
    "def insert_list_asKey(lista, dicionario):\n",
    "    for item in lista:\n",
    "        dicionario[item] = None\n",
    "    \n",
    "    return dicionario\n",
    "c = [0, 1, 2]\n",
    "d = a.copy()\n",
    "print(insert_list_asKey(c, d))\n",
    "d = a.copy()\n",
    "print(insert_list_inKey(c, d, 'a'))"
   ]
  },
  {
   "cell_type": "markdown",
   "metadata": {},
   "source": [
    "#### 8. Escreva um script em Python que insira um dicionário numa lista."
   ]
  },
  {
   "cell_type": "code",
   "execution_count": 46,
   "metadata": {},
   "outputs": [
    {
     "name": "stdout",
     "output_type": "stream",
     "text": [
      "[0, 1, 2, {'a': 10, 'b': 15}]\n",
      "[0, 1, 2, {'a': 10, 'b': 15}]\n"
     ]
    }
   ],
   "source": [
    "def insert_dict_inList(lista, dicionario):\n",
    "    lista.append(dicionario)\n",
    "    return lista\n",
    "\n",
    "def insert_dict_inList2(lista, dicionario):\n",
    "    lista = lista + [dicionario]\n",
    "    return lista\n",
    "\n",
    "c = [0, 1, 2]\n",
    "d = a.copy()\n",
    "print(insert_dict_inList(c, d))\n",
    "c = [0, 1, 2]\n",
    "print(insert_dict_inList2(c, d))"
   ]
  },
  {
   "cell_type": "markdown",
   "metadata": {},
   "source": [
    "#### 9. Escreva um script em Python que determine o maior e o menor valor de um dicionário (considere um dicionário com dados de uma lista de preços de produtos)"
   ]
  },
  {
   "cell_type": "code",
   "execution_count": 55,
   "metadata": {},
   "outputs": [
    {
     "data": {
      "text/plain": [
       "(('d', 1), ('e', 12))"
      ]
     },
     "execution_count": 55,
     "metadata": {},
     "output_type": "execute_result"
    }
   ],
   "source": [
    "def min_max_dict(dicionario):\n",
    "    menor = (0, float('inf'))  # maior valor possivel\n",
    "    maior = (0, float('-inf'))  # menor valor possivel\n",
    "    for key, item in dicionario.items():\n",
    "        if item < menor[1]:\n",
    "            menor = (key, item)\n",
    "        if item > maior[1]:\n",
    "            maior = (key, item)\n",
    "    \n",
    "    return menor, maior\n",
    "\n",
    "e = {'a': 2, 'b': 4, 'c': 6, 'd': 1, 'e': 12}\n",
    "min_max_dict(e)"
   ]
  },
  {
   "cell_type": "markdown",
   "metadata": {},
   "source": [
    "#### 10. Escreva um script em Python que remova valores duplicados de um dicionário."
   ]
  },
  {
   "cell_type": "code",
   "execution_count": 56,
   "metadata": {},
   "outputs": [
    {
     "data": {
      "text/plain": [
       "{'a': 2, 'b': 4, 'c': 6, 'd': 1, 'e': 12, 'f': 22, 'g': 33}"
      ]
     },
     "execution_count": 56,
     "metadata": {},
     "output_type": "execute_result"
    }
   ],
   "source": [
    "def remover_dup(dicionario):\n",
    "    new_dict = {}\n",
    "    for key, value in dicionario.items():\n",
    "        if key in new_dict:\n",
    "            continue\n",
    "        else:\n",
    "            new_dict[key] = value\n",
    "    return new_dict    \n",
    "\n",
    "f = {'a': 2, 'b': 4, 'c': 6, 'd': 1, 'e': 12, 'd': 1, 'e': 12, 'f': 22, 'g': 33}\n",
    "remover_dup(f)"
   ]
  },
  {
   "cell_type": "markdown",
   "metadata": {},
   "source": [
    "#### 11. Escreva um script em Python que faça a ordenação dos dados de um dicionário (considere um dicionário com dados de uma lista de preços de produtos)."
   ]
  },
  {
   "cell_type": "code",
   "execution_count": 60,
   "metadata": {},
   "outputs": [
    {
     "data": {
      "text/plain": [
       "{'d': 1, 'a': 2, 'b': 4, 'c': 6, 'e': 12, 'f': 22, 'g': 33}"
      ]
     },
     "execution_count": 60,
     "metadata": {},
     "output_type": "execute_result"
    }
   ],
   "source": [
    "def sort_dict(dicionario):\n",
    "    sorted_dict = {}\n",
    "    for key, value in sorted(dicionario.items(), key=lambda i: i[1]):\n",
    "        sorted_dict[key] = value\n",
    "    return sorted_dict\n",
    "\n",
    "g = {'a': 2, 'c': 6, 'd': 1, 'e': 12, 'd': 1, 'b': 4, 'e': 12, 'f': 22, 'g': 33}\n",
    "sort_dict(g)"
   ]
  },
  {
   "cell_type": "markdown",
   "metadata": {},
   "source": [
    "#### 12. Escreva um script em Python que armazene um dicionário num arquivo json."
   ]
  },
  {
   "cell_type": "code",
   "execution_count": 85,
   "metadata": {},
   "outputs": [
    {
     "name": "stdout",
     "output_type": "stream",
     "text": [
      "{\n",
      "    \"a\":2,\n",
      "    \"c\":{'d': 1, 'e': 12},\n",
      "    \"d\":1,\n",
      "    \"e\":12,\n",
      "    \"b\":4,\n",
      "    \"f\":22,\n",
      "    \"g\":33\n",
      "}\n",
      "{\n",
      "    \"a\": 2,\n",
      "    \"c\": {\n",
      "        \"d\": 1,\n",
      "        \"e\": 12\n",
      "    },\n",
      "    \"d\": 1,\n",
      "    \"e\": 12,\n",
      "    \"b\": 4,\n",
      "    \"f\": 22,\n",
      "    \"g\": 33\n",
      "}\n"
     ]
    }
   ],
   "source": [
    "def dict_to_json(dicionario):\n",
    "    '''feito na mao, indentacao meio estranha'''\n",
    "    ultima_chave = len(dicionario)\n",
    "    indent = ' '*4\n",
    "    \n",
    "    final_file = ''\n",
    "    for i, (key, value) in enumerate(dicionario.items()):\n",
    "        if i+1 == ultima_chave:\n",
    "            final_file+= f'{indent}\"{str(key)}\":{str(value)}\\n'\n",
    "        else:\n",
    "            final_file+= f'{indent}\"{str(key)}\":{str(value)},\\n'\n",
    "        \n",
    "    final_file = '{\\n' + final_file + '}'\n",
    "    \n",
    "    with open('file.json', 'w') as f:\n",
    "        for line in final_file:\n",
    "            f.write(line)\n",
    "    f.close()\n",
    "    \n",
    "    return final_file\n",
    "\n",
    "import json\n",
    "def dict_to_json2(dicionario):\n",
    "    '''jeito correto'''\n",
    "    json_file = json.dumps(dicionario, indent=4)\n",
    "    \n",
    "    with open('file2.json', 'w') as f:\n",
    "        json.dump(dicionario, f, indent=4)\n",
    "    \n",
    "    return json_file\n",
    "\n",
    "h = {'a': 2, 'c': {'d': 1, 'e': 12}, 'd': 1, 'e': 12, 'd': 1, 'b': 4, 'e': 12, 'f': 22, 'g': 33}\n",
    "print(dict_to_json(h))\n",
    "print(dict_to_json2(h))"
   ]
  }
 ],
 "metadata": {
  "kernelspec": {
   "display_name": "Python 3",
   "language": "python",
   "name": "python3"
  },
  "language_info": {
   "codemirror_mode": {
    "name": "ipython",
    "version": 3
   },
   "file_extension": ".py",
   "mimetype": "text/x-python",
   "name": "python",
   "nbconvert_exporter": "python",
   "pygments_lexer": "ipython3",
   "version": "3.8.6"
  },
  "varInspector": {
   "cols": {
    "lenName": 16,
    "lenType": 16,
    "lenVar": 40
   },
   "kernels_config": {
    "python": {
     "delete_cmd_postfix": "",
     "delete_cmd_prefix": "del ",
     "library": "var_list.py",
     "varRefreshCmd": "print(var_dic_list())"
    },
    "r": {
     "delete_cmd_postfix": ") ",
     "delete_cmd_prefix": "rm(",
     "library": "var_list.r",
     "varRefreshCmd": "cat(var_dic_list()) "
    }
   },
   "types_to_exclude": [
    "module",
    "function",
    "builtin_function_or_method",
    "instance",
    "_Feature"
   ],
   "window_display": false
  }
 },
 "nbformat": 4,
 "nbformat_minor": 2
}
