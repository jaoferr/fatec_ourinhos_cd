{
 "cells": [
  {
   "cell_type": "markdown",
   "metadata": {},
   "source": [
    "#### Grafos"
   ]
  },
  {
   "cell_type": "code",
   "execution_count": null,
   "metadata": {},
   "outputs": [],
   "source": [
    "from random import choice\n",
    "\n",
    "class grafo: \n",
    "    \n",
    "    def __init__(self, vertices):\n",
    "        if type(vertices) != list:\n",
    "            print('Vertices devem estar contidos em uma lista')\n",
    "            return 0\n",
    "        self.vertices = vertices\n",
    "    \n",
    "    def set_links(self):\n",
    "        self.matriz = []\n",
    "        self.lista = []\n",
    "        for origem in self.vertices:\n",
    "            orig_m = []\n",
    "            orig_l = []\n",
    "            for destino in self.vertices:\n",
    "                print(f'({origem} -> {destino})? ')\n",
    "\n",
    "                while True:\n",
    "                    try:\n",
    "                        is_linked = int(input('0/1? (n/s)\\n'))\n",
    "                        break\n",
    "                    except ValueError:\n",
    "                        print('Escolha invalida')\n",
    "                if is_linked == 1:\n",
    "                    orig_l.append(destino)\n",
    "                \n",
    "                orig_m.append(is_linked)\n",
    "            self.matriz.append(orig_m)\n",
    "            self.lista.append(orig_l)\n",
    "                \n",
    "    def set_links_predef(self):\n",
    "        '''so pra facilitar testes, pra nao ter que ficar digitando se tem conexao entre os vertices ou nao'''\n",
    "        self.matriz = []\n",
    "        self.lista = []\n",
    "        for origem in self.vertices:\n",
    "            orig_m = []\n",
    "            orig_l = []\n",
    "            for destino in self.vertices:\n",
    "                # print(f'({origem} -> {destino})? ')\n",
    "                \n",
    "                is_linked = choice([0, 1])\n",
    "                print(f'({origem} -> {destino}) = {is_linked}')\n",
    "            \n",
    "                if is_linked == 1:\n",
    "                    orig_l.append(destino)\n",
    "                orig_m.append(is_linked)\n",
    "                \n",
    "            self.matriz.append(orig_m)\n",
    "            self.lista.append(orig_l)\n",
    "            \n",
    "    def show_m(self):\n",
    "        '''print matriz'''\n",
    "        col_header = ' '\n",
    "        print('Matriz adj')\n",
    "        for vertice in self.vertices:\n",
    "            col_header = col_header + f'  {vertice}'\n",
    "        print(col_header)\n",
    "        for vertice, link in zip(self.vertices, self.matriz):\n",
    "            print(vertice, link)\n",
    "            \n",
    "    def show_l(self):\n",
    "        '''print lista'''\n",
    "        print('Lista adj')\n",
    "        for vertice, links in zip(self.vertices, self.lista):\n",
    "            print(vertice, links)\n",
    "            "
   ]
  },
  {
   "cell_type": "code",
   "execution_count": null,
   "metadata": {},
   "outputs": [],
   "source": [
    "vertices = ['a', 'b', 'c']\n",
    "grafo = grafo(vertices)\n",
    "grafo.set_links_predef()"
   ]
  },
  {
   "cell_type": "code",
   "execution_count": null,
   "metadata": {},
   "outputs": [],
   "source": [
    "grafo.show_m()\n",
    "print('\\n')\n",
    "grafo.show_l()"
   ]
  }
 ],
 "metadata": {
  "kernelspec": {
   "display_name": "Python 3",
   "language": "python",
   "name": "python3"
  },
  "language_info": {
   "codemirror_mode": {
    "name": "ipython",
    "version": 3
   },
   "file_extension": ".py",
   "mimetype": "text/x-python",
   "name": "python",
   "nbconvert_exporter": "python",
   "pygments_lexer": "ipython3",
   "version": "3.8.6"
  },
  "varInspector": {
   "cols": {
    "lenName": 16,
    "lenType": 16,
    "lenVar": 40
   },
   "kernels_config": {
    "python": {
     "delete_cmd_postfix": "",
     "delete_cmd_prefix": "del ",
     "library": "var_list.py",
     "varRefreshCmd": "print(var_dic_list())"
    },
    "r": {
     "delete_cmd_postfix": ") ",
     "delete_cmd_prefix": "rm(",
     "library": "var_list.r",
     "varRefreshCmd": "cat(var_dic_list()) "
    }
   },
   "types_to_exclude": [
    "module",
    "function",
    "builtin_function_or_method",
    "instance",
    "_Feature"
   ],
   "window_display": false
  }
 },
 "nbformat": 4,
 "nbformat_minor": 4
}
