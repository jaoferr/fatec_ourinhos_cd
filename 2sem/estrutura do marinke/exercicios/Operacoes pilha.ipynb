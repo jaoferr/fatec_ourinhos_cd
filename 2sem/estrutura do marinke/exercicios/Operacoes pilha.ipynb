{
 "cells": [
  {
   "cell_type": "markdown",
   "metadata": {},
   "source": [
    "### Operações com pilhas"
   ]
  },
  {
   "cell_type": "markdown",
   "metadata": {},
   "source": [
    "    criar  - Cria uma Pilha P de n elementos\n",
    "    incluir  - Adicionar um novo elemento no Topo\n",
    "    remover  - Deletar o elemento do Topo\n",
    "    topo  - retorna o elemento do Topo\n",
    "    isEmpty  - função booleana\n",
    "        TRUE  se Pilha vazia\n",
    "        FALSE caso contrário"
   ]
  },
  {
   "cell_type": "code",
   "execution_count": null,
   "metadata": {},
   "outputs": [],
   "source": [
    "from random import randrange"
   ]
  },
  {
   "cell_type": "code",
   "execution_count": null,
   "metadata": {},
   "outputs": [],
   "source": [
    "class pilha:\n",
    "    \n",
    "    def __init__(self, n):\n",
    "        # self.pilha = [randrange(n*2) for i in range(n)]  # pra facilitar os testes\n",
    "        pilha = [int(input('Numero: ')) for i in range(n)] # recebe do usuario\n",
    "        self.pilha = pilha[::-1] # inverte a pilha, pro ultimo numero inserido ficar no topo\n",
    "    \n",
    "    def incluir(self, n):\n",
    "        self.pilha = [n] + self.pilha\n",
    "        \n",
    "    def remover(self):\n",
    "        self.pilha = self.pilha[1:]\n",
    "        \n",
    "    def topo(self):\n",
    "        try:\n",
    "            return self.pilha[0]\n",
    "        except:\n",
    "            return None\n",
    "    \n",
    "    def isEmpty(self):\n",
    "        return not bool(self.pilha)\n",
    "        # OU\n",
    "        # if self.pilha:\n",
    "        #     return False\n",
    "        # else:\n",
    "        #     return True"
   ]
  },
  {
   "cell_type": "code",
   "execution_count": null,
   "metadata": {},
   "outputs": [],
   "source": [
    "a = pilha(3)"
   ]
  },
  {
   "cell_type": "code",
   "execution_count": null,
   "metadata": {},
   "outputs": [],
   "source": [
    "print(a.pilha)\n",
    "a.incluir(100)\n",
    "print(a.pilha)\n",
    "a.remover()\n",
    "print(a.pilha)\n",
    "print(a.topo())\n",
    "print(a.isEmpty())"
   ]
  }
 ],
 "metadata": {
  "kernelspec": {
   "display_name": "Python 3",
   "language": "python",
   "name": "python3"
  },
  "language_info": {
   "codemirror_mode": {
    "name": "ipython",
    "version": 3
   },
   "file_extension": ".py",
   "mimetype": "text/x-python",
   "name": "python",
   "nbconvert_exporter": "python",
   "pygments_lexer": "ipython3",
   "version": "3.8.6"
  },
  "varInspector": {
   "cols": {
    "lenName": 16,
    "lenType": 16,
    "lenVar": 40
   },
   "kernels_config": {
    "python": {
     "delete_cmd_postfix": "",
     "delete_cmd_prefix": "del ",
     "library": "var_list.py",
     "varRefreshCmd": "print(var_dic_list())"
    },
    "r": {
     "delete_cmd_postfix": ") ",
     "delete_cmd_prefix": "rm(",
     "library": "var_list.r",
     "varRefreshCmd": "cat(var_dic_list()) "
    }
   },
   "types_to_exclude": [
    "module",
    "function",
    "builtin_function_or_method",
    "instance",
    "_Feature"
   ],
   "window_display": false
  }
 },
 "nbformat": 4,
 "nbformat_minor": 4
}
