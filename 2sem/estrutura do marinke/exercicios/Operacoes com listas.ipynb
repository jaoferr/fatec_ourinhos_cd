{
 "cells": [
  {
   "cell_type": "markdown",
   "metadata": {},
   "source": [
    "### Operações com listas"
   ]
  },
  {
   "cell_type": "markdown",
   "metadata": {},
   "source": [
    "    Percurso:  Referencia todos os elementos da lista em sequência;\n",
    "    Busca:  Por posição relativa ou por conteúdo;\n",
    "    Inserção:  Inserir um novo elemento na posição i da lista;\n",
    "    Inserção:  Inserir um novo elemento ao final da lista;\n",
    "    Remoção:  Remover o elemento da posição i da lista."
   ]
  },
  {
   "cell_type": "code",
   "execution_count": null,
   "metadata": {},
   "outputs": [],
   "source": [
    "from random import randrange\n",
    "v = [randrange(0, 20) for x in range(0, 20)]"
   ]
  },
  {
   "cell_type": "markdown",
   "metadata": {},
   "source": [
    "#### Percurso"
   ]
  },
  {
   "cell_type": "code",
   "execution_count": null,
   "metadata": {},
   "outputs": [],
   "source": [
    "def percurso(lista):\n",
    "    for i, elem in enumerate(lista):\n",
    "        print(i, elem)\n",
    "\n",
    "percurso(v)"
   ]
  },
  {
   "cell_type": "markdown",
   "metadata": {},
   "source": [
    "#### Busca"
   ]
  },
  {
   "cell_type": "code",
   "execution_count": null,
   "metadata": {},
   "outputs": [],
   "source": [
    "def busca(lista, elem):\n",
    "    for i, item in enumerate(lista):\n",
    "        if item == elem:\n",
    "            return i, True\n",
    "    return False\n",
    "\n",
    "busca(v, 20), busca(v, 12)"
   ]
  },
  {
   "cell_type": "markdown",
   "metadata": {},
   "source": [
    "#### Inserção #1"
   ]
  },
  {
   "cell_type": "code",
   "execution_count": null,
   "metadata": {},
   "outputs": [],
   "source": [
    "def insert_at(lista, elem, pos):\n",
    "    new = lista.copy()\n",
    "    try:\n",
    "        full = new[:pos] + [elem] + new[pos:]\n",
    "        return full\n",
    "    except:\n",
    "        print(f'Nao foi possivel inserir o elemento {elem} na posicao {pos}')\n",
    "        return None\n",
    "    \n",
    "print(v)\n",
    "insert_at(v, 250, 2)"
   ]
  },
  {
   "cell_type": "markdown",
   "metadata": {},
   "source": [
    "#### Inserção #2"
   ]
  },
  {
   "cell_type": "code",
   "execution_count": null,
   "metadata": {},
   "outputs": [],
   "source": [
    "def insert_last(lista, elem):\n",
    "    new = lista.copy()\n",
    "    try:\n",
    "        new+= [elem]\n",
    "        return new\n",
    "    except:\n",
    "        print(f'Nao foi possivel inserir o elemento {elem} no final da lista')\n",
    "        return None\n",
    "\n",
    "print(v)\n",
    "insert_last(v, 200)"
   ]
  },
  {
   "cell_type": "markdown",
   "metadata": {},
   "source": [
    "#### Remoção"
   ]
  },
  {
   "cell_type": "code",
   "execution_count": null,
   "metadata": {},
   "outputs": [],
   "source": [
    "def remove_at(lista, pos):\n",
    "    new = lista.copy()\n",
    "    full = [elem for i, elem in enumerate(new) if i != pos]\n",
    "    return full\n",
    "\n",
    "print(v)\n",
    "remove_at(v, 3)"
   ]
  }
 ],
 "metadata": {
  "kernelspec": {
   "display_name": "Python 3",
   "language": "python",
   "name": "python3"
  },
  "language_info": {
   "codemirror_mode": {
    "name": "ipython",
    "version": 3
   },
   "file_extension": ".py",
   "mimetype": "text/x-python",
   "name": "python",
   "nbconvert_exporter": "python",
   "pygments_lexer": "ipython3",
   "version": "3.8.6"
  },
  "varInspector": {
   "cols": {
    "lenName": 16,
    "lenType": 16,
    "lenVar": 40
   },
   "kernels_config": {
    "python": {
     "delete_cmd_postfix": "",
     "delete_cmd_prefix": "del ",
     "library": "var_list.py",
     "varRefreshCmd": "print(var_dic_list())"
    },
    "r": {
     "delete_cmd_postfix": ") ",
     "delete_cmd_prefix": "rm(",
     "library": "var_list.r",
     "varRefreshCmd": "cat(var_dic_list()) "
    }
   },
   "types_to_exclude": [
    "module",
    "function",
    "builtin_function_or_method",
    "instance",
    "_Feature"
   ],
   "window_display": false
  }
 },
 "nbformat": 4,
 "nbformat_minor": 4
}
