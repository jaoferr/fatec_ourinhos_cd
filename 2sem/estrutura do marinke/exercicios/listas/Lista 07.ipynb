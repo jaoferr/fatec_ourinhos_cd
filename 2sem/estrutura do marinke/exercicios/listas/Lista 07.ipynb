{
 "cells": [
  {
   "cell_type": "markdown",
   "metadata": {},
   "source": [
    "### Listas, pilhas e filas"
   ]
  },
  {
   "cell_type": "markdown",
   "metadata": {},
   "source": [
    "#### 1) Implemente uma aplicação que dada uma Pilha implemente funções para:\n",
    "    a) retornar o número de elementos empilhados\n",
    "    b) excluir todos os elementos da pilha\n",
    "    c) inserir elementos na pilha\n",
    "    d) retirar elementos da pilha\n",
    "    e) retorna o elemento que está no topo da pilha\n",
    "    f) alterar elemento que está no topo da pilha\n",
    "    g) verifica se a pilha está vazia"
   ]
  },
  {
   "cell_type": "code",
   "execution_count": null,
   "metadata": {},
   "outputs": [],
   "source": [
    "class pilha:   \n",
    "    def __init__(self, pilha):\n",
    "        self.pilha = pilha\n",
    "    # a\n",
    "    def n_elem(self):\n",
    "        return len(self.pilha)\n",
    "    # b\n",
    "    def remove_all(self):\n",
    "        self.pilha = []\n",
    "    # c\n",
    "    def insert_elem(self, elem):\n",
    "        self.pilha = [elem] + self.pilha\n",
    "    # d\n",
    "    def remove_elem(self):\n",
    "        self.pilha = self.pilha[1:]\n",
    "    # e\n",
    "    def topo(self):\n",
    "        return self.pilha[0]\n",
    "    # f\n",
    "    def alt_topo(self, elem):\n",
    "        self.pilha[0] = elem\n",
    "    # g\n",
    "    def isEmpty(self):\n",
    "        return not self.pilha\n",
    "    # extra\n",
    "    def show(self):\n",
    "        [print(f'{i+1}: \\t{elem}') for i, elem in enumerate(self.pilha)]\n",
    "        \n",
    "    def to_string(self):\n",
    "        return ''.join([str(x) for x in self.pilha])"
   ]
  },
  {
   "cell_type": "code",
   "execution_count": null,
   "metadata": {},
   "outputs": [],
   "source": [
    "from random import randrange\n",
    "v = [randrange(20) for x in range(10)]"
   ]
  },
  {
   "cell_type": "code",
   "execution_count": null,
   "metadata": {},
   "outputs": [],
   "source": [
    "a = pilha(v)\n",
    "a.show()"
   ]
  },
  {
   "cell_type": "code",
   "execution_count": null,
   "metadata": {},
   "outputs": [],
   "source": [
    "print('número de elementos empilhados: ', a.n_elem())\n",
    "a.insert_elem(200)\n",
    "print('inserir elementos na pilha (200): ', a.pilha)\n",
    "a.remove_elem()\n",
    "print('retirar elementos da pilha: ', a.pilha)\n",
    "print('retorna o elemento que está no topo da pilha: ', a.topo())\n",
    "a.alt_topo(300)\n",
    "print('alterar elemento que está no topo da pilha: ', a.pilha)\n",
    "print('verifica se a pilha está vazia: ', a.isEmpty())"
   ]
  },
  {
   "cell_type": "markdown",
   "metadata": {},
   "source": [
    "#### 2) Escreva um programa que utilizando uma pilha determina se uma string é um palíndromo ou não, isto é, se pode ser lida da mesma maneira para frente ou para trás. "
   ]
  },
  {
   "cell_type": "code",
   "execution_count": null,
   "metadata": {},
   "outputs": [],
   "source": [
    "def isPalind(pilha):\n",
    "    if len(pilha)%2 == 0:\n",
    "        for elem, ielem in zip(pilha, pilha[::-1]):\n",
    "            if elem == ielem:\n",
    "                continue\n",
    "            else:\n",
    "                return False\n",
    "    else:\n",
    "        i = 0\n",
    "        middle = round(len(pilha)/2)-1\n",
    "        for elem, ielem in zip(pilha, pilha[::-1]):\n",
    "            i+=1\n",
    "            if i == middle:\n",
    "                continue\n",
    "            else:\n",
    "                if elem == ielem:\n",
    "                    continue\n",
    "                else:\n",
    "                    return False\n",
    "    return True"
   ]
  },
  {
   "cell_type": "code",
   "execution_count": null,
   "metadata": {},
   "outputs": [],
   "source": [
    "# b = [x for x in range (11)]\n",
    "b = ['a', 'n', 'c', 'a']\n",
    "c = ['a', 'n', 'a']"
   ]
  },
  {
   "cell_type": "code",
   "execution_count": null,
   "metadata": {},
   "outputs": [],
   "source": [
    "isPalind(b), isPalind(c)"
   ]
  },
  {
   "cell_type": "markdown",
   "metadata": {},
   "source": [
    "#### 3) Implemente uma aplicação que utilize uma pilha para conversão de expressões da notação tradicional (infixa), para a notação polonesa reversa (pós-fixada)."
   ]
  },
  {
   "cell_type": "markdown",
   "metadata": {},
   "source": [
    "*não funciona*"
   ]
  },
  {
   "cell_type": "code",
   "execution_count": null,
   "metadata": {},
   "outputs": [],
   "source": [
    "inf = '(A*(B*C+D))'"
   ]
  },
  {
   "cell_type": "code",
   "execution_count": null,
   "metadata": {},
   "outputs": [],
   "source": [
    "p_inf = pilha([char for char in inf])"
   ]
  },
  {
   "cell_type": "code",
   "execution_count": null,
   "metadata": {},
   "outputs": [],
   "source": [
    "def posfx(inf):\n",
    "    p_inf = pilha([char for char in inf])\n",
    "    var, oper = pilha([]), pilha([])\n",
    "    fstr = ''\n",
    "    \n",
    "    while not p_inf.isEmpty():\n",
    "        for c in p_inf.pilha:\n",
    "            if c == '(':\n",
    "                p_inf.remove_elem()\n",
    "            else:\n",
    "                if c not in ['*', '/', '+', '-']:\n",
    "                    var.insert_elem(c)\n",
    "                    p_inf.remove_elem()\n",
    "                elif c in ['*', '/', '+', '-']:\n",
    "                    oper.insert_elem(c)\n",
    "                    p_inf.remove_elem()\n",
    "            \n",
    "            for x in var.pilha:\n",
    "                fstr+=x\n",
    "            for x in oper.pilha:\n",
    "                fstr+=x\n",
    "            \n",
    "            if c == ')':\n",
    "                p_inf.remove_elem()\n",
    "                var.remove_all()\n",
    "                oper.remove_all()\n",
    "                        \n",
    "    return fstr"
   ]
  },
  {
   "cell_type": "markdown",
   "metadata": {},
   "source": [
    "#### 4) Faça um programa que converta um número decimal para binário usando pilhas."
   ]
  },
  {
   "cell_type": "code",
   "execution_count": null,
   "metadata": {},
   "outputs": [],
   "source": [
    "def dec_to_bin(num):\n",
    "    new = num\n",
    "    binary = pilha([])\n",
    "    while new != 0:\n",
    "        binary.insert_elem(new%2)\n",
    "        new//=2\n",
    "    \n",
    "    print(f'{num} -> {binary.to_string()}')\n",
    "    return binary.to_string()"
   ]
  },
  {
   "cell_type": "code",
   "execution_count": null,
   "metadata": {},
   "outputs": [],
   "source": [
    "dec_to_bin(88)"
   ]
  },
  {
   "cell_type": "markdown",
   "metadata": {},
   "source": [
    "#### 5) Dada uma pilha S inverta a ordem de seus elementos usando:\n",
    "    a) pilhas\n",
    "    b) filas"
   ]
  },
  {
   "cell_type": "code",
   "execution_count": null,
   "metadata": {},
   "outputs": [],
   "source": [
    "def invert_pilha(old_pilha):\n",
    "    new_pilha = pilha([])\n",
    "    for elem in old_pilha:\n",
    "        new_pilha.insert_elem(elem)\n",
    "    \n",
    "    return new_pilha"
   ]
  },
  {
   "cell_type": "code",
   "execution_count": null,
   "metadata": {},
   "outputs": [],
   "source": [
    "from random import randrange\n",
    "s = [randrange(20) for x in range(10)]\n",
    "vp = pilha(s)\n",
    "print(vp.pilha)\n",
    "inverted = invert_pilha(vp.pilha)\n",
    "print(inverted.pilha)"
   ]
  },
  {
   "cell_type": "code",
   "execution_count": null,
   "metadata": {},
   "outputs": [],
   "source": [
    "class fila:\n",
    "    def __init__(self, fila):\n",
    "        self.fila = fila\n",
    "        \n",
    "    def insert_elem(self, elem):\n",
    "        self.fila+= [elem]\n",
    "        \n",
    "    def remove_elem(self):\n",
    "        self.fila = self.fila[:-1]"
   ]
  },
  {
   "cell_type": "code",
   "execution_count": null,
   "metadata": {},
   "outputs": [],
   "source": [
    "def invert_fila(old_pilha):\n",
    "    new_fila = fila([])\n",
    "    for elem in old_pilha.pilha[::-1]:\n",
    "        new_fila.insert_elem(elem)\n",
    "        \n",
    "    return new_fila"
   ]
  },
  {
   "cell_type": "code",
   "execution_count": null,
   "metadata": {},
   "outputs": [],
   "source": [
    "print(vp.pilha)\n",
    "inverted = invert_fila(vp).fila\n",
    "print(inverted)"
   ]
  }
 ],
 "metadata": {
  "kernelspec": {
   "display_name": "Python 3",
   "language": "python",
   "name": "python3"
  },
  "language_info": {
   "codemirror_mode": {
    "name": "ipython",
    "version": 3
   },
   "file_extension": ".py",
   "mimetype": "text/x-python",
   "name": "python",
   "nbconvert_exporter": "python",
   "pygments_lexer": "ipython3",
   "version": "3.8.6"
  },
  "varInspector": {
   "cols": {
    "lenName": 16,
    "lenType": 16,
    "lenVar": 40
   },
   "kernels_config": {
    "python": {
     "delete_cmd_postfix": "",
     "delete_cmd_prefix": "del ",
     "library": "var_list.py",
     "varRefreshCmd": "print(var_dic_list())"
    },
    "r": {
     "delete_cmd_postfix": ") ",
     "delete_cmd_prefix": "rm(",
     "library": "var_list.r",
     "varRefreshCmd": "cat(var_dic_list()) "
    }
   },
   "types_to_exclude": [
    "module",
    "function",
    "builtin_function_or_method",
    "instance",
    "_Feature"
   ],
   "window_display": false
  }
 },
 "nbformat": 4,
 "nbformat_minor": 4
}
