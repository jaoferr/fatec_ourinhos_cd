{
 "cells": [
  {
   "cell_type": "code",
   "execution_count": 1,
   "metadata": {},
   "outputs": [],
   "source": [
    "import random"
   ]
  },
  {
   "cell_type": "code",
   "execution_count": 32,
   "metadata": {},
   "outputs": [],
   "source": [
    "def print_matrix(matrix):\n",
    "    m = len(matrix)\n",
    "    n = len(matrix[0])\n",
    "    print(f'Matriz {m}x{n}')\n",
    "    for row in matrix:\n",
    "        print(row)\n",
    "\n",
    "def gen_matrix(m, n):\n",
    "    matrix = []\n",
    "    # row = []\n",
    "    for i in range(1, m + 1):\n",
    "        row = [random.randrange(1, (m*n)) for j in range(n)]\n",
    "        matrix.append(row)\n",
    "    print_matrix(matrix)\n",
    "    return matrix"
   ]
  },
  {
   "cell_type": "markdown",
   "metadata": {},
   "source": [
    "#### 1.Faça um programa para ler duas matrizes A e B e efetuar a soma. As dimensões são lidas pelo teclado."
   ]
  },
  {
   "cell_type": "code",
   "execution_count": 29,
   "metadata": {},
   "outputs": [],
   "source": [
    "def sum_matrix(matrix1, matrix2):\n",
    "    if len(matrix1) != len(matrix2) | len(matrix1[0]) != len(matrix2[0]):\n",
    "        print('Matrizes de dimensoes diferentes')\n",
    "        return 0\n",
    "    m, n = len(matrix1), len(matrix1[0]) # m rows x n cols\n",
    "    sum_matrix = [] # matrix C (A+B)\n",
    "    row = []\n",
    "    for i in range(m):\n",
    "        for j in range(n):\n",
    "            row.append(matrix1[i][j] + matrix2[i][j])\n",
    "        sum_matrix.append(row)\n",
    "        row = []\n",
    "    print_matrix(sum_matrix)\n",
    "    return sum_matrix"
   ]
  },
  {
   "cell_type": "code",
   "execution_count": 30,
   "metadata": {},
   "outputs": [
    {
     "name": "stdout",
     "output_type": "stream",
     "text": [
      "Matriz 3x3\n",
      "[8, 1, 1]\n",
      "[4, 8, 1]\n",
      "[1, 7, 8]\n",
      "Matriz 3x3\n",
      "[3, 8, 6]\n",
      "[4, 7, 3]\n",
      "[8, 8, 7]\n",
      "Matriz 3x3\n",
      "[11, 9, 7]\n",
      "[8, 15, 4]\n",
      "[9, 15, 15]\n"
     ]
    },
    {
     "data": {
      "text/plain": [
       "[[11, 9, 7], [8, 15, 4], [9, 15, 15]]"
      ]
     },
     "execution_count": 30,
     "metadata": {},
     "output_type": "execute_result"
    }
   ],
   "source": [
    "m1 = gen_matrix(3, 3)\n",
    "m2 = gen_matrix(3, 3)\n",
    "print_matrix(m1)\n",
    "print_matrix(m2)\n",
    "sum_matrix(m1, m2)"
   ]
  },
  {
   "cell_type": "markdown",
   "metadata": {},
   "source": [
    "#### 2. Escreva um programa que lê uma matriz M(5,5) e calcula as somas(usando funções):\n",
    "    a) da linha 4 de M \n",
    "    b) da coluna 2 de M \n",
    "    c) da diagonal principal \n",
    "    d) da diagonal secundária\n",
    "    e) de todos os elementos da matriz M "
   ]
  },
  {
   "cell_type": "code",
   "execution_count": 145,
   "metadata": {},
   "outputs": [
    {
     "name": "stdout",
     "output_type": "stream",
     "text": [
      "Matriz 5x5\n",
      "[10, 12, 4, 7, 4]\n",
      "[6, 13, 14, 23, 21]\n",
      "[3, 18, 13, 13, 21]\n",
      "[1, 21, 5, 2, 4]\n",
      "[21, 14, 11, 7, 9]\n"
     ]
    }
   ],
   "source": [
    "m3 = gen_matrix(5, 5)"
   ]
  },
  {
   "cell_type": "code",
   "execution_count": 150,
   "metadata": {},
   "outputs": [],
   "source": [
    "def sum_line4(matrix):\n",
    "    return sum(matrix[3])\n",
    "\n",
    "def sum_col2(matrix):\n",
    "    return sum([j[1] for j in matrix])\n",
    "\n",
    "def sum_diagonal(matrix):\n",
    "    m, n = len(matrix), len(matrix[0])\n",
    "    if m != n:\n",
    "        print('Matriz nao quadrada (sem diagonal)')\n",
    "        return 0\n",
    "    sum_diagonal = 0\n",
    "    for ij in range(m):\n",
    "        sum_diagonal+= matrix[ij][ij]\n",
    "    \n",
    "    return sum_diagonal\n",
    "\n",
    "def sum_nd_diagonal(matrix):\n",
    "    m, n = len(matrix), len(matrix[0])\n",
    "    if m != n:\n",
    "        print('Matriz nao quadrada (sem diagonal)')\n",
    "        return 0\n",
    "    sum_diagonal = 0\n",
    "\n",
    "    for i in range(m):\n",
    "        sum_diagonal+= matrix[i-1][-i]\n",
    "    \n",
    "    return sum_diagonal\n",
    "\n",
    "def sum_all_elements(matrix):\n",
    "    return sum([sum(row) for row in matrix])"
   ]
  },
  {
   "cell_type": "code",
   "execution_count": 151,
   "metadata": {},
   "outputs": [
    {
     "name": "stdout",
     "output_type": "stream",
     "text": [
      "a) 33\n",
      "b) 78\n",
      "c) 47\n",
      "d) 82\n",
      "e) 277\n"
     ]
    }
   ],
   "source": [
    "print(f'a) {sum_line4(m3)}')\n",
    "print(f'b) {sum_col2(m3)}')\n",
    "print(f'c) {sum_diagonal(m3)}')\n",
    "print(f'd) {sum_nd_diagonal(m3)}')\n",
    "print(f'e) {sum_all_elements(m3)}')"
   ]
  },
  {
   "cell_type": "markdown",
   "metadata": {},
   "source": [
    "#### 3. Faça um algoritmo que leia uma matriz 5x5 de inteiros. calcule e mostre a soma das linhas pares da matriz. "
   ]
  },
  {
   "cell_type": "code",
   "execution_count": 98,
   "metadata": {},
   "outputs": [
    {
     "name": "stdout",
     "output_type": "stream",
     "text": [
      "Matriz 5x5\n",
      "[9, 22, 19, 6, 19]\n",
      "[3, 20, 15, 21, 23]\n",
      "[23, 1, 6, 24, 13]\n",
      "[10, 22, 22, 3, 9]\n",
      "[17, 5, 2, 13, 21]\n"
     ]
    }
   ],
   "source": [
    "m4 = gen_matrix(5, 5)"
   ]
  },
  {
   "cell_type": "code",
   "execution_count": 116,
   "metadata": {},
   "outputs": [],
   "source": [
    "def sum_even_rows(matrix):\n",
    "    m = len(matrix)\n",
    "    even_rows = [row for row in range(1, m+1) if row%2 == 0]\n",
    "    return sum([sum(matrix[row-1]) for row in even_rows])"
   ]
  },
  {
   "cell_type": "code",
   "execution_count": 117,
   "metadata": {},
   "outputs": [
    {
     "data": {
      "text/plain": [
       "148"
      ]
     },
     "execution_count": 117,
     "metadata": {},
     "output_type": "execute_result"
    }
   ],
   "source": [
    "sum_even_rows(m4)"
   ]
  },
  {
   "cell_type": "markdown",
   "metadata": {},
   "source": [
    "#### 4. Escrever um algoritmo que lê uma matriz M(10,10) e a escreve. Troque, a seguir:\n",
    "    a) a linha 2 com a linha 8 \n",
    "    b) a coluna 4 com a coluna 10\n",
    "    c) a diagonal principal com a diagonal secundária \n",
    "    d) a linha 5 com a coluna 10. "
   ]
  },
  {
   "cell_type": "code",
   "execution_count": 174,
   "metadata": {},
   "outputs": [
    {
     "name": "stdout",
     "output_type": "stream",
     "text": [
      "Matriz 10x10\n",
      "[79, 63, 9, 36, 41, 53, 90, 1, 16, 90]\n",
      "[48, 35, 12, 79, 58, 16, 61, 24, 81, 22]\n",
      "[78, 25, 57, 20, 33, 54, 32, 46, 31, 66]\n",
      "[56, 18, 11, 86, 26, 15, 40, 34, 74, 47]\n",
      "[52, 12, 58, 7, 57, 58, 22, 62, 87, 48]\n",
      "[2, 74, 3, 49, 40, 63, 66, 3, 21, 23]\n",
      "[31, 18, 54, 38, 6, 72, 54, 65, 53, 92]\n",
      "[20, 8, 32, 64, 88, 93, 95, 38, 85, 89]\n",
      "[52, 9, 47, 78, 12, 24, 19, 36, 86, 42]\n",
      "[17, 1, 99, 68, 20, 62, 16, 89, 98, 44]\n"
     ]
    }
   ],
   "source": [
    "m5 = gen_matrix(10, 10)"
   ]
  },
  {
   "cell_type": "code",
   "execution_count": 184,
   "metadata": {},
   "outputs": [],
   "source": [
    "def swap_row2_row8(matrix):\n",
    "    matrix[1], matrix[7] = matrix[7], matrix[1]\n",
    "    return matrix\n",
    "\n",
    "def swap_col4_col10(matrix):\n",
    "    new_matrix = []\n",
    "    for row in matrix:\n",
    "        # print(row[3], row[9])\n",
    "        row[3], row[9] = row[9], row[3]\n",
    "        new_matrix.append(row)    \n",
    "    return new_matrix\n",
    "\n",
    "def swap_diagonals(matrix):\n",
    "    m = len(matrix)\n",
    "    new_matrix = matrix\n",
    "    for i in range(1, m+1):\n",
    "        # print(new_matrix[i-1][i-1], new_matrix[i-1][-i])\n",
    "        new_matrix[i-1][i-1] = matrix[i-1][-i]\n",
    "        new_matrix[i-1][-i] = matrix[i-1][i-1]\n",
    "        \n",
    "    return new_matrix\n",
    "\n",
    "def swap_row5_col10(matrix):\n",
    "    col10 = [row[-1] for row in matrix]\n",
    "    row5 = matrix[4]\n",
    "    new_matrix = matrix\n",
    "    \n",
    "    for row in range(len(new_matrix)):\n",
    "        new_matrix[row][-1] = row5[row]\n",
    "    new_matrix[4] = col10\n",
    "    \n",
    "    return new_matrix\n",
    "    "
   ]
  },
  {
   "cell_type": "code",
   "execution_count": 188,
   "metadata": {
    "collapsed": true
   },
   "outputs": [
    {
     "name": "stdout",
     "output_type": "stream",
     "text": [
      "a)\n",
      "Matriz 10x10\n",
      "[36, 63, 9, 52, 41, 53, 90, 1, 16, 90]\n",
      "[20, 85, 32, 12, 88, 93, 95, 32, 85, 89]\n",
      "[78, 25, 46, 58, 33, 54, 32, 46, 31, 66]\n",
      "[56, 18, 11, 40, 26, 15, 40, 34, 74, 17]\n",
      "[36, 64, 20, 40, 40, 49, 38, 79, 78, 17]\n",
      "[2, 74, 3, 58, 40, 40, 66, 3, 21, 23]\n",
      "[31, 18, 54, 22, 6, 72, 22, 65, 53, 92]\n",
      "[48, 81, 12, 62, 58, 16, 61, 12, 81, 22]\n",
      "[52, 9, 47, 87, 12, 24, 19, 36, 9, 42]\n",
      "[17, 1, 99, 58, 20, 62, 16, 89, 98, 23]\n",
      "b)\n",
      "Matriz 10x10\n",
      "[36, 63, 9, 90, 41, 53, 90, 1, 16, 52]\n",
      "[20, 85, 32, 89, 88, 93, 95, 32, 85, 12]\n",
      "[78, 25, 46, 66, 33, 54, 32, 46, 31, 58]\n",
      "[56, 18, 11, 17, 26, 15, 40, 34, 74, 40]\n",
      "[36, 64, 20, 17, 40, 49, 38, 79, 78, 40]\n",
      "[2, 74, 3, 23, 40, 40, 66, 3, 21, 58]\n",
      "[31, 18, 54, 92, 6, 72, 22, 65, 53, 22]\n",
      "[48, 81, 12, 22, 58, 16, 61, 12, 81, 62]\n",
      "[52, 9, 47, 42, 12, 24, 19, 36, 9, 87]\n",
      "[17, 1, 99, 23, 20, 62, 16, 89, 98, 58]\n",
      "c)\n",
      "Matriz 10x10\n",
      "[52, 63, 9, 90, 41, 53, 90, 1, 16, 52]\n",
      "[20, 85, 32, 89, 88, 93, 95, 32, 85, 12]\n",
      "[78, 25, 46, 66, 33, 54, 32, 46, 31, 58]\n",
      "[56, 18, 11, 40, 26, 15, 40, 34, 74, 40]\n",
      "[36, 64, 20, 17, 49, 49, 38, 79, 78, 40]\n",
      "[2, 74, 3, 23, 40, 40, 66, 3, 21, 58]\n",
      "[31, 18, 54, 92, 6, 72, 92, 65, 53, 22]\n",
      "[48, 81, 12, 22, 58, 16, 61, 12, 81, 62]\n",
      "[52, 9, 47, 42, 12, 24, 19, 36, 9, 87]\n",
      "[17, 1, 99, 23, 20, 62, 16, 89, 98, 17]\n",
      "d)\n",
      "Matriz 10x10\n",
      "[52, 63, 9, 90, 41, 53, 90, 1, 16, 36]\n",
      "[20, 85, 32, 89, 88, 93, 95, 32, 85, 64]\n",
      "[78, 25, 46, 66, 33, 54, 32, 46, 31, 20]\n",
      "[56, 18, 11, 40, 26, 15, 40, 34, 74, 17]\n",
      "[52, 12, 58, 40, 40, 58, 22, 62, 87, 17]\n",
      "[2, 74, 3, 23, 40, 40, 66, 3, 21, 49]\n",
      "[31, 18, 54, 92, 6, 72, 92, 65, 53, 38]\n",
      "[48, 81, 12, 22, 58, 16, 61, 12, 81, 79]\n",
      "[52, 9, 47, 42, 12, 24, 19, 36, 9, 78]\n",
      "[17, 1, 99, 23, 20, 62, 16, 89, 98, 49]\n"
     ]
    }
   ],
   "source": [
    "print(f'a)')\n",
    "print_matrix(swap_row2_row8(m5))\n",
    "print(f'b)')\n",
    "print_matrix(swap_col4_col10(m5))\n",
    "print(f'c)')\n",
    "print_matrix(swap_diagonals(m5))\n",
    "print(f'd)')\n",
    "print_matrix(swap_row5_col10(m5))#### 4. Escrever um algoritmo que lê uma matriz M(10,10) e a escreve. Troque, a seguir:\n",
    "    a) a linha 2 com a linha 8 \n",
    "    b) a coluna 4 com a coluna 10\n",
    "    c) a diagonal principal com a diagonal secundária \n",
    "    d) a linha 5 com a coluna 10. "
   ]
  },
  {
   "cell_type": "markdown",
   "metadata": {},
   "source": [
    "#### 5. Faça um programa que leia uma matriz 3 x 3 e calcule e escreva:\n",
    "    a) o menor elemento e a sua posição (índices); e\n",
    "    b) o maior elemento e a sua posição (índices). "
   ]
  },
  {
   "cell_type": "code",
   "execution_count": 202,
   "metadata": {
    "scrolled": true
   },
   "outputs": [
    {
     "name": "stdout",
     "output_type": "stream",
     "text": [
      "Matriz 3x3\n",
      "[4, 2, 2]\n",
      "[6, 2, 2]\n",
      "[3, 6, 8]\n"
     ]
    }
   ],
   "source": [
    "m6 = gen_matrix(3, 3)"
   ]
  },
  {
   "cell_type": "code",
   "execution_count": 209,
   "metadata": {},
   "outputs": [],
   "source": [
    "def min_elem(matrix):\n",
    "    m, n = len(matrix), len(matrix[0])\n",
    "    min_elem = matrix[0][0]\n",
    "    idx_row, idx_col = 0, 0\n",
    "    for i in range(m):\n",
    "        for j in range(n):\n",
    "            if matrix[i][j] < min_elem:\n",
    "                min_elem = matrix[i][j]\n",
    "                idx_row = i\n",
    "                idx_col = j\n",
    "    \n",
    "    return min_elem, (idx_row, idx_col)\n",
    "\n",
    "def max_elem(matrix):\n",
    "    m, n = len(matrix), len(matrix[0])\n",
    "    max_elem = matrix[0][0]\n",
    "    idx_row, idx_col = 0, 0\n",
    "    for i in range(m):\n",
    "        for j in range(n):\n",
    "            if matrix[i][j] > max_elem:\n",
    "                max_elem = matrix[i][j]\n",
    "                idx_row = i\n",
    "                idx_col = j\n",
    "    \n",
    "    return max_elem, (idx_row, idx_col)"
   ]
  },
  {
   "cell_type": "code",
   "execution_count": 210,
   "metadata": {},
   "outputs": [
    {
     "name": "stdout",
     "output_type": "stream",
     "text": [
      "a) (2, (0, 1))\n",
      "b) (8, (2, 2))\n"
     ]
    }
   ],
   "source": [
    "print(f'a) {min_elem(m6)}')\n",
    "print(f'b) {max_elem(m6)}')"
   ]
  },
  {
   "cell_type": "markdown",
   "metadata": {},
   "source": [
    "#### 6. Faça uma função que recebe por parâmetro uma matriz A(5,5) e retorna a soma dos seus elementos."
   ]
  },
  {
   "cell_type": "code",
   "execution_count": 211,
   "metadata": {},
   "outputs": [
    {
     "name": "stdout",
     "output_type": "stream",
     "text": [
      "Matriz 5x5\n",
      "[7, 7, 5, 10, 8]\n",
      "[6, 13, 13, 20, 2]\n",
      "[21, 22, 11, 7, 10]\n",
      "[8, 23, 6, 11, 1]\n",
      "[16, 21, 13, 23, 22]\n"
     ]
    }
   ],
   "source": [
    "m7 = gen_matrix(5, 5)"
   ]
  },
  {
   "cell_type": "code",
   "execution_count": 212,
   "metadata": {},
   "outputs": [],
   "source": [
    "# soh copiando a funcao la de cima\n",
    "def sum_all_elements(matrix):\n",
    "    return sum([sum(row) for row in matrix])"
   ]
  },
  {
   "cell_type": "code",
   "execution_count": 214,
   "metadata": {},
   "outputs": [
    {
     "data": {
      "text/plain": [
       "306"
      ]
     },
     "execution_count": 214,
     "metadata": {},
     "output_type": "execute_result"
    }
   ],
   "source": [
    "sum_all_elements(m7)"
   ]
  },
  {
   "cell_type": "markdown",
   "metadata": {},
   "source": [
    "#### 7. Faça uma função que recebe por parâmetro uma matriz A(6,6) e retorna a soma dos elementos da sua diagonal principal e da sua diagonal secundária."
   ]
  },
  {
   "cell_type": "code",
   "execution_count": 215,
   "metadata": {},
   "outputs": [
    {
     "name": "stdout",
     "output_type": "stream",
     "text": [
      "Matriz 6x6\n",
      "[3, 7, 35, 35, 8, 3]\n",
      "[31, 31, 17, 15, 24, 5]\n",
      "[15, 32, 19, 9, 1, 22]\n",
      "[9, 25, 15, 18, 2, 33]\n",
      "[25, 9, 11, 13, 11, 5]\n",
      "[11, 34, 12, 1, 3, 10]\n"
     ]
    }
   ],
   "source": [
    "m8 = gen_matrix(6, 6)"
   ]
  },
  {
   "cell_type": "code",
   "execution_count": 216,
   "metadata": {},
   "outputs": [],
   "source": [
    "# usando as funcoes definidas anteriormente\n",
    "def sum_all_diag(matrix):\n",
    "    return sum_diagonal(matrix)+sum_nd_diagonal(matrix)"
   ]
  },
  {
   "cell_type": "code",
   "execution_count": 219,
   "metadata": {},
   "outputs": [
    {
     "data": {
      "text/plain": [
       "163"
      ]
     },
     "execution_count": 219,
     "metadata": {},
     "output_type": "execute_result"
    }
   ],
   "source": [
    "sum_all_diag(m8)"
   ]
  },
  {
   "cell_type": "markdown",
   "metadata": {},
   "source": [
    "#### 8. Faça uma função que recebe por parâmetro uma matriz A(7,6) e retorna a soma dos elementos da linha 5 e da coluna 3."
   ]
  },
  {
   "cell_type": "code",
   "execution_count": 220,
   "metadata": {
    "collapsed": true
   },
   "outputs": [
    {
     "name": "stdout",
     "output_type": "stream",
     "text": [
      "Matriz 7x6\n",
      "[15, 23, 28, 4, 9, 12]\n",
      "[28, 17, 8, 24, 19, 32]\n",
      "[4, 21, 30, 6, 24, 7]\n",
      "[8, 14, 12, 15, 10, 15]\n",
      "[1, 11, 24, 14, 37, 3]\n",
      "[35, 32, 29, 30, 23, 4]\n",
      "[21, 23, 28, 27, 9, 39]\n"
     ]
    }
   ],
   "source": [
    "m9 = gen_matrix(7, 6)"
   ]
  },
  {
   "cell_type": "code",
   "execution_count": 223,
   "metadata": {},
   "outputs": [],
   "source": [
    "def sum_row5_col3(matrix):\n",
    "    col3 = [row[2] for row in matrix]\n",
    "    row5 = matrix[4]\n",
    "    return sum(col3)+sum(row5)"
   ]
  },
  {
   "cell_type": "code",
   "execution_count": 224,
   "metadata": {},
   "outputs": [
    {
     "data": {
      "text/plain": [
       "249"
      ]
     },
     "execution_count": 224,
     "metadata": {},
     "output_type": "execute_result"
    }
   ],
   "source": [
    "sum_row5_col3(m9)"
   ]
  },
  {
   "cell_type": "markdown",
   "metadata": {},
   "source": [
    "#### 9. Faça uma função que recebe por parâmetro uma matriz A(6,6) e retorna o menor elemento da sua diagonal secundária."
   ]
  },
  {
   "cell_type": "code",
   "execution_count": 233,
   "metadata": {},
   "outputs": [
    {
     "name": "stdout",
     "output_type": "stream",
     "text": [
      "Matriz 6x6\n",
      "[32, 32, 21, 29, 31, 33]\n",
      "[24, 20, 27, 29, 28, 35]\n",
      "[30, 11, 26, 30, 29, 26]\n",
      "[28, 25, 11, 10, 4, 26]\n",
      "[28, 23, 35, 3, 34, 33]\n",
      "[30, 33, 34, 7, 17, 5]\n"
     ]
    }
   ],
   "source": [
    "m10 = gen_matrix(6, 6)"
   ]
  },
  {
   "cell_type": "code",
   "execution_count": 236,
   "metadata": {},
   "outputs": [],
   "source": [
    "def min_nd_diagonal(matrix):\n",
    "    m, n = len(matrix), len(matrix[0])\n",
    "    if m != n:\n",
    "        print('Matriz nao quadrada (sem diagonal)')\n",
    "        return 0\n",
    "    min_diagonal = matrix[0][0]\n",
    "    idx_row, idx_col = 0, 0\n",
    "\n",
    "    for i in range(m):\n",
    "        if matrix[i-1][-i] < min_diagonal:\n",
    "            min_diagonal = matrix[i-1][-i]\n",
    "            idx_row, idx_col = i-1, -i\n",
    "    return min_diagonal, (idx_row, idx_col)"
   ]
  },
  {
   "cell_type": "code",
   "execution_count": 237,
   "metadata": {},
   "outputs": [
    {
     "data": {
      "text/plain": [
       "(11, (3, -4))"
      ]
     },
     "execution_count": 237,
     "metadata": {},
     "output_type": "execute_result"
    }
   ],
   "source": [
    "min_nd_diagonal(m10)"
   ]
  },
  {
   "cell_type": "markdown",
   "metadata": {},
   "source": [
    "#### 10. Faça uma função que recebe por parâmetro uma matriz A(5, 5) e calcula o maior elemento da sua diagonal principal. A seguir, outra função deve dividir todos os elementos de A pelo maior encontrado e retornar a matriz alterada."
   ]
  },
  {
   "cell_type": "code",
   "execution_count": 251,
   "metadata": {},
   "outputs": [
    {
     "name": "stdout",
     "output_type": "stream",
     "text": [
      "Matriz 5x5\n",
      "[6, 14, 24, 18, 5]\n",
      "[4, 12, 3, 12, 2]\n",
      "[22, 17, 9, 16, 14]\n",
      "[19, 19, 20, 13, 19]\n",
      "[2, 20, 16, 15, 18]\n"
     ]
    }
   ],
   "source": [
    "m11 = gen_matrix(5, 5)"
   ]
  },
  {
   "cell_type": "code",
   "execution_count": 264,
   "metadata": {},
   "outputs": [],
   "source": [
    "def max_diagonal(matrix):\n",
    "    m, n = len(matrix), len(matrix[0])\n",
    "    if m != n:\n",
    "        print('Matriz nao quadrada (sem diagonal)')\n",
    "        return 0\n",
    "    max_diagonal = matrix[0][0]\n",
    "    idx_row, idx_col = 0, 0\n",
    "    \n",
    "    for i in range(m):\n",
    "        if matrix[i][i] > max_diagonal:\n",
    "            max_diagonal = matrix[i][i]\n",
    "            idx_row, idx_col = i, i\n",
    "    \n",
    "    return max_diagonal, (idx_row, idx_col)\n",
    "\n",
    "def divide_matrix_by_scalar(matrix, scalar):\n",
    "    m, n = len(matrix), len(matrix[0])\n",
    "    divided_matrix = []\n",
    "    for i in range(m):\n",
    "        divided_matrix.append([round(j/scalar, 2) for j in matrix[i]])\n",
    "\n",
    "    return divided_matrix"
   ]
  },
  {
   "cell_type": "code",
   "execution_count": 267,
   "metadata": {},
   "outputs": [
    {
     "name": "stdout",
     "output_type": "stream",
     "text": [
      "Maior valor: 18, Row: 4, Col: 4\n",
      "\n",
      "Matriz A(m11) divida pelo maior valor da diagonal principal, 18\n",
      "Matriz 5x5\n",
      "[0.33, 0.78, 1.33, 1.0, 0.28]\n",
      "[0.22, 0.67, 0.17, 0.67, 0.11]\n",
      "[1.22, 0.94, 0.5, 0.89, 0.78]\n",
      "[1.06, 1.06, 1.11, 0.72, 1.06]\n",
      "[0.11, 1.11, 0.89, 0.83, 1.0]\n"
     ]
    }
   ],
   "source": [
    "max_diag = max_diagonal(m11)\n",
    "print(f'Maior valor: {max_diag[0]}, Row: {max_diag[1][0]}, Col: {max_diag[1][1]}\\n')\n",
    "scalar = max_diagonal(m11)[0]\n",
    "matrix_div_scalar = divide_matrix_by_scalar(m11, scalar)\n",
    "print(f'Matriz A(m11) divida pelo maior valor da diagonal principal, {scalar}')\n",
    "print_matrix(matrix_div_scalar)"
   ]
  }
 ],
 "metadata": {
  "kernelspec": {
   "display_name": "Python 3",
   "language": "python",
   "name": "python3"
  },
  "language_info": {
   "codemirror_mode": {
    "name": "ipython",
    "version": 3
   },
   "file_extension": ".py",
   "mimetype": "text/x-python",
   "name": "python",
   "nbconvert_exporter": "python",
   "pygments_lexer": "ipython3",
   "version": "3.7.6"
  },
  "varInspector": {
   "cols": {
    "lenName": 16,
    "lenType": 16,
    "lenVar": 40
   },
   "kernels_config": {
    "python": {
     "delete_cmd_postfix": "",
     "delete_cmd_prefix": "del ",
     "library": "var_list.py",
     "varRefreshCmd": "print(var_dic_list())"
    },
    "r": {
     "delete_cmd_postfix": ") ",
     "delete_cmd_prefix": "rm(",
     "library": "var_list.r",
     "varRefreshCmd": "cat(var_dic_list()) "
    }
   },
   "types_to_exclude": [
    "module",
    "function",
    "builtin_function_or_method",
    "instance",
    "_Feature"
   ],
   "window_display": false
  }
 },
 "nbformat": 4,
 "nbformat_minor": 4
}
