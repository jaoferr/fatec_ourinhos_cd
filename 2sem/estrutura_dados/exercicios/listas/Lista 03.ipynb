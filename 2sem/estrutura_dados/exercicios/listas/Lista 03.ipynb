{
 "cells": [
  {
   "cell_type": "code",
   "execution_count": 4,
   "metadata": {},
   "outputs": [],
   "source": [
    "import random"
   ]
  },
  {
   "cell_type": "markdown",
   "metadata": {},
   "source": [
    "#### 0. Funcoes uteis"
   ]
  },
  {
   "cell_type": "code",
   "execution_count": 3,
   "metadata": {},
   "outputs": [],
   "source": [
    "def gen_vetor(len_v):\n",
    "    '''Gera vetores com len_v posicoes'''\n",
    "    x = [random.randrange(0, 100, 1) for elem in range(len_v)]\n",
    "    print(x)\n",
    "    return x"
   ]
  },
  {
   "cell_type": "code",
   "execution_count": null,
   "metadata": {},
   "outputs": [],
   "source": [
    "def sum_scalar(v, s):\n",
    "    '''Soma vetor a um escalar'''\n",
    "    added_v = []\n",
    "    for elem in v:\n",
    "        added_v.append(elem+s)\n",
    "    return added_v"
   ]
  },
  {
   "cell_type": "markdown",
   "metadata": {},
   "source": [
    "#### 1. Elaborar um algoritmo que lê um conjunto de 30 valores e os coloca em 2 vetores conforme forem pares ou ímpares. O tamanho do vetor é de 5 posições. Terminada a leitura escrever o conteúdo dos dois vetores. Cada vetor pode ser preenchido tantas vezes quantas for necessário."
   ]
  },
  {
   "cell_type": "code",
   "execution_count": 21,
   "metadata": {},
   "outputs": [
    {
     "name": "stdout",
     "output_type": "stream",
     "text": [
      "Vetor 30 elementos: [17, 97, 61, 17, 89, 84, 46, 97, 50, 64, 40, 86, 71, 93, 74, 34, 52, 71, 3, 87, 76, 79, 40, 33, 39, 71, 33, 75, 48, 10]\n"
     ]
    }
   ],
   "source": [
    "# criar vetor com 30 valores c/ n aleatorios\n",
    "v = gen_vetor(30)"
   ]
  },
  {
   "cell_type": "code",
   "execution_count": 41,
   "metadata": {},
   "outputs": [
    {
     "name": "stdout",
     "output_type": "stream",
     "text": [
      "Pares: [84, 46, 50, 64, 40, 86, 74, 34, 52, 76, 40, 48, 10]\n",
      "Impares: [17, 97, 61, 17, 89, 97, 71, 93, 71, 3, 87, 79, 33, 39, 71, 33, 75]\n"
     ]
    },
    {
     "data": {
      "text/plain": [
       "([84, 46, 50, 64, 40, 86, 74, 34, 52, 76, 40, 48, 10],\n",
       " [17, 97, 61, 17, 89, 97, 71, 93, 71, 3, 87, 79, 33, 39, 71, 33, 75])"
      ]
     },
     "execution_count": 41,
     "metadata": {},
     "output_type": "execute_result"
    }
   ],
   "source": [
    "def split_par_impar(v):\n",
    "    v_par, v_impar = [], []\n",
    "    for elem in v:\n",
    "        if elem%2 != 0:\n",
    "            v_impar.append(elem)\n",
    "        else:\n",
    "            v_par.append(elem)\n",
    "    print(f'Pares: {v_par}\\nImpares: {v_impar}')\n",
    "    return v_par, v_impar\n",
    "split_par_impar(v)"
   ]
  },
  {
   "cell_type": "markdown",
   "metadata": {},
   "source": [
    "#### 2. Escreva um algoritmo que leia dois vetores de 10 posições e faça a multiplicação dos elementos de mesmo índice, colocando o resultado em um terceiro vetor. Mostre o vetor resultante. "
   ]
  },
  {
   "cell_type": "code",
   "execution_count": 23,
   "metadata": {},
   "outputs": [],
   "source": [
    "# criacao dos 2 vetores 10 de posicoes c/ n aleatorios\n",
    "v2 = gen_vetor(10)\n",
    "v3 = gen_vetor(10)"
   ]
  },
  {
   "cell_type": "code",
   "execution_count": 40,
   "metadata": {},
   "outputs": [
    {
     "name": "stdout",
     "output_type": "stream",
     "text": [
      "V*V = [1552, 1152, 6900, 160, 1950, 2242, 3240, 4118, 483, 2136]\n"
     ]
    },
    {
     "data": {
      "text/plain": [
       "[1552, 1152, 6900, 160, 1950, 2242, 3240, 4118, 483, 2136]"
      ]
     },
     "execution_count": 40,
     "metadata": {},
     "output_type": "execute_result"
    }
   ],
   "source": [
    "def vxv(v1, v2):\n",
    "    vxv = []\n",
    "    for vv1, vv2 in zip(v1, v2):\n",
    "        vxv.append(vv1*vv2)\n",
    "    print(f'V*V = {vxv}')\n",
    "    return vxv\n",
    "vxv(v2, v3)"
   ]
  },
  {
   "cell_type": "markdown",
   "metadata": {},
   "source": [
    "#### 3. Escreva um algoritmo que leia e mostre um vetor de 20 elementos inteiros. a seguir, conte quantos valores pares existem no vetor"
   ]
  },
  {
   "cell_type": "code",
   "execution_count": 25,
   "metadata": {},
   "outputs": [],
   "source": [
    "v4 = gen_vetor(20)"
   ]
  },
  {
   "cell_type": "markdown",
   "metadata": {},
   "source": [
    "#### 3. Escreva um algoritmo que leia e mostre um vetor de 20 elementos inteiros. a seguir, conte quantos valores pares existem no vetor"
   ]
  },
  {
   "cell_type": "code",
   "execution_count": 39,
   "metadata": {},
   "outputs": [
    {
     "name": "stdout",
     "output_type": "stream",
     "text": [
      "Vetor: [21, 36, 45, 8, 41, 91, 5, 71, 69, 74, 26, 7, 29, 51, 65, 69, 92, 72, 15, 43]\n"
     ]
    },
    {
     "data": {
      "text/plain": [
       "6"
      ]
     },
     "execution_count": 39,
     "metadata": {},
     "output_type": "execute_result"
    }
   ],
   "source": [
    "def count_par(v):\n",
    "    print(f'Vetor: {v}')\n",
    "    c_par = [True for elem in v if elem%2 == 0]\n",
    "    return sum(c_par)\n",
    "count_par(v4)"
   ]
  },
  {
   "cell_type": "markdown",
   "metadata": {},
   "source": [
    "#### 4. Escreva um algoritmo que leia um vetor de 10 posições e mostre-o ordenado em ordem crescente utilizando o método BubleSort. Escreva a quantidade de comparações que foram realizadas"
   ]
  },
  {
   "cell_type": "code",
   "execution_count": 48,
   "metadata": {},
   "outputs": [
    {
     "data": {
      "text/plain": [
       "[9, 1, 24, 57, 78, 92, 97, 51, 16, 27]"
      ]
     },
     "execution_count": 48,
     "metadata": {},
     "output_type": "execute_result"
    }
   ],
   "source": [
    "v5 = gen_vetor(10)"
   ]
  },
  {
   "cell_type": "code",
   "execution_count": 52,
   "metadata": {},
   "outputs": [
    {
     "name": "stdout",
     "output_type": "stream",
     "text": [
      "No compacoes: 90\n"
     ]
    },
    {
     "data": {
      "text/plain": [
       "[1, 9, 16, 24, 27, 51, 57, 78, 92, 97]"
      ]
     },
     "execution_count": 52,
     "metadata": {},
     "output_type": "execute_result"
    }
   ],
   "source": [
    "def bubble_sort(v):\n",
    "    ncomp = 0\n",
    "    for elem in v:\n",
    "        for i in range(len(v)-1):\n",
    "            ncomp+=1\n",
    "            if v[i] > v[i+1]:\n",
    "                v[i], v[i+1] = v[i+1], v[i]\n",
    "    print(f'No compacoes: {ncomp}')\n",
    "    return v\n",
    "bubble_sort(v5)"
   ]
  },
  {
   "cell_type": "markdown",
   "metadata": {},
   "source": [
    "#### 5. Escreva um algoritmo que leia um vetor de 10 posições e mostre-o ordenado em ordem crescente utilizando o método SelectionSort. Escreva a quantidade de comparações que foram realizadas."
   ]
  },
  {
   "cell_type": "code",
   "execution_count": 174,
   "metadata": {
    "scrolled": true
   },
   "outputs": [
    {
     "data": {
      "text/plain": [
       "[43, 46, 27, 29, 41, 95, 59, 97, 80, 17]"
      ]
     },
     "execution_count": 174,
     "metadata": {},
     "output_type": "execute_result"
    }
   ],
   "source": [
    "v6 = gen_vetor(10)"
   ]
  },
  {
   "cell_type": "code",
   "execution_count": 176,
   "metadata": {},
   "outputs": [
    {
     "name": "stdout",
     "output_type": "stream",
     "text": [
      "No comparacoes: 45\n"
     ]
    },
    {
     "data": {
      "text/plain": [
       "[17, 27, 41, 29, 43, 46, 59, 80, 95, 97]"
      ]
     },
     "execution_count": 176,
     "metadata": {},
     "output_type": "execute_result"
    }
   ],
   "source": [
    "def selection_sort(v):\n",
    "    ncomp = 0\n",
    "    for elem in range(len(v)):\n",
    "        idxmin = elem\n",
    "        for i in range(elem+1, len(v)):\n",
    "            ncomp+=1\n",
    "            if v[idxmin] > v[i]:\n",
    "                idxmin = i\n",
    "            v[elem], v[idxmin] = v[idxmin], v[elem]\n",
    "    print(f'No comparacoes: {ncomp}')\n",
    "    return v\n",
    "selection_sort(v6)"
   ]
  },
  {
   "cell_type": "markdown",
   "metadata": {},
   "source": [
    "#### 6. Escreva um algoritmo que leia um vetor de 10 posições e mostre- o. Em seguida, troque o primeiro elemento com o último, o segundo com o penúltimo, o terceiro com o antepenúltimo, e assim sucessivamente. Mostre o novo vetor depois da troca. "
   ]
  },
  {
   "cell_type": "code",
   "execution_count": 183,
   "metadata": {},
   "outputs": [],
   "source": [
    "v7 = gen_vetor(10)"
   ]
  },
  {
   "cell_type": "code",
   "execution_count": 192,
   "metadata": {},
   "outputs": [
    {
     "name": "stdout",
     "output_type": "stream",
     "text": [
      "[20, 44, 46, 94, 95, 65, 5, 74, 93, 68]\n",
      "20, 68\n",
      "44, 93\n",
      "46, 74\n",
      "94, 5\n",
      "95, 65\n",
      "95, 65\n",
      "94, 5\n",
      "46, 74\n",
      "44, 93\n",
      "20, 68\n",
      "[20, 44, 46, 94, 95, 65, 5, 74, 93, 68]\n"
     ]
    },
    {
     "data": {
      "text/plain": [
       "[20, 44, 46, 94, 95, 65, 5, 74, 93, 68]"
      ]
     },
     "execution_count": 192,
     "metadata": {},
     "output_type": "execute_result"
    }
   ],
   "source": [
    "def weird_sort(v):\n",
    "    x = v\n",
    "    print(f'{v}')\n",
    "    for i in range(len(x)):\n",
    "        print(f'{x[i]}, {x[-(i+1)]}')\n",
    "        aux = x[i]\n",
    "        x[i] = x[-(i+1)]\n",
    "        x[-(i+1)] = aux\n",
    "    print(f'{x}')\n",
    "    return x\n",
    "weird_sort(v7)"
   ]
  },
  {
   "cell_type": "markdown",
   "metadata": {},
   "source": [
    "#### 7. Escreva um algoritmo que leia um vetor de 10 posições de números inteiros e mostre somente os positivos. "
   ]
  },
  {
   "cell_type": "code",
   "execution_count": 202,
   "metadata": {},
   "outputs": [],
   "source": [
    "v8 = [-1, -3, -5, -35, 54, 66, 78, 92, 13, 24]"
   ]
  },
  {
   "cell_type": "code",
   "execution_count": 209,
   "metadata": {},
   "outputs": [
    {
     "data": {
      "text/plain": [
       "[54, 66, 78, 92, 13, 24]"
      ]
     },
     "execution_count": 209,
     "metadata": {},
     "output_type": "execute_result"
    }
   ],
   "source": [
    "def count_gr0(v):\n",
    "    return [x for x in v if x > 0]\n",
    "count_gr0(v8)"
   ]
  },
  {
   "cell_type": "markdown",
   "metadata": {},
   "source": [
    "#### 8. Escreva um algoritmo que leia um vetor de 80 elementos inteiros. Encontre e mostre o menor elemento e sua posição no vetor. "
   ]
  },
  {
   "cell_type": "code",
   "execution_count": 211,
   "metadata": {},
   "outputs": [
    {
     "name": "stdout",
     "output_type": "stream",
     "text": [
      "[21, 58, 92, 6, 18, 16, 92, 59, 68, 30, 84, 58, 15, 85, 61, 69, 26, 51, 37, 62, 85, 54, 75, 98, 8, 68, 63, 30, 64, 58, 1, 62, 75, 14, 7, 91, 76, 15, 10, 13, 93, 25, 98, 98, 77, 94, 56, 25, 62, 4, 92, 22, 3, 0, 43, 60, 23, 34, 93, 71, 14, 59, 27, 21, 4, 56, 98, 29, 11, 57, 72, 46, 4, 59, 30, 16, 7, 79, 1, 53]\n"
     ]
    }
   ],
   "source": [
    "v9 = gen_vetor(80)"
   ]
  },
  {
   "cell_type": "code",
   "execution_count": 215,
   "metadata": {},
   "outputs": [
    {
     "data": {
      "text/plain": [
       "(0, 53)"
      ]
     },
     "execution_count": 215,
     "metadata": {},
     "output_type": "execute_result"
    }
   ],
   "source": [
    "def menor(v):\n",
    "    x = (v[0], 0)\n",
    "    for i, elem in enumerate(v):\n",
    "        if elem < x[0]:\n",
    "            x = (elem, i)\n",
    "    return x\n",
    "menor(v9)"
   ]
  },
  {
   "cell_type": "markdown",
   "metadata": {},
   "source": [
    "#### 9. Escrever um algoritmo que lê 2 vetores de tamanho 10 e os escreve. Crie, a seguir, um vetor de 20 posições que contenha os elementos dos outros 2 vetores em ordem crescente. "
   ]
  },
  {
   "cell_type": "code",
   "execution_count": 217,
   "metadata": {},
   "outputs": [
    {
     "name": "stdout",
     "output_type": "stream",
     "text": [
      "[5, 97, 95, 80, 19, 51, 81, 41, 55, 12]\n",
      "[59, 69, 61, 36, 43, 71, 53, 61, 11, 96]\n"
     ]
    }
   ],
   "source": [
    "v10 = gen_vetor(10)\n",
    "v11 = gen_vetor(10)"
   ]
  },
  {
   "cell_type": "code",
   "execution_count": 220,
   "metadata": {},
   "outputs": [
    {
     "name": "stdout",
     "output_type": "stream",
     "text": [
      "No compacoes: 380\n"
     ]
    },
    {
     "data": {
      "text/plain": [
       "[5, 11, 12, 19, 36, 41, 43, 51, 53, 55, 59, 61, 61, 69, 71, 80, 81, 95, 96, 97]"
      ]
     },
     "execution_count": 220,
     "metadata": {},
     "output_type": "execute_result"
    }
   ],
   "source": [
    "v12 = v10+v11\n",
    "bubble_sort(v12)"
   ]
  },
  {
   "cell_type": "markdown",
   "metadata": {},
   "source": [
    "#### 10. Escrever um algoritmo que lê 2 vetores X(10) e Y(10) e os escreve. Crie, a seguir, um vetor Z que seja\n",
    "    a) a união de X com Y;\n",
    "    b) a diferença entre X e Y;\n",
    "    c) a soma entre X e Y;\n",
    "    d) o produto entre X e Y;\n",
    "    e) a intersecção entre X e Y.\n",
    "    Escreva o vetor Z a cada cálculo."
   ]
  },
  {
   "cell_type": "code",
   "execution_count": 221,
   "metadata": {},
   "outputs": [
    {
     "name": "stdout",
     "output_type": "stream",
     "text": [
      "[92, 54, 46, 85, 8, 19, 52, 90, 45, 49]\n",
      "[92, 55, 64, 33, 89, 57, 47, 44, 50, 73]\n"
     ]
    }
   ],
   "source": [
    "v13 = gen_vetor(10)\n",
    "v14 = gen_vetor(10)"
   ]
  },
  {
   "cell_type": "code",
   "execution_count": 231,
   "metadata": {},
   "outputs": [],
   "source": [
    "def sum_v(v1, v2):\n",
    "    '''soma dois vetores'''\n",
    "    vpv = []\n",
    "    for vv1, vv2 in zip(v1, v2):\n",
    "        vpv.append(vv1+vv2)\n",
    "    print(f'V+V = {vpv}')\n",
    "    return vpv\n",
    "\n",
    "def diff_v(v1, v2):\n",
    "    '''soma dois vetores'''\n",
    "    vmv = []\n",
    "    for vv1, vv2 in zip(v1, v2):\n",
    "        vmv.append(vv1-vv2)\n",
    "    print(f'V+V = {vmv}')\n",
    "    return vmv"
   ]
  },
  {
   "cell_type": "code",
   "execution_count": 236,
   "metadata": {},
   "outputs": [
    {
     "name": "stdout",
     "output_type": "stream",
     "text": [
      "V+V = [0, -1, -18, 52, -81, -38, 5, 46, -5, -24]\n",
      "V+V = [184, 109, 110, 118, 97, 76, 99, 134, 95, 122]\n",
      "V*V = [8464, 2970, 2944, 2805, 712, 1083, 2444, 3960, 2250, 3577]\n"
     ]
    }
   ],
   "source": [
    "za = v13+v14\n",
    "zb = diff_v(v13, v14)\n",
    "zc = sum_v(v13, v14)\n",
    "zd = vxv(v13, v14)\n",
    "ze = v13[v13 in v14]"
   ]
  },
  {
   "cell_type": "code",
   "execution_count": 238,
   "metadata": {},
   "outputs": [
    {
     "name": "stdout",
     "output_type": "stream",
     "text": [
      "Respostas\n",
      "a) [92, 54, 46, 85, 8, 19, 52, 90, 45, 49, 92, 55, 64, 33, 89, 57, 47, 44, 50, 73]\n",
      "b) [0, -1, -18, 52, -81, -38, 5, 46, -5, -24]\n",
      "c) [184, 109, 110, 118, 97, 76, 99, 134, 95, 122]\n",
      "d) [8464, 2970, 2944, 2805, 712, 1083, 2444, 3960, 2250, 3577]\n",
      "e) 92\n"
     ]
    }
   ],
   "source": [
    "print('Respostas')\n",
    "print(f'a) {za}\\nb) {zb}\\nc) {zc}\\nd) {zd}\\ne) {ze}')"
   ]
  },
  {
   "cell_type": "markdown",
   "metadata": {},
   "source": [
    "#### 11. Escrever um algoritmo que lê um vetor X(20) e o escreve. Escreva, a seguir, cada um dos valores distintos que aparecem em X dizendo quantas vezes cada valor aparece em X. "
   ]
  },
  {
   "cell_type": "code",
   "execution_count": 5,
   "metadata": {},
   "outputs": [
    {
     "name": "stdout",
     "output_type": "stream",
     "text": [
      "[41, 16, 39, 6, 86, 78, 6, 70, 69, 54, 36, 93, 29, 68, 29, 34, 29, 72, 29, 19]\n"
     ]
    }
   ],
   "source": [
    "v15 = gen_vetor(20)"
   ]
  },
  {
   "cell_type": "code",
   "execution_count": 8,
   "metadata": {},
   "outputs": [
    {
     "data": {
      "text/plain": [
       "{(6, 2),\n",
       " (16, 1),\n",
       " (19, 1),\n",
       " (29, 4),\n",
       " (34, 1),\n",
       " (36, 1),\n",
       " (39, 1),\n",
       " (41, 1),\n",
       " (54, 1),\n",
       " (68, 1),\n",
       " (69, 1),\n",
       " (70, 1),\n",
       " (72, 1),\n",
       " (78, 1),\n",
       " (86, 1),\n",
       " (93, 1)}"
      ]
     },
     "execution_count": 8,
     "metadata": {},
     "output_type": "execute_result"
    }
   ],
   "source": [
    "def count_unique(v):\n",
    "    unique = set()\n",
    "    for elem in v:\n",
    "        counts = v.count(elem)\n",
    "        unique.add((elem, counts))\n",
    "    return unique\n",
    "count_unique(v15)"
   ]
  },
  {
   "cell_type": "markdown",
   "metadata": {},
   "source": [
    "#### 12. Faça um algoritmo que gere a seguinte matriz:\n",
    "    1 1 1 1 1 1\n",
    "    1 2 2 2 2 1\n",
    "    1 2 3 3 2 1\n",
    "    1 2 3 3 2 1\n",
    "    1 2 2 2 2 1\n",
    "    1 1 1 1 1 1"
   ]
  },
  {
   "cell_type": "code",
   "execution_count": 277,
   "metadata": {},
   "outputs": [
    {
     "data": {
      "text/plain": [
       "[[1, 1, 1, 1, 1, 1],\n",
       " [1, 2, 2, 2, 2, 1],\n",
       " [1, 2, 3, 3, 2, 1],\n",
       " [1, 2, 3, 3, 2, 1],\n",
       " [1, 2, 2, 2, 2, 1],\n",
       " [1, 1, 1, 1, 1, 1]]"
      ]
     },
     "execution_count": 277,
     "metadata": {},
     "output_type": "execute_result"
    }
   ],
   "source": [
    "def gen_matrix():\n",
    "    matrix = []\n",
    "    for nrow in range(6):\n",
    "        row = []\n",
    "        if nrow in [0, 5]:\n",
    "            for ncol in range(6):\n",
    "                row.append(1)\n",
    "        elif nrow in [1, 4]:\n",
    "            for ncol in range(6):\n",
    "                if ncol in [0, 5]:\n",
    "                    row.append(1)\n",
    "                else:\n",
    "                    row.append(2)\n",
    "        else:\n",
    "            for ncol in range(6):\n",
    "                if ncol in [2, 3]:\n",
    "                    row.append(3)\n",
    "                elif ncol in [1, 4]:\n",
    "                    row.append(2)\n",
    "                else:\n",
    "                    row.append(1)\n",
    "        matrix.append(row)\n",
    "    return matrix\n",
    "a = gen_matrix()\n",
    "a"
   ]
  }
 ],
 "metadata": {
  "kernelspec": {
   "display_name": "Python 3",
   "language": "python",
   "name": "python3"
  },
  "language_info": {
   "codemirror_mode": {
    "name": "ipython",
    "version": 3
   },
   "file_extension": ".py",
   "mimetype": "text/x-python",
   "name": "python",
   "nbconvert_exporter": "python",
   "pygments_lexer": "ipython3",
   "version": "3.8.6"
  },
  "varInspector": {
   "cols": {
    "lenName": 16,
    "lenType": 16,
    "lenVar": 40
   },
   "kernels_config": {
    "python": {
     "delete_cmd_postfix": "",
     "delete_cmd_prefix": "del ",
     "library": "var_list.py",
     "varRefreshCmd": "print(var_dic_list())"
    },
    "r": {
     "delete_cmd_postfix": ") ",
     "delete_cmd_prefix": "rm(",
     "library": "var_list.r",
     "varRefreshCmd": "cat(var_dic_list()) "
    }
   },
   "types_to_exclude": [
    "module",
    "function",
    "builtin_function_or_method",
    "instance",
    "_Feature"
   ],
   "window_display": false
  }
 },
 "nbformat": 4,
 "nbformat_minor": 4
}
