{
 "cells": [
  {
   "cell_type": "code",
   "execution_count": 19,
   "metadata": {},
   "outputs": [],
   "source": [
    "from random import randrange"
   ]
  },
  {
   "cell_type": "markdown",
   "metadata": {},
   "source": [
    "#### 1. Faça uma função que recebe por parâmetro o raio de uma esfera e calcula o seu volume \n",
    "    v = 4*PI*R3/ 3"
   ]
  },
  {
   "cell_type": "code",
   "execution_count": null,
   "metadata": {},
   "outputs": [],
   "source": []
  },
  {
   "cell_type": "markdown",
   "metadata": {},
   "source": [
    "#### 2. Faça uma função que recebe, por parâmetro, a altura (alt) e o sexo de uma pessoa e retorna o seu peso ideal. Para homens, calcular o peso ideal usando a fórmula peso ideal = 72.7 x alt - 58 e, para mulheres, peso ideal = 62.1 x alt - 44.7."
   ]
  },
  {
   "cell_type": "code",
   "execution_count": null,
   "metadata": {},
   "outputs": [],
   "source": [
    "def ex2(alt, sexo):\n",
    "    if sexo == 'M':\n",
    "        return (72.7 * alt) - 58\n",
    "    elif sexo == 'F':\n",
    "        return (62.1*alt) - 44.7\n",
    "    else:\n",
    "        return 'Sexo invalido'"
   ]
  },
  {
   "cell_type": "markdown",
   "metadata": {},
   "source": [
    "#### 3. Faça uma função que recebe por parâmetro o tempo de duração de uma fábrica expressa em segundos e retorna também por parâmetro esse tempo em horas, minutos e segundos. "
   ]
  },
  {
   "cell_type": "code",
   "execution_count": null,
   "metadata": {},
   "outputs": [],
   "source": [
    "def ex3(time):\n",
    "    return str(timedelta(seconds=time))\n",
    "\n",
    "def ex3_2(time):\n",
    "    return strftime('%H:%M:%S', gmtime(time))"
   ]
  },
  {
   "cell_type": "code",
   "execution_count": 29,
   "metadata": {},
   "outputs": [],
   "source": [
    "def ex33(t):\n",
    "    days = (t//86400)\n",
    "    hours = (t//3600)-(days*24)\n",
    "    seconds = (t%60)\n",
    "    minutes = ((t%3600)-seconds)//60\n",
    "    return days, hours, minutes, seconds"
   ]
  },
  {
   "cell_type": "code",
   "execution_count": 31,
   "metadata": {},
   "outputs": [
    {
     "data": {
      "text/plain": [
       "(0, 0, 56, 40)"
      ]
     },
     "execution_count": 31,
     "metadata": {},
     "output_type": "execute_result"
    }
   ],
   "source": [
    "t = 3400\n",
    "ex33(t)"
   ]
  },
  {
   "cell_type": "markdown",
   "metadata": {},
   "source": [
    "#### 4. Escreva um função que recebe as 3 notas de um aluno por parâmetro e uma letra. Se a letra for A o função calcula a média aritmética das notas do aluno, se for P, a sua média ponderada (pesos: 5, 3 e 2) e se for H, a sua média harmônica. A média calculada também deve retornar por parâmetro."
   ]
  },
  {
   "cell_type": "code",
   "execution_count": null,
   "metadata": {},
   "outputs": [],
   "source": [
    "def ex4(nota1, nota2, nota3, op):\n",
    "    if op == 'A':\n",
    "        return (nota1+nota2+nota3)/3\n",
    "    elif op == 'P':\n",
    "        return ((nota1*0.5)+(nota2*0.3)+(nota3*0.2))/3\n",
    "    elif op == 'H':\n",
    "        return 3/((1/nota1)+(1/nota2)+(1/nota3))\n",
    "    else:\n",
    "        return 'Op inval'"
   ]
  },
  {
   "cell_type": "markdown",
   "metadata": {},
   "source": [
    "#### 5. Faça uma função que recebe por parâmetro um valor inteiro e positivo e retorna o valor lógico Verdadeiro caso o valor seja primo e Falso em caso contrário. "
   ]
  },
  {
   "cell_type": "code",
   "execution_count": null,
   "metadata": {},
   "outputs": [],
   "source": [
    "def ex5(value):\n",
    "    if value < 0:\n",
    "        return 'Num <= 0'\n",
    "    for n in range(2, value):\n",
    "        if value % n == 0:\n",
    "            return 'Num n primo'\n",
    "    return 'Num primo'\n",
    "\n",
    "def ex5_2(value):\n",
    "    if value < 0:\n",
    "        return 'Num <= 0'\n",
    "    c = 1\n",
    "    for n in range(1, value):\n",
    "        if value % n == 0:\n",
    "            c += 1\n",
    "            if c > 2:\n",
    "                return 'Num n primo'\n",
    "    return 'Num primo'"
   ]
  },
  {
   "cell_type": "markdown",
   "metadata": {},
   "source": [
    "#### 6. Faça uma função que recebe a idade de uma pessoa em anos, meses e dias e retorna essa idade expressa em dias."
   ]
  },
  {
   "cell_type": "code",
   "execution_count": 1,
   "metadata": {},
   "outputs": [],
   "source": [
    "def ex6(ano, mes, dia):\n",
    "    # o 30.41 eh 365/12, qtd de dias media em um mes\n",
    "    return ano*365 + mes*30.41 + dia"
   ]
  },
  {
   "cell_type": "markdown",
   "metadata": {},
   "source": [
    "#### 7. Faça um função que recebe a idade de um nadador por parâmetro e retorne a categoria desse nadador de acordo com a tabela abaixo: \n",
    "    Idade                Categoria\n",
    "    5 a 7 anos           Infantil A\n",
    "    8 a 10 anos          Infantil B\n",
    "    11-13 anos           Juvenil A\n",
    "    14-17 anos           Juvenil B\n",
    "    Maiores de 18 anos   Adulto\n",
    "    (inclusive)"
   ]
  },
  {
   "cell_type": "code",
   "execution_count": null,
   "metadata": {},
   "outputs": [],
   "source": [
    "def ex7(idade):\n",
    "    if idade >= 5 and idade <= 7:\n",
    "        return 'Infantil A'\n",
    "    elif idade >= 8 and idade <= 10:\n",
    "        return 'Infantil B'\n",
    "    elif idade >= 11 and idade <= 13:\n",
    "        return 'Juvenil A'\n",
    "    elif idade >= 14 and idade <= 17:\n",
    "        return 'Juvenil B'\n",
    "    else:\n",
    "        return 'Adulto'"
   ]
  },
  {
   "cell_type": "markdown",
   "metadata": {},
   "source": [
    "#### 8. Faça uma função que recebe um valor inteiro e verifica se o valor é positivo ou negativo. A função deve retornar um valor booleano. "
   ]
  },
  {
   "cell_type": "code",
   "execution_count": 32,
   "metadata": {},
   "outputs": [],
   "source": [
    "def ex8(value):\n",
    "    return value > 0\n",
    "\n",
    "def ex8_2(value):\n",
    "    if value >= 0: return True\n",
    "    else: return False"
   ]
  },
  {
   "cell_type": "markdown",
   "metadata": {},
   "source": [
    "#### 9. Faça uma função que recebe um valor inteiro e verifica se o valor é par ou ímpar. A função deve retornar um valor booleano. "
   ]
  },
  {
   "cell_type": "code",
   "execution_count": 40,
   "metadata": {},
   "outputs": [],
   "source": [
    "def ex9(value):\n",
    "    return value % 2 == 0\n",
    "\n",
    "def ex9_2(value):\n",
    "    if value % 2 == 0: return True # true = par\n",
    "    else: return False # false = impar"
   ]
  },
  {
   "cell_type": "markdown",
   "metadata": {},
   "source": [
    "#### 10. Faça uma função que recebe a média final de um aluno por parâmetro e retorna o seu conceito, conforme a tabela abaixo: \n",
    "    Nota           Conceito\n",
    "    de 0,0 a 4,9   D\n",
    "    de 5,0 a 6,9   C\n",
    "    de 7,0 a 8,9   B\n",
    "    de 9,0 a 10,0  A"
   ]
  },
  {
   "cell_type": "code",
   "execution_count": null,
   "metadata": {},
   "outputs": [],
   "source": [
    "def ex10(media):\n",
    "    if 0 <= media <= 4.9:\n",
    "        return 'D'\n",
    "    elif 5 <= media <= 6.9:\n",
    "        return 'C'\n",
    "    elif 7 <= media <= 8.9:\n",
    "        return 'B'\n",
    "    elif 9 <= media <= 10:\n",
    "        return 'A'\n",
    "    else:\n",
    "        return 'Media invalida'"
   ]
  },
  {
   "cell_type": "markdown",
   "metadata": {},
   "source": [
    "#### 11. Faça um função que recebe 3 valores inteiros por parâmetro e retorna-os ordenados em ordem crescente. "
   ]
  },
  {
   "cell_type": "code",
   "execution_count": 15,
   "metadata": {},
   "outputs": [],
   "source": [
    "def ex11(value0, value1, value2):  # kwargs?\n",
    "    return sorted([value0, value1, value2])\n",
    "\n",
    "def ex11_2(value0, value1, value2):\n",
    "    presort = [value0, value1, value2]\n",
    "    # bubblesort secreto\n",
    "    for n in range(len(presort)):\n",
    "        for i in range(len(presort)-1):\n",
    "            if presort[i] > presort[i+1]:\n",
    "                presort[i+1], presort[i] = presort[i], presort[i+1]\n",
    "    return presort"
   ]
  },
  {
   "cell_type": "code",
   "execution_count": 16,
   "metadata": {
    "scrolled": true
   },
   "outputs": [
    {
     "data": {
      "text/plain": [
       "[21, 23, 32]"
      ]
     },
     "execution_count": 16,
     "metadata": {},
     "output_type": "execute_result"
    }
   ],
   "source": [
    "ex11_2(32, 23, 21)"
   ]
  },
  {
   "cell_type": "markdown",
   "metadata": {},
   "source": [
    "#### 12. Faça uma função que receba um valor inteiro e positivo e calcula o seu fatorial."
   ]
  },
  {
   "cell_type": "code",
   "execution_count": 17,
   "metadata": {},
   "outputs": [],
   "source": [
    "def ex12(value):\n",
    "    fact = 1\n",
    "    for n in range(1, value+1):\n",
    "        fact *= n\n",
    "    return fact"
   ]
  },
  {
   "cell_type": "markdown",
   "metadata": {},
   "source": [
    "#### 13. Faça um função que lê 50 valores inteiros e retorna o maior e o menor deles. "
   ]
  },
  {
   "cell_type": "code",
   "execution_count": 27,
   "metadata": {},
   "outputs": [],
   "source": [
    "def ex13():\n",
    "#     values = []\n",
    "#     for i in range(0, 50):\n",
    "#         try:\n",
    "#             values.append(int(input(f'Numero {i+1}: ')))\n",
    "#         except ValueError:\n",
    "#             print('Valor invalido')\n",
    "#             continue\n",
    "\n",
    "    # pra facilitar, ao inves de fazer 50 inputs\n",
    "    values = [randrange(1, 100) for n in range(1, 50)]\n",
    "    print(values)\n",
    "    print(f'Maior: {max(values)}; Menor: {min(values)}')\n",
    "    return max(values), min(values)\n",
    "\n",
    "def ex13_2():\n",
    "    # pra facilitar, ao inves de fazer 50 inputs\n",
    "    values = [randrange(1, 100) for n in range(1, 50)]\n",
    "    maior, menor = values[0], values[0]\n",
    "    for value in values:\n",
    "        if value < menor:\n",
    "            menor = value\n",
    "        if value > maior:\n",
    "            maior = value\n",
    "    print(values)\n",
    "    print(f'Maior: {maior}; Menor: {menor}')\n",
    "    return maior, menor"
   ]
  },
  {
   "cell_type": "code",
   "execution_count": 28,
   "metadata": {
    "collapsed": true
   },
   "outputs": [
    {
     "name": "stdout",
     "output_type": "stream",
     "text": [
      "[48, 87, 19, 88, 18, 51, 29, 21, 60, 82, 41, 10, 68, 65, 21, 25, 94, 70, 8, 38, 99, 85, 27, 96, 43, 49, 26, 87, 70, 58, 53, 88, 6, 77, 19, 68, 84, 6, 16, 86, 22, 55, 82, 57, 65, 75, 23, 60, 1]\n",
      "Maior: 99; Menor: 1\n",
      "[2, 18, 66, 11, 75, 53, 82, 44, 64, 33, 93, 3, 67, 95, 40, 57, 63, 60, 27, 66, 29, 87, 64, 7, 21, 89, 20, 17, 76, 12, 42, 27, 69, 71, 88, 85, 91, 56, 99, 10, 20, 59, 79, 21, 56, 42, 56, 24, 61]\n",
      "Maior: 99; Menor: 2\n"
     ]
    },
    {
     "data": {
      "text/plain": [
       "(99, 2)"
      ]
     },
     "execution_count": 28,
     "metadata": {},
     "output_type": "execute_result"
    }
   ],
   "source": [
    "ex13()\n",
    "ex13_2()"
   ]
  },
  {
   "cell_type": "markdown",
   "metadata": {},
   "source": [
    "#### 14. Faça um função que recebe por parâmetro um valor N e calcule tabuada de 1 até N. Mostre a tabuada na forma: 1 x N = N "
   ]
  },
  {
   "cell_type": "code",
   "execution_count": 47,
   "metadata": {},
   "outputs": [],
   "source": [
    "def ex14(value):\n",
    "    tabuadas = {}\n",
    "    tabuada = []\n",
    "    for i in range(1, value+1):\n",
    "        print(f'Tabuada do {i}')\n",
    "        for n in range(1, 11):\n",
    "            print(f'{i}x{n} = {i*n}')\n",
    "            tabuada.append(f'{i}x{n} = {i*n}')\n",
    "        tabuadas[i] = tabuada\n",
    "        tabuada = []\n",
    "        print('\\n')\n",
    "    return tabuadas"
   ]
  },
  {
   "cell_type": "code",
   "execution_count": 48,
   "metadata": {},
   "outputs": [
    {
     "name": "stdout",
     "output_type": "stream",
     "text": [
      "Tabuada do 1\n",
      "1x1 = 1\n",
      "1x2 = 2\n",
      "1x3 = 3\n",
      "1x4 = 4\n",
      "1x5 = 5\n",
      "1x6 = 6\n",
      "1x7 = 7\n",
      "1x8 = 8\n",
      "1x9 = 9\n",
      "1x10 = 10\n",
      "\n",
      "\n",
      "Tabuada do 2\n",
      "2x1 = 2\n",
      "2x2 = 4\n",
      "2x3 = 6\n",
      "2x4 = 8\n",
      "2x5 = 10\n",
      "2x6 = 12\n",
      "2x7 = 14\n",
      "2x8 = 16\n",
      "2x9 = 18\n",
      "2x10 = 20\n",
      "\n",
      "\n",
      "Tabuada do 3\n",
      "3x1 = 3\n",
      "3x2 = 6\n",
      "3x3 = 9\n",
      "3x4 = 12\n",
      "3x5 = 15\n",
      "3x6 = 18\n",
      "3x7 = 21\n",
      "3x8 = 24\n",
      "3x9 = 27\n",
      "3x10 = 30\n",
      "\n",
      "\n",
      "Tabuada do 4\n",
      "4x1 = 4\n",
      "4x2 = 8\n",
      "4x3 = 12\n",
      "4x4 = 16\n",
      "4x5 = 20\n",
      "4x6 = 24\n",
      "4x7 = 28\n",
      "4x8 = 32\n",
      "4x9 = 36\n",
      "4x10 = 40\n",
      "\n",
      "\n",
      "Tabuada do 5\n",
      "5x1 = 5\n",
      "5x2 = 10\n",
      "5x3 = 15\n",
      "5x4 = 20\n",
      "5x5 = 25\n",
      "5x6 = 30\n",
      "5x7 = 35\n",
      "5x8 = 40\n",
      "5x9 = 45\n",
      "5x10 = 50\n",
      "\n",
      "\n"
     ]
    },
    {
     "data": {
      "text/plain": [
       "{1: ['1x1 = 1',\n",
       "  '1x2 = 2',\n",
       "  '1x3 = 3',\n",
       "  '1x4 = 4',\n",
       "  '1x5 = 5',\n",
       "  '1x6 = 6',\n",
       "  '1x7 = 7',\n",
       "  '1x8 = 8',\n",
       "  '1x9 = 9',\n",
       "  '1x10 = 10'],\n",
       " 2: ['2x1 = 2',\n",
       "  '2x2 = 4',\n",
       "  '2x3 = 6',\n",
       "  '2x4 = 8',\n",
       "  '2x5 = 10',\n",
       "  '2x6 = 12',\n",
       "  '2x7 = 14',\n",
       "  '2x8 = 16',\n",
       "  '2x9 = 18',\n",
       "  '2x10 = 20'],\n",
       " 3: ['3x1 = 3',\n",
       "  '3x2 = 6',\n",
       "  '3x3 = 9',\n",
       "  '3x4 = 12',\n",
       "  '3x5 = 15',\n",
       "  '3x6 = 18',\n",
       "  '3x7 = 21',\n",
       "  '3x8 = 24',\n",
       "  '3x9 = 27',\n",
       "  '3x10 = 30'],\n",
       " 4: ['4x1 = 4',\n",
       "  '4x2 = 8',\n",
       "  '4x3 = 12',\n",
       "  '4x4 = 16',\n",
       "  '4x5 = 20',\n",
       "  '4x6 = 24',\n",
       "  '4x7 = 28',\n",
       "  '4x8 = 32',\n",
       "  '4x9 = 36',\n",
       "  '4x10 = 40'],\n",
       " 5: ['5x1 = 5',\n",
       "  '5x2 = 10',\n",
       "  '5x3 = 15',\n",
       "  '5x4 = 20',\n",
       "  '5x5 = 25',\n",
       "  '5x6 = 30',\n",
       "  '5x7 = 35',\n",
       "  '5x8 = 40',\n",
       "  '5x9 = 45',\n",
       "  '5x10 = 50']}"
      ]
     },
     "execution_count": 48,
     "metadata": {},
     "output_type": "execute_result"
    }
   ],
   "source": [
    "ex14(5)"
   ]
  }
 ],
 "metadata": {
  "kernelspec": {
   "display_name": "Python 3",
   "language": "python",
   "name": "python3"
  },
  "language_info": {
   "codemirror_mode": {
    "name": "ipython",
    "version": 3
   },
   "file_extension": ".py",
   "mimetype": "text/x-python",
   "name": "python",
   "nbconvert_exporter": "python",
   "pygments_lexer": "ipython3",
   "version": "3.7.6"
  },
  "varInspector": {
   "cols": {
    "lenName": 16,
    "lenType": 16,
    "lenVar": 40
   },
   "kernels_config": {
    "python": {
     "delete_cmd_postfix": "",
     "delete_cmd_prefix": "del ",
     "library": "var_list.py",
     "varRefreshCmd": "print(var_dic_list())"
    },
    "r": {
     "delete_cmd_postfix": ") ",
     "delete_cmd_prefix": "rm(",
     "library": "var_list.r",
     "varRefreshCmd": "cat(var_dic_list()) "
    }
   },
   "types_to_exclude": [
    "module",
    "function",
    "builtin_function_or_method",
    "instance",
    "_Feature"
   ],
   "window_display": false
  }
 },
 "nbformat": 4,
 "nbformat_minor": 4
}
