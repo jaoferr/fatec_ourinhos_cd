{
 "cells": [
  {
   "cell_type": "code",
   "execution_count": 2,
   "metadata": {},
   "outputs": [],
   "source": [
    "path = r'cidades.txt'"
   ]
  },
  {
   "cell_type": "code",
   "execution_count": 70,
   "metadata": {},
   "outputs": [],
   "source": [
    "cidades = []\n",
    "\n",
    "with open(path) as file:\n",
    "    for line in file.readlines():\n",
    "        v = line.strip('\\n').split(' ')\n",
    "        cidades.append(v)"
   ]
  },
  {
   "cell_type": "markdown",
   "metadata": {},
   "source": [
    "### Grafo"
   ]
  },
  {
   "cell_type": "code",
   "execution_count": 88,
   "metadata": {},
   "outputs": [],
   "source": [
    "class grafo: \n",
    "    \n",
    "    def __init__(self, lista):\n",
    "        self.lista_raw = lista\n",
    "        self.vertices = set([vertice[0] for vertice in lista])\n",
    "        self.grafo = [[0 for col in range(len(self.vertices))] for linha in range(len(self.vertices))]\n",
    "    \n",
    "    def read_lista(self, lista):\n",
    "        \n",
    "        for i, linha in enumerate(self.vertices):\n",
    "            for j, col in enumerate(self.vertices):\n",
    "                if linha == col:\n",
    "                    self.grafo[i][j] = 0\n",
    "                else:\n",
    "                    self.grafo[i][j] = 99999\n",
    "        return\n",
    "            \n",
    "    \n",
    "    \n",
    "    def set_links_predef(self):\n",
    "        '''so pra facilitar testes, pra nao ter que ficar digitando se tem conexao entre os vertices ou nao'''\n",
    "        self.matriz = []\n",
    "        self.lista = []\n",
    "        for origem in self.vertices:\n",
    "            orig_m = []\n",
    "            orig_l = []\n",
    "            for destino in self.vertices:\n",
    "                # print(f'({origem} -> {destino})? ')\n",
    "                \n",
    "                is_linked = choice([0, 1])\n",
    "                print(f'({origem} -> {destino}) = {is_linked}')\n",
    "            \n",
    "                if is_linked == 1:\n",
    "                    orig_l.append(destino)\n",
    "                orig_m.append(is_linked)\n",
    "                \n",
    "            self.matriz.append(orig_m)\n",
    "            self.lista.append(orig_l)\n",
    "            \n",
    "    def show(self):\n",
    "        for vertice in self.grafo:\n",
    "            print(vertice)"
   ]
  },
  {
   "cell_type": "code",
   "execution_count": 90,
   "metadata": {
    "collapsed": true
   },
   "outputs": [
    {
     "name": "stdout",
     "output_type": "stream",
     "text": [
      "[0, 99999, 99999, 99999, 99999, 99999, 99999, 99999, 99999, 99999, 99999, 99999, 99999, 99999, 99999, 99999, 99999, 99999, 99999]\n",
      "[99999, 0, 99999, 99999, 99999, 99999, 99999, 99999, 99999, 99999, 99999, 99999, 99999, 99999, 99999, 99999, 99999, 99999, 99999]\n",
      "[99999, 99999, 0, 99999, 99999, 99999, 99999, 99999, 99999, 99999, 99999, 99999, 99999, 99999, 99999, 99999, 99999, 99999, 99999]\n",
      "[99999, 99999, 99999, 0, 99999, 99999, 99999, 99999, 99999, 99999, 99999, 99999, 99999, 99999, 99999, 99999, 99999, 99999, 99999]\n",
      "[99999, 99999, 99999, 99999, 0, 99999, 99999, 99999, 99999, 99999, 99999, 99999, 99999, 99999, 99999, 99999, 99999, 99999, 99999]\n",
      "[99999, 99999, 99999, 99999, 99999, 0, 99999, 99999, 99999, 99999, 99999, 99999, 99999, 99999, 99999, 99999, 99999, 99999, 99999]\n",
      "[99999, 99999, 99999, 99999, 99999, 99999, 0, 99999, 99999, 99999, 99999, 99999, 99999, 99999, 99999, 99999, 99999, 99999, 99999]\n",
      "[99999, 99999, 99999, 99999, 99999, 99999, 99999, 0, 99999, 99999, 99999, 99999, 99999, 99999, 99999, 99999, 99999, 99999, 99999]\n",
      "[99999, 99999, 99999, 99999, 99999, 99999, 99999, 99999, 0, 99999, 99999, 99999, 99999, 99999, 99999, 99999, 99999, 99999, 99999]\n",
      "[99999, 99999, 99999, 99999, 99999, 99999, 99999, 99999, 99999, 0, 99999, 99999, 99999, 99999, 99999, 99999, 99999, 99999, 99999]\n",
      "[99999, 99999, 99999, 99999, 99999, 99999, 99999, 99999, 99999, 99999, 0, 99999, 99999, 99999, 99999, 99999, 99999, 99999, 99999]\n",
      "[99999, 99999, 99999, 99999, 99999, 99999, 99999, 99999, 99999, 99999, 99999, 0, 99999, 99999, 99999, 99999, 99999, 99999, 99999]\n",
      "[99999, 99999, 99999, 99999, 99999, 99999, 99999, 99999, 99999, 99999, 99999, 99999, 0, 99999, 99999, 99999, 99999, 99999, 99999]\n",
      "[99999, 99999, 99999, 99999, 99999, 99999, 99999, 99999, 99999, 99999, 99999, 99999, 99999, 0, 99999, 99999, 99999, 99999, 99999]\n",
      "[99999, 99999, 99999, 99999, 99999, 99999, 99999, 99999, 99999, 99999, 99999, 99999, 99999, 99999, 0, 99999, 99999, 99999, 99999]\n",
      "[99999, 99999, 99999, 99999, 99999, 99999, 99999, 99999, 99999, 99999, 99999, 99999, 99999, 99999, 99999, 0, 99999, 99999, 99999]\n",
      "[99999, 99999, 99999, 99999, 99999, 99999, 99999, 99999, 99999, 99999, 99999, 99999, 99999, 99999, 99999, 99999, 0, 99999, 99999]\n",
      "[99999, 99999, 99999, 99999, 99999, 99999, 99999, 99999, 99999, 99999, 99999, 99999, 99999, 99999, 99999, 99999, 99999, 0, 99999]\n",
      "[99999, 99999, 99999, 99999, 99999, 99999, 99999, 99999, 99999, 99999, 99999, 99999, 99999, 99999, 99999, 99999, 99999, 99999, 0]\n"
     ]
    }
   ],
   "source": [
    "a = grafo(cidades)\n",
    "a.read_lista(cidades)\n",
    "a.show()"
   ]
  },
  {
   "cell_type": "markdown",
   "metadata": {},
   "source": [
    "#### Dijkstra’s"
   ]
  },
  {
   "cell_type": "code",
   "execution_count": null,
   "metadata": {},
   "outputs": [],
   "source": [
    "s = 'Bauru'\n",
    "d = 'PortoAlegre'"
   ]
  }
 ],
 "metadata": {
  "kernelspec": {
   "display_name": "Python 3",
   "language": "python",
   "name": "python3"
  },
  "language_info": {
   "codemirror_mode": {
    "name": "ipython",
    "version": 3
   },
   "file_extension": ".py",
   "mimetype": "text/x-python",
   "name": "python",
   "nbconvert_exporter": "python",
   "pygments_lexer": "ipython3",
   "version": "3.8.6"
  },
  "varInspector": {
   "cols": {
    "lenName": 16,
    "lenType": 16,
    "lenVar": 40
   },
   "kernels_config": {
    "python": {
     "delete_cmd_postfix": "",
     "delete_cmd_prefix": "del ",
     "library": "var_list.py",
     "varRefreshCmd": "print(var_dic_list())"
    },
    "r": {
     "delete_cmd_postfix": ") ",
     "delete_cmd_prefix": "rm(",
     "library": "var_list.r",
     "varRefreshCmd": "cat(var_dic_list()) "
    }
   },
   "types_to_exclude": [
    "module",
    "function",
    "builtin_function_or_method",
    "instance",
    "_Feature"
   ],
   "window_display": false
  }
 },
 "nbformat": 4,
 "nbformat_minor": 2
}
