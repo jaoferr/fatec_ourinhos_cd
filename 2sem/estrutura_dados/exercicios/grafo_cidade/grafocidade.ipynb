{
 "cells": [
  {
   "cell_type": "markdown",
   "metadata": {},
   "source": [
    "### Grafo & Dijkstra"
   ]
  },
  {
   "cell_type": "markdown",
   "metadata": {},
   "source": [
    "#### Ler linhas do txt"
   ]
  },
  {
   "cell_type": "code",
   "execution_count": null,
   "metadata": {},
   "outputs": [],
   "source": [
    "path = r'cidades.txt'\n",
    "linhas = []\n",
    "with open(path) as file:\n",
    "    for line in file.readlines():\n",
    "        v = line.strip('\\n').split(' ')\n",
    "        linhas.append(v)"
   ]
  },
  {
   "cell_type": "markdown",
   "metadata": {},
   "source": [
    "#### Grafo com o algoritmo implementado"
   ]
  },
  {
   "cell_type": "code",
   "execution_count": null,
   "metadata": {},
   "outputs": [],
   "source": [
    "class grafo: \n",
    "    \n",
    "    @staticmethod\n",
    "    def getVector(lista):\n",
    "        ''' Cria um set com todos os vertices do grafo,\n",
    "            incluindo aqueles que nao vao pra lugar nenhum'''\n",
    "        v = set()\n",
    "        for line in lista:\n",
    "            for c in line[0:2]:\n",
    "                v.add(c)\n",
    "        return v\n",
    "    \n",
    "    def getGraph(self, linhas):\n",
    "        '''Cria uma lista de adjacencias pra representar o grafo'''\n",
    "        graph = {vertice: {} for vertice in self.vertices}\n",
    "        \n",
    "        for linha in linhas:    \n",
    "            vertice = linha[0]\n",
    "            dest = linha[1]\n",
    "            distance = linha[2]\n",
    "            graph[vertice][dest] = float(distance)\n",
    "        \n",
    "        return graph\n",
    "    \n",
    "    def __init__(self, linhas):\n",
    "        self.vertices = self.getVector(linhas)\n",
    "        self.grafo = self.getGraph(linhas)\n",
    "\n",
    "    \n",
    "    def dij(self, start, end):\n",
    "        '''Algoritmo do Dijkstra, retorna o menor caminho entre os o [start] e o [end]\n",
    "        e sua distancia'''\n",
    "        unvisited = self.grafo.copy()\n",
    "        distances = {vertice: 999999 for vertice in unvisited} # distancia infinita\n",
    "        distances[start] = 0\n",
    "        last = {}  # ultimo visitado\n",
    "        path = []  # caminho completo\n",
    "\n",
    "        while unvisited:\n",
    "            current = None\n",
    "            for node in unvisited:\n",
    "                if current is None:\n",
    "                    current = node\n",
    "                elif distances[node] < distances[current]:\n",
    "                    current = node\n",
    "\n",
    "            for v, distance in self.grafo[current].items():\n",
    "                if distance + distances[current] < distances[v]:\n",
    "                    distances[v] = distance + distances[current]\n",
    "                    last[v] = current\n",
    "\n",
    "            unvisited.pop(current)\n",
    "        \n",
    "        # criacao do caminho completo\n",
    "        atual = end\n",
    "        try:\n",
    "            while atual != start:\n",
    "                path.insert(0, atual)\n",
    "                atual = last[atual]\n",
    "            path.insert(0, start)\n",
    "            print(f'Menor caminho: {path}')\n",
    "        except KeyError:\n",
    "            print(f'Nao existe um caminho de {start} a {end}')\n",
    "            path = None\n",
    "        \n",
    "        print(f'Menor distancia: {distances[end]}')\n",
    "        \n",
    "        return (path, distances[end]), [(v, d) for v, d in distances.items() if d < 999999]\n",
    "                    \n",
    "                    \n",
    "            \n",
    "a = grafo(linhas)\n",
    "# s = 'SaoRoque'\n",
    "# d = 'Ourinhos'\n",
    "s = 'PontaGrossa'\n",
    "d = 'SaoPaulo'\n",
    "a.dij(s, d)"
   ]
  }
 ],
 "metadata": {
  "kernelspec": {
   "display_name": "Python 3",
   "language": "python",
   "name": "python3"
  },
  "language_info": {
   "codemirror_mode": {
    "name": "ipython",
    "version": 3
   },
   "file_extension": ".py",
   "mimetype": "text/x-python",
   "name": "python",
   "nbconvert_exporter": "python",
   "pygments_lexer": "ipython3",
   "version": "3.8.6"
  },
  "varInspector": {
   "cols": {
    "lenName": 16,
    "lenType": 16,
    "lenVar": 40
   },
   "kernels_config": {
    "python": {
     "delete_cmd_postfix": "",
     "delete_cmd_prefix": "del ",
     "library": "var_list.py",
     "varRefreshCmd": "print(var_dic_list())"
    },
    "r": {
     "delete_cmd_postfix": ") ",
     "delete_cmd_prefix": "rm(",
     "library": "var_list.r",
     "varRefreshCmd": "cat(var_dic_list()) "
    }
   },
   "types_to_exclude": [
    "module",
    "function",
    "builtin_function_or_method",
    "instance",
    "_Feature"
   ],
   "window_display": false
  }
 },
 "nbformat": 4,
 "nbformat_minor": 2
}
